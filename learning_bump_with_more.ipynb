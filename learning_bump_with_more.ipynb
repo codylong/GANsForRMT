{
 "cells": [
  {
   "cell_type": "markdown",
   "metadata": {},
   "source": [
    "# Eigenvalue Spectrum\n",
    "\n",
    "We endeavor to understand better the eigenvalue spectrum of KS Kahler metrics, so that we might be able to learn a random matrix approximation of them that scales well with h11."
   ]
  },
  {
   "cell_type": "markdown",
   "metadata": {},
   "source": [
    "## Data import\n",
    "\n",
    "We check to make sure that the number of eigenvalues is h11, a non-trivial bug check"
   ]
  },
  {
   "cell_type": "code",
   "execution_count": 1,
   "metadata": {},
   "outputs": [
    {
     "name": "stdout",
     "output_type": "stream",
     "text": [
      "('num files', 30719)\n",
      "set([0])\n",
      "('num files after eval mismatch subtraction', 30719)\n",
      "[]\n"
     ]
    }
   ],
   "source": [
    "import os\n",
    "import cPickle as pickle\n",
    "import numpy as np\n",
    "\n",
    "files = [d for d in os.listdir('data') if d[0] == 'h' and 'evals' in d]\n",
    "print('num files', len(files))\n",
    "assert_mismatch = []\n",
    "def info_from_file(file):\n",
    "    h11 = int(file.split(\"_\")[1])\n",
    "    s = file.split(\"_\")[2]\n",
    "    poly = int(\n",
    "    s[s.index('y')+1:])\n",
    "    f = open(\"data/\"+file,'rb')\n",
    "    evals = pickle.load(f)\n",
    "    f.close()\n",
    "    to_ret = [(h11,poly),evals]\n",
    "    try:\n",
    "        assert len(evals) == h11\n",
    "    except AssertionError:\n",
    "        assert_mismatch.append(to_ret[0])\n",
    "    return to_ret\n",
    "\n",
    "raw_data = [info_from_file(file) for file in files]\n",
    "print(set([len(r[1]) - r[0][0] for r in raw_data]))\n",
    "raw_data = [r for r in raw_data if len(r[1]) - r[0][0] == 0]\n",
    "print(\"num files after eval mismatch subtraction\", len(raw_data))\n",
    "print(assert_mismatch)"
   ]
  },
  {
   "cell_type": "code",
   "execution_count": 2,
   "metadata": {},
   "outputs": [
    {
     "name": "stdout",
     "output_type": "stream",
     "text": [
      "(10, 538)\n",
      "[24.8208498  19.17904395 13.49979587 12.51346025 10.97593111  9.07219418\n",
      "  7.47524203  0.28102885  2.96938514  1.60250758]\n"
     ]
    }
   ],
   "source": [
    "print raw_data[0][0]\n",
    "print raw_data[0][1]"
   ]
  },
  {
   "cell_type": "markdown",
   "metadata": {},
   "source": [
    "## Dump evals to file"
   ]
  },
  {
   "cell_type": "code",
   "execution_count": 3,
   "metadata": {
    "collapsed": true
   },
   "outputs": [],
   "source": [
    "def dump_evals(h11):\n",
    "    evs = []\n",
    "    for r in raw_data:\n",
    "        if r[0][0] == h11:\n",
    "            evs = evs + list(r[1])\n",
    "    np.savetxt(\"h11_\"+str(h11)+\"_eigs.txt\",evs)\n",
    "\n",
    "dump_evals(10)\n",
    "dump_evals(20)\n",
    "dump_evals(30)\n",
    "dump_evals(40)\n",
    "dump_evals(50)"
   ]
  },
  {
   "cell_type": "markdown",
   "metadata": {},
   "source": [
    "## Aggregated Eigenvalue Spectra"
   ]
  },
  {
   "cell_type": "code",
   "execution_count": 3,
   "metadata": {},
   "outputs": [
    {
     "name": "stdout",
     "output_type": "stream",
     "text": [
      "[]\n",
      "[]\n"
     ]
    }
   ],
   "source": [
    "import seaborn as sns\n",
    "import matplotlib.pyplot as plt\n",
    "import pandas as pd\n",
    "import numpy as np\n",
    "\n",
    "from matplotlib import rcParams\n",
    "rcParams['figure.figsize'] = 11.7,8.27\n",
    "\n",
    "h11s, polys, evals = [], [], []\n",
    "for data in raw_data:\n",
    "    for i in range(len(data[1])):\n",
    "        h11s.append(data[0][0])\n",
    "        polys.append(data[0][1])\n",
    "        evals.append(data[1][i])\n",
    "        \n",
    "\n",
    "data = pd.DataFrame({'h11': h11s, 'evals': evals, 'log10evals': [np.log10(k) for k in evals]})\n",
    "\n",
    "print [(h11s[j], polys[j]) for j in [evals.index(k) for k in evals if k < 0]]\n",
    "\n",
    "print [k for k in evals if k < 0]"
   ]
  },
  {
   "cell_type": "markdown",
   "metadata": {},
   "source": [
    "## Check For Localization of Eigenvalues"
   ]
  },
  {
   "cell_type": "code",
   "execution_count": 4,
   "metadata": {},
   "outputs": [
    {
     "name": "stderr",
     "output_type": "stream",
     "text": [
      "/Users/cody/anaconda2/lib/python2.7/site-packages/matplotlib/axes/_axes.py:6462: UserWarning: The 'normed' kwarg is deprecated, and has been replaced by the 'density' kwarg.\n",
      "  warnings.warn(\"The 'normed' kwarg is deprecated, and has been \"\n"
     ]
    },
    {
     "data": {
      "image/png": "[encoded data removed]",
      "text/plain": [
       "<Figure size 842.4x595.44 with 1 Axes>"
      ]
     },
     "metadata": {},
     "output_type": "display_data"
    },
    {
     "data": {
      "image/png": "[encoded data removed]",
      "text/plain": [
       "<Figure size 842.4x595.44 with 1 Axes>"
      ]
     },
     "metadata": {},
     "output_type": "display_data"
    },
    {
     "data": {
      "image/png": "[encoded data removed]",
      "text/plain": [
       "<Figure size 842.4x595.44 with 1 Axes>"
      ]
     },
     "metadata": {},
     "output_type": "display_data"
    }
   ],
   "source": [
    "sortyspre = []\n",
    "for datado in raw_data:\n",
    "    if datado[0][0] == 30:\n",
    "        notlog = list(sorted(set(datado[1])))\n",
    "        sortyspre.append([np.log10(this) for this in notlog])\n",
    "sortys = np.array(sortyspre).T.tolist()\n",
    "    #for i in range(len(data[1])):\n",
    "    #    h11s.append(data[0][0])\n",
    "    #    polys.append(data[0][1])\n",
    "    #    s = set(data[1]) \n",
    "    #    mins.append(sorted(s)[pos])\n",
    "\n",
    "#datamin = pd.DataFrame({'h11': h11s, 'mins': mins, 'log10mins': [np.log10(k) for k in mins]})\n",
    "#dfmin50= datamin[datamin.h11 == 50]\n",
    "#for ii in range(len(sortys)):\n",
    "for ii in range(10):\n",
    "    #sns.distplot(sortys[ii], kde=False, label=str(ii), norm_hist = True)\n",
    "    sns.distplot(sortys[ii], kde=False, norm_hist = True)\n",
    "#sns.distplot(sortys[1], kde=False, label='1', norm_hist = True)\n",
    "#sns.distplot(sortys[2], kde=False, label='2', norm_hist = True)\n",
    "#sns.distplot(sortys[3], kde=False, label='3', norm_hist = True)\n",
    "#sns.distplot(sortys[4], kde=False, label='4', norm_hist = True)\n",
    "#sns.distplot(sortys[5], kde=False, label='5', norm_hist = True)\n",
    "#sns.distplot(sortys[6], kde=False, label='6', norm_hist = True)\n",
    "#sns.distplot(sortys[7], kde=False, label='7', norm_hist = True)\n",
    "#sns.distplot(sortys[len(sortys)-1], kde=False, label='max', norm_hist = True)\n",
    "\n",
    "plt.legend(prop={'size':12})\n",
    "plt.show()\n",
    "\n",
    "sns.distplot([item for sublist in [sortys[pp] for pp in range(len(sortys))] for item in sublist],\n",
    "             kde=False, label='0', norm_hist = False)\n",
    "plt.legend(prop={'size':12})\n",
    "plt.show()\n",
    "\n",
    "sns.distplot([item for sublist in sortys for item in sublist], kde=False, label='all', norm_hist = False)\n",
    "plt.legend(prop={'size':12})\n",
    "plt.show()"
   ]
  },
  {
   "cell_type": "code",
   "execution_count": 5,
   "metadata": {
    "collapsed": true
   },
   "outputs": [],
   "source": [
    "#We should also random sample\n"
   ]
  },
  {
   "cell_type": "code",
   "execution_count": 6,
   "metadata": {},
   "outputs": [
    {
     "data": {
      "image/png": "[encoded data removed]",
      "text/plain": [
       "<Figure size 842.4x595.44 with 1 Axes>"
      ]
     },
     "metadata": {},
     "output_type": "display_data"
    }
   ],
   "source": [
    "from matplotlib import rcParams\n",
    "rcParams['figure.figsize'] = 11.7,8.27\n",
    "\n",
    "df10= data[data.h11 == 10]\n",
    "df20= data[data.h11 == 20]\n",
    "df30= data[data.h11 == 30]\n",
    "df40= data[data.h11 == 40]\n",
    "df50= data[data.h11 == 50]\n",
    "\n",
    "sns.distplot(df10['log10evals'], kde=False, label='10', norm_hist = True)\n",
    "sns.distplot(df20['log10evals'], kde=False, label='20', norm_hist = True)\n",
    "sns.distplot(df30['log10evals'], kde=False, label='30', norm_hist = True)\n",
    "sns.distplot(df40['log10evals'], kde=False, label='40', norm_hist = True)\n",
    "sns.distplot(df50['log10evals'], kde=False, label='50', norm_hist = True)\n",
    "\n",
    "plt.legend(prop={'size':12})\n",
    "plt.show()"
   ]
  },
  {
   "cell_type": "markdown",
   "metadata": {},
   "source": [
    "In the above plot you can clearly see a bimodal distribution developing for larger h11. To see this more, let's split out the histograms, one for each h11."
   ]
  },
  {
   "cell_type": "code",
   "execution_count": 7,
   "metadata": {},
   "outputs": [
    {
     "data": {
      "image/png": "[encoded data removed]",
      "text/plain": [
       "<Figure size 842.4x595.44 with 1 Axes>"
      ]
     },
     "metadata": {},
     "output_type": "display_data"
    },
    {
     "data": {
      "image/png": "[encoded data removed]",
      "text/plain": [
       "<Figure size 842.4x595.44 with 1 Axes>"
      ]
     },
     "metadata": {},
     "output_type": "display_data"
    },
    {
     "data": {
      "image/png": "[encoded data removed]",
      "text/plain": [
       "<Figure size 842.4x595.44 with 1 Axes>"
      ]
     },
     "metadata": {},
     "output_type": "display_data"
    },
    {
     "data": {
      "image/png": "[encoded data removed]",
      "text/plain": [
       "<Figure size 842.4x595.44 with 1 Axes>"
      ]
     },
     "metadata": {},
     "output_type": "display_data"
    },
    {
     "data": {
      "image/png": "[encoded data removed]",
      "text/plain": [
       "<Figure size 842.4x595.44 with 1 Axes>"
      ]
     },
     "metadata": {},
     "output_type": "display_data"
    }
   ],
   "source": [
    "sns.distplot(df10['log10evals'], kde=False, label='10', norm_hist = True)\n",
    "plt.show()\n",
    "sns.distplot(df20['log10evals'], kde=False, label='20', norm_hist = True)\n",
    "plt.show()\n",
    "sns.distplot(df30['log10evals'], kde=False, label='30', norm_hist = True)\n",
    "plt.show()\n",
    "sns.distplot(df40['log10evals'], kde=False, label='40', norm_hist = True)\n",
    "plt.show()\n",
    "sns.distplot(df50['log10evals'], kde=False, label='50', norm_hist = True)\n",
    "plt.show()"
   ]
  },
  {
   "cell_type": "markdown",
   "metadata": {},
   "source": [
    "## Random Sampling"
   ]
  },
  {
   "cell_type": "code",
   "execution_count": 8,
   "metadata": {},
   "outputs": [
    {
     "data": {
      "image/png": "[encoded data removed]",
      "text/plain": [
       "<Figure size 842.4x595.44 with 1 Axes>"
      ]
     },
     "metadata": {},
     "output_type": "display_data"
    }
   ],
   "source": [
    "numsamps = 1\n",
    "for ii in range(numsamps):\n",
    "    dfhalf = df50.sample(frac=.001)\n",
    "    sns.distplot(dfhalf['log10evals'], kde=False, #label=str(ii), \n",
    "                 norm_hist = True)\n",
    "\n",
    "plt.legend(prop={'size':12})\n",
    "plt.show()"
   ]
  },
  {
   "cell_type": "code",
   "execution_count": 9,
   "metadata": {
    "collapsed": true
   },
   "outputs": [],
   "source": [
    "from matplotlib import rcParams\n",
    "rcParams['figure.figsize'] = 11.7,8.27\n",
    "\n",
    "h11s, polys, evals = [], [], []\n",
    "for data in raw_data:\n",
    "    for i in range(len(data[1])):\n",
    "        h11s.append(data[0][0])\n",
    "        polys.append(data[0][1])\n",
    "        evals.append(data[1][i])\n",
    "        \n",
    "\n",
    "data = pd.DataFrame({'h11': h11s, 'evals': evals, 'log10evals': [np.log10(k) for k in evals]})\n",
    "\n",
    "#print [(h11s[j], polys[j]) for j in [evals.index(k) for k in evals if k < 0]]\n",
    "\n",
    "#print [k for k in evals if k < 0]"
   ]
  },
  {
   "cell_type": "code",
   "execution_count": 10,
   "metadata": {},
   "outputs": [
    {
     "data": {
      "image/png": "[encoded data removed]",
      "text/plain": [
       "<Figure size 842.4x595.44 with 1 Axes>"
      ]
     },
     "metadata": {},
     "output_type": "display_data"
    }
   ],
   "source": [
    "rand_samp = []\n",
    "\n",
    "bins5 = np.arange(-3,2,.5)\n",
    "bins25 = np.arange(-3,2,.25)\n",
    "bins125 = np.arange(-3,2,.125)\n",
    "\n",
    "rand_samp = []\n",
    "for ii in range(1):\n",
    "    f = np.random.randint(0,len(sortyspre))\n",
    "    rand_samp = rand_samp + sortyspre[f]\n",
    "\n",
    "sns.distplot(rand_samp, kde=True, rug=True, hist=False)\n",
    "plt.legend(prop={'size':12})\n",
    "plt.show()\n",
    "\n",
    "# sns.distplot(rand_samp, kde=True, #label=str(ii), \n",
    "#                  norm_hist = True, bins = bins25)\n",
    "# plt.legend(prop={'size':12})\n",
    "# plt.show()\n",
    "\n",
    "# sns.distplot(rand_samp, kde=True, #label=str(ii), \n",
    "#                  norm_hist = True, bins = bins125)\n",
    "# plt.legend(prop={'size':12})\n",
    "# plt.show()\n",
    "\n",
    "f = sns.kdeplot(rand_samp)"
   ]
  },
  {
   "cell_type": "code",
   "execution_count": 11,
   "metadata": {
    "scrolled": true
   },
   "outputs": [
    {
     "data": {
      "image/png": "[encoded data removed]",
      "text/plain": [
       "<Figure size 842.4x595.44 with 1 Axes>"
      ]
     },
     "metadata": {},
     "output_type": "display_data"
    },
    {
     "ename": "NameError",
     "evalue": "name 'y' is not defined",
     "output_type": "error",
     "traceback": [
      "\u001b[0;31m---------------------------------------------------------------------------\u001b[0m",
      "\u001b[0;31mNameError\u001b[0m                                 Traceback (most recent call last)",
      "\u001b[0;32m<ipython-input-11-4706f9ba58d6>\u001b[0m in \u001b[0;36m<module>\u001b[0;34m()\u001b[0m\n\u001b[1;32m      3\u001b[0m     \u001b[0;31m#x, y = f.get_lines()[0].get_data()\u001b[0m\u001b[0;34m\u001b[0m\u001b[0;34m\u001b[0m\u001b[0m\n\u001b[1;32m      4\u001b[0m     \u001b[0mplt\u001b[0m\u001b[0;34m.\u001b[0m\u001b[0mshow\u001b[0m\u001b[0;34m(\u001b[0m\u001b[0;34m)\u001b[0m\u001b[0;34m\u001b[0m\u001b[0m\n\u001b[0;32m----> 5\u001b[0;31m     \u001b[0;32mprint\u001b[0m \u001b[0my\u001b[0m\u001b[0;34m\u001b[0m\u001b[0m\n\u001b[0m\u001b[1;32m      6\u001b[0m \u001b[0;34m\u001b[0m\u001b[0m\n\u001b[1;32m      7\u001b[0m \u001b[0;31m# f = sns.kdeplot(sortyspre[2])\u001b[0m\u001b[0;34m\u001b[0m\u001b[0;34m\u001b[0m\u001b[0m\n",
      "\u001b[0;31mNameError\u001b[0m: name 'y' is not defined"
     ]
    }
   ],
   "source": [
    "for data in sortyspre:\n",
    "    f = sns.distplot(data, kde=True, rug=True, hist=False)\n",
    "    #x, y = f.get_lines()[0].get_data()\n",
    "    plt.show()\n",
    "    print y\n",
    "\n",
    "# f = sns.kdeplot(sortyspre[2])\n",
    "# x, y = f.get_lines()[0].get_data()\n",
    "# print y"
   ]
  },
  {
   "cell_type": "code",
   "execution_count": null,
   "metadata": {
    "collapsed": true
   },
   "outputs": [],
   "source": []
  },
  {
   "cell_type": "raw",
   "metadata": {},
   "source": []
  },
  {
   "cell_type": "markdown",
   "metadata": {},
   "source": [
    "# Now we will try to get some separation\n",
    "\n",
    "We want to determine what causes the data to have that peak around -1.5, and what doesn't.\n",
    "\n",
    "The first 'has_peak_near' method was trying to make sure that there are actually sufficiently sharp peaks in the KDE near where we expect it to be. There is a threshold for the height of the next trough over the height of the peak. Overall, this worked fine, but not as well as the following.\n",
    "\n",
    "The second 'has_peak_near' method just tries to throw out the KDE story altogether, and just checked whether there are sufficiently many eigenvalues in val +- thresh. This seems to work betterm see output below."
   ]
  },
  {
   "cell_type": "code",
   "execution_count": null,
   "metadata": {
    "scrolled": true
   },
   "outputs": [],
   "source": [
    "from scipy.signal import find_peaks\n",
    "print len(sortyspre)\n",
    "\n",
    "def has_peak_near(data,x,y,peak_idxs,trough_idxs, val, thresh):\n",
    "    #print peak_idxs, trough_idxs, val, thresh\n",
    "    idxs = list(peak_idxs) + list(trough_idxs)\n",
    "    idxs.sort()\n",
    "    for idx in idxs:\n",
    "        if idx in peak_idxs:\n",
    "            peak_idx, peak_x, peak_y = list(peak_idxs).index(idx), x[idx], y[idx]\n",
    "            #print 'peak_x', peak_x\n",
    "            if peak_x >= val - thresh and peak_x <= val + thresh:\n",
    "                if len(trough_idxs) > 0 and peak_idx < len(trough_idxs):\n",
    "                    #print peak_x, peak_idx, trough_idxs\n",
    "                    trough_y = y[trough_idxs[peak_idx]] # next trough at same idx\n",
    "                    #print peak_y, trough_y,  abs(trough_y/peak_y)\n",
    "                    assert peak_y > trough_y\n",
    "                    if abs(trough_y/peak_y) < .5:\n",
    "                        #print 'RETURNING TRUE'\n",
    "                        return True\n",
    "                else: return True\n",
    "\n",
    "    return False\n",
    "\n",
    "def has_peak_near(data,x,y,peak_idxs,trough_idxs, val, thresh):\n",
    "    data_list = list(data)\n",
    "    return sum([1 if (e <= val + thresh and e >= val - thresh) else 0 for e in data_list]) > 6\n",
    "\n",
    "threshs = [k/10.0 for k in range(21)]\n",
    "has_onep3_peak, no_onep3_peak = {}, {}\n",
    "for thresh in threshs:\n",
    "    has_onep3_peak[thresh] = []\n",
    "    no_onep3_peak[thresh] = []\n",
    "    \n",
    "for idx,data in enumerate(sortyspre):\n",
    "    if idx % 500 == 0: print idx\n",
    "    f = sns.kdeplot(data)\n",
    "    x,y = f.get_lines()[0].get_data()\n",
    "    plt.clf()\n",
    "    #print y\n",
    "    ny=[-k for k in y]\n",
    "    peak_idxs, trough_idxs = find_peaks(y)[0], find_peaks(ny)[0]\n",
    "    peak_locs, trough_locs = [x[k] for k in peak_idxs], [x[k] for k in trough_idxs]\n",
    "    for thresh in has_onep3_peak:\n",
    "        if has_peak_near(data,x,y,peak_idxs,trough_idxs,-1.5,thresh):\n",
    "            has_onep3_peak[thresh].append(idx)\n",
    "        else:\n",
    "            no_onep3_peak[thresh].append(idx)\n",
    "    #print 'peaks:', peak_locs\n",
    "    #print 'troughs:', trough_locs\n"
   ]
  },
  {
   "cell_type": "code",
   "execution_count": 13,
   "metadata": {},
   "outputs": [
    {
     "name": "stdout",
     "output_type": "stream",
     "text": [
      "0 4222 4222\n",
      "0 4222 4222\n",
      "1 4221 4222\n",
      "7 4215 4222\n",
      "33 4189 4222\n",
      "102 4120 4222\n",
      "205 4017 4222\n",
      "379 3843 4222\n",
      "644 3578 4222\n",
      "1032 3190 4222\n",
      "1498 2724 4222\n",
      "2023 2199 4222\n",
      "2553 1669 4222\n",
      "3037 1185 4222\n",
      "3437 785 4222\n",
      "3742 480 4222\n",
      "4006 216 4222\n",
      "4153 69 4222\n",
      "4207 15 4222\n",
      "4220 2 4222\n",
      "4222 0 4222\n"
     ]
    }
   ],
   "source": [
    "has_eigs, doesnt_eigs = {}, {}\n",
    "for thresh in threshs:\n",
    "    has_eigs[thresh] = []\n",
    "    doesnt_eigs[thresh] = []\n",
    "    for idx in has_onep3_peak[thresh]:\n",
    "        has_eigs[thresh].extend(sortyspre[idx])\n",
    "    for idx in no_onep3_peak[thresh]:\n",
    "        doesnt_eigs[thresh].extend(sortyspre[idx])\n",
    "\n",
    "for thresh in threshs:\n",
    "    print len(has_onep3_peak[thresh]), len(no_onep3_peak[thresh]), len(has_onep3_peak[thresh])+len(no_onep3_peak[thresh])"
   ]
  },
  {
   "cell_type": "code",
   "execution_count": 17,
   "metadata": {
    "scrolled": true
   },
   "outputs": [
    {
     "name": "stdout",
     "output_type": "stream",
     "text": [
      "THRESH: 0.0\n",
      "0 4222 4222\n"
     ]
    },
    {
     "ename": "ZeroDivisionError",
     "evalue": "float division by zero",
     "output_type": "error",
     "traceback": [
      "\u001b[0;31m---------------------------------------------------------------------------\u001b[0m",
      "\u001b[0;31mZeroDivisionError\u001b[0m                         Traceback (most recent call last)",
      "\u001b[0;32m<ipython-input-17-ffaf105c1478>\u001b[0m in \u001b[0;36m<module>\u001b[0;34m()\u001b[0m\n\u001b[1;32m      2\u001b[0m     \u001b[0;32mprint\u001b[0m \u001b[0;34m\"THRESH:\"\u001b[0m\u001b[0;34m,\u001b[0m \u001b[0mthresh\u001b[0m\u001b[0;34m\u001b[0m\u001b[0m\n\u001b[1;32m      3\u001b[0m     \u001b[0;32mprint\u001b[0m \u001b[0mlen\u001b[0m\u001b[0;34m(\u001b[0m\u001b[0mhas_onep3_peak\u001b[0m\u001b[0;34m[\u001b[0m\u001b[0mthresh\u001b[0m\u001b[0;34m]\u001b[0m\u001b[0;34m)\u001b[0m\u001b[0;34m,\u001b[0m \u001b[0mlen\u001b[0m\u001b[0;34m(\u001b[0m\u001b[0mno_onep3_peak\u001b[0m\u001b[0;34m[\u001b[0m\u001b[0mthresh\u001b[0m\u001b[0;34m]\u001b[0m\u001b[0;34m)\u001b[0m\u001b[0;34m,\u001b[0m \u001b[0mlen\u001b[0m\u001b[0;34m(\u001b[0m\u001b[0mhas_onep3_peak\u001b[0m\u001b[0;34m[\u001b[0m\u001b[0mthresh\u001b[0m\u001b[0;34m]\u001b[0m\u001b[0;34m)\u001b[0m\u001b[0;34m+\u001b[0m\u001b[0mlen\u001b[0m\u001b[0;34m(\u001b[0m\u001b[0mno_onep3_peak\u001b[0m\u001b[0;34m[\u001b[0m\u001b[0mthresh\u001b[0m\u001b[0;34m]\u001b[0m\u001b[0;34m)\u001b[0m\u001b[0;34m\u001b[0m\u001b[0m\n\u001b[0;32m----> 4\u001b[0;31m     \u001b[0msns\u001b[0m\u001b[0;34m.\u001b[0m\u001b[0mdistplot\u001b[0m\u001b[0;34m(\u001b[0m\u001b[0mhas_eigs\u001b[0m\u001b[0;34m[\u001b[0m\u001b[0mthresh\u001b[0m\u001b[0;34m]\u001b[0m\u001b[0;34m,\u001b[0m \u001b[0mkde\u001b[0m\u001b[0;34m=\u001b[0m\u001b[0mFalse\u001b[0m\u001b[0;34m,\u001b[0m \u001b[0mlabel\u001b[0m\u001b[0;34m=\u001b[0m\u001b[0;34m'all'\u001b[0m\u001b[0;34m,\u001b[0m \u001b[0mnorm_hist\u001b[0m \u001b[0;34m=\u001b[0m \u001b[0mFalse\u001b[0m\u001b[0;34m)\u001b[0m\u001b[0;34m\u001b[0m\u001b[0m\n\u001b[0m\u001b[1;32m      5\u001b[0m     \u001b[0mplt\u001b[0m\u001b[0;34m.\u001b[0m\u001b[0mlegend\u001b[0m\u001b[0;34m(\u001b[0m\u001b[0mprop\u001b[0m\u001b[0;34m=\u001b[0m\u001b[0;34m{\u001b[0m\u001b[0;34m'size'\u001b[0m\u001b[0;34m:\u001b[0m\u001b[0;36m12\u001b[0m\u001b[0;34m}\u001b[0m\u001b[0;34m)\u001b[0m\u001b[0;34m\u001b[0m\u001b[0m\n\u001b[1;32m      6\u001b[0m     \u001b[0mplt\u001b[0m\u001b[0;34m.\u001b[0m\u001b[0mshow\u001b[0m\u001b[0;34m(\u001b[0m\u001b[0;34m)\u001b[0m\u001b[0;34m\u001b[0m\u001b[0m\n",
      "\u001b[0;32m/Users/cody/anaconda2/lib/python2.7/site-packages/seaborn/distributions.pyc\u001b[0m in \u001b[0;36mdistplot\u001b[0;34m(a, bins, hist, kde, rug, fit, hist_kws, kde_kws, rug_kws, fit_kws, color, vertical, norm_hist, axlabel, label, ax)\u001b[0m\n\u001b[1;32m    206\u001b[0m     \u001b[0;32mif\u001b[0m \u001b[0mhist\u001b[0m\u001b[0;34m:\u001b[0m\u001b[0;34m\u001b[0m\u001b[0m\n\u001b[1;32m    207\u001b[0m         \u001b[0;32mif\u001b[0m \u001b[0mbins\u001b[0m \u001b[0;32mis\u001b[0m \u001b[0mNone\u001b[0m\u001b[0;34m:\u001b[0m\u001b[0;34m\u001b[0m\u001b[0m\n\u001b[0;32m--> 208\u001b[0;31m             \u001b[0mbins\u001b[0m \u001b[0;34m=\u001b[0m \u001b[0mmin\u001b[0m\u001b[0;34m(\u001b[0m\u001b[0m_freedman_diaconis_bins\u001b[0m\u001b[0;34m(\u001b[0m\u001b[0ma\u001b[0m\u001b[0;34m)\u001b[0m\u001b[0;34m,\u001b[0m \u001b[0;36m50\u001b[0m\u001b[0;34m)\u001b[0m\u001b[0;34m\u001b[0m\u001b[0m\n\u001b[0m\u001b[1;32m    209\u001b[0m         \u001b[0mhist_kws\u001b[0m\u001b[0;34m.\u001b[0m\u001b[0msetdefault\u001b[0m\u001b[0;34m(\u001b[0m\u001b[0;34m\"alpha\"\u001b[0m\u001b[0;34m,\u001b[0m \u001b[0;36m0.4\u001b[0m\u001b[0;34m)\u001b[0m\u001b[0;34m\u001b[0m\u001b[0m\n\u001b[1;32m    210\u001b[0m         \u001b[0mhist_kws\u001b[0m\u001b[0;34m.\u001b[0m\u001b[0msetdefault\u001b[0m\u001b[0;34m(\u001b[0m\u001b[0;34m\"normed\"\u001b[0m\u001b[0;34m,\u001b[0m \u001b[0mnorm_hist\u001b[0m\u001b[0;34m)\u001b[0m\u001b[0;34m\u001b[0m\u001b[0m\n",
      "\u001b[0;32m/Users/cody/anaconda2/lib/python2.7/site-packages/seaborn/distributions.pyc\u001b[0m in \u001b[0;36m_freedman_diaconis_bins\u001b[0;34m(a)\u001b[0m\n\u001b[1;32m     27\u001b[0m     \u001b[0;31m# From http://stats.stackexchange.com/questions/798/\u001b[0m\u001b[0;34m\u001b[0m\u001b[0;34m\u001b[0m\u001b[0m\n\u001b[1;32m     28\u001b[0m     \u001b[0ma\u001b[0m \u001b[0;34m=\u001b[0m \u001b[0mnp\u001b[0m\u001b[0;34m.\u001b[0m\u001b[0masarray\u001b[0m\u001b[0;34m(\u001b[0m\u001b[0ma\u001b[0m\u001b[0;34m)\u001b[0m\u001b[0;34m\u001b[0m\u001b[0m\n\u001b[0;32m---> 29\u001b[0;31m     \u001b[0mh\u001b[0m \u001b[0;34m=\u001b[0m \u001b[0;36m2\u001b[0m \u001b[0;34m*\u001b[0m \u001b[0miqr\u001b[0m\u001b[0;34m(\u001b[0m\u001b[0ma\u001b[0m\u001b[0;34m)\u001b[0m \u001b[0;34m/\u001b[0m \u001b[0;34m(\u001b[0m\u001b[0mlen\u001b[0m\u001b[0;34m(\u001b[0m\u001b[0ma\u001b[0m\u001b[0;34m)\u001b[0m \u001b[0;34m**\u001b[0m \u001b[0;34m(\u001b[0m\u001b[0;36m1\u001b[0m \u001b[0;34m/\u001b[0m \u001b[0;36m3\u001b[0m\u001b[0;34m)\u001b[0m\u001b[0;34m)\u001b[0m\u001b[0;34m\u001b[0m\u001b[0m\n\u001b[0m\u001b[1;32m     30\u001b[0m     \u001b[0;31m# fall back to sqrt(a) bins if iqr is 0\u001b[0m\u001b[0;34m\u001b[0m\u001b[0;34m\u001b[0m\u001b[0m\n\u001b[1;32m     31\u001b[0m     \u001b[0;32mif\u001b[0m \u001b[0mh\u001b[0m \u001b[0;34m==\u001b[0m \u001b[0;36m0\u001b[0m\u001b[0;34m:\u001b[0m\u001b[0;34m\u001b[0m\u001b[0m\n",
      "\u001b[0;31mZeroDivisionError\u001b[0m: float division by zero"
     ]
    }
   ],
   "source": [
    "for thresh in threshs:\n",
    "    print \"THRESH:\", thresh\n",
    "    print len(has_onep3_peak[thresh]), len(no_onep3_peak[thresh]), len(has_onep3_peak[thresh])+len(no_onep3_peak[thresh])\n",
    "    sns.distplot(has_eigs[thresh], kde=False, label='all', norm_hist = False)\n",
    "    plt.legend(prop={'size':12})\n",
    "    plt.show()\n",
    "    sns.distplot(doesnt_eigs[thresh], kde=False, label='all', norm_hist = False)\n",
    "    plt.legend(prop={'size':12})\n",
    "    plt.show()"
   ]
  },
  {
   "cell_type": "markdown",
   "metadata": {},
   "source": [
    "# Same as above, but > 9, and then 3"
   ]
  },
  {
   "cell_type": "code",
   "execution_count": 29,
   "metadata": {
    "scrolled": true
   },
   "outputs": [
    {
     "name": "stdout",
     "output_type": "stream",
     "text": [
      "0\n",
      "500\n",
      "1000\n",
      "1500\n",
      "2000\n",
      "2500\n",
      "3000\n",
      "3500\n",
      "4000\n",
      "0 4222 4222\n",
      "0 4222 4222\n",
      "0 4222 4222\n",
      "0 4222 4222\n",
      "1 4221 4222\n",
      "4 4218 4222\n",
      "15 4207 4222\n",
      "25 4197 4222\n",
      "75 4147 4222\n",
      "133 4089 4222\n",
      "234 3988 4222\n",
      "411 3811 4222\n",
      "669 3553 4222\n",
      "1024 3198 4222\n",
      "1463 2759 4222\n",
      "1974 2248 4222\n",
      "2532 1690 4222\n",
      "3108 1114 4222\n",
      "3658 564 4222\n",
      "4075 147 4222\n",
      "4211 11 4222\n",
      "THRESH: 0.0\n",
      "0 4222 4222\n"
     ]
    },
    {
     "data": {
      "image/png": "[encoded data removed]",
      "text/plain": [
       "<Figure size 842.4x595.44 with 1 Axes>"
      ]
     },
     "metadata": {
      "needs_background": "light"
     },
     "output_type": "display_data"
    },
    {
     "data": {
      "image/png": "[encoded data removed]",
      "text/plain": [
       "<Figure size 842.4x595.44 with 1 Axes>"
      ]
     },
     "metadata": {
      "needs_background": "light"
     },
     "output_type": "display_data"
    },
    {
     "name": "stdout",
     "output_type": "stream",
     "text": [
      "THRESH: 0.1\n",
      "0 4222 4222\n"
     ]
    },
    {
     "data": {
      "image/png": "[encoded data removed]",
      "text/plain": [
       "<Figure size 842.4x595.44 with 1 Axes>"
      ]
     },
     "metadata": {
      "needs_background": "light"
     },
     "output_type": "display_data"
    },
    {
     "data": {
      "image/png": "[encoded data removed]",
      "text/plain": [
       "<Figure size 842.4x595.44 with 1 Axes>"
      ]
     },
     "metadata": {
      "needs_background": "light"
     },
     "output_type": "display_data"
    },
    {
     "name": "stdout",
     "output_type": "stream",
     "text": [
      "THRESH: 0.2\n",
      "0 4222 4222\n"
     ]
    },
    {
     "data": {
      "image/png": "[encoded data removed]",
      "text/plain": [
       "<Figure size 842.4x595.44 with 1 Axes>"
      ]
     },
     "metadata": {
      "needs_background": "light"
     },
     "output_type": "display_data"
    },
    {
     "data": {
      "image/png": "[encoded data removed]",
      "text/plain": [
       "<Figure size 842.4x595.44 with 1 Axes>"
      ]
     },
     "metadata": {
      "needs_background": "light"
     },
     "output_type": "display_data"
    },
    {
     "name": "stdout",
     "output_type": "stream",
     "text": [
      "THRESH: 0.3\n",
      "0 4222 4222\n"
     ]
    },
    {
     "data": {
      "image/png": "[encoded data removed]",
      "text/plain": [
       "<Figure size 842.4x595.44 with 1 Axes>"
      ]
     },
     "metadata": {
      "needs_background": "light"
     },
     "output_type": "display_data"
    },
    {
     "data": {
      "image/png": "[encoded data removed]",
      "text/plain": [
       "<Figure size 842.4x595.44 with 1 Axes>"
      ]
     },
     "metadata": {
      "needs_background": "light"
     },
     "output_type": "display_data"
    },
    {
     "name": "stdout",
     "output_type": "stream",
     "text": [
      "THRESH: 0.4\n",
      "1 4221 4222\n"
     ]
    },
    {
     "data": {
      "image/png": "[encoded data removed]",
      "text/plain": [
       "<Figure size 842.4x595.44 with 1 Axes>"
      ]
     },
     "metadata": {
      "needs_background": "light"
     },
     "output_type": "display_data"
    },
    {
     "data": {
      "image/png": "[encoded data removed]",
      "text/plain": [
       "<Figure size 842.4x595.44 with 1 Axes>"
      ]
     },
     "metadata": {
      "needs_background": "light"
     },
     "output_type": "display_data"
    },
    {
     "name": "stdout",
     "output_type": "stream",
     "text": [
      "THRESH: 0.5\n",
      "4 4218 4222\n"
     ]
    },
    {
     "data": {
      "image/png": "[encoded data removed]",
      "text/plain": [
       "<Figure size 842.4x595.44 with 1 Axes>"
      ]
     },
     "metadata": {
      "needs_background": "light"
     },
     "output_type": "display_data"
    },
    {
     "data": {
      "image/png": "[encoded data removed]",
      "text/plain": [
       "<Figure size 842.4x595.44 with 1 Axes>"
      ]
     },
     "metadata": {
      "needs_background": "light"
     },
     "output_type": "display_data"
    },
    {
     "name": "stdout",
     "output_type": "stream",
     "text": [
      "THRESH: 0.6\n",
      "15 4207 4222\n"
     ]
    },
    {
     "data": {
      "image/png": "[encoded data removed]",
      "text/plain": [
       "<Figure size 842.4x595.44 with 1 Axes>"
      ]
     },
     "metadata": {
      "needs_background": "light"
     },
     "output_type": "display_data"
    },
    {
     "data": {
      "image/png": "[encoded data removed]",
      "text/plain": [
       "<Figure size 842.4x595.44 with 1 Axes>"
      ]
     },
     "metadata": {
      "needs_background": "light"
     },
     "output_type": "display_data"
    },
    {
     "name": "stdout",
     "output_type": "stream",
     "text": [
      "THRESH: 0.7\n",
      "25 4197 4222\n"
     ]
    },
    {
     "data": {
      "image/png": "[encoded data removed]",
      "text/plain": [
       "<Figure size 842.4x595.44 with 1 Axes>"
      ]
     },
     "metadata": {
      "needs_background": "light"
     },
     "output_type": "display_data"
    },
    {
     "data": {
      "image/png": "[encoded data removed]",
      "text/plain": [
       "<Figure size 842.4x595.44 with 1 Axes>"
      ]
     },
     "metadata": {
      "needs_background": "light"
     },
     "output_type": "display_data"
    },
    {
     "name": "stdout",
     "output_type": "stream",
     "text": [
      "THRESH: 0.8\n",
      "75 4147 4222\n"
     ]
    },
    {
     "data": {
      "image/png": "[encoded data removed]",
      "text/plain": [
       "<Figure size 842.4x595.44 with 1 Axes>"
      ]
     },
     "metadata": {
      "needs_background": "light"
     },
     "output_type": "display_data"
    },
    {
     "data": {
      "image/png": "[encoded data removed]",
      "text/plain": [
       "<Figure size 842.4x595.44 with 1 Axes>"
      ]
     },
     "metadata": {
      "needs_background": "light"
     },
     "output_type": "display_data"
    },
    {
     "name": "stdout",
     "output_type": "stream",
     "text": [
      "THRESH: 0.9\n",
      "133 4089 4222\n"
     ]
    },
    {
     "data": {
      "image/png": "[encoded data removed]",
      "text/plain": [
       "<Figure size 842.4x595.44 with 1 Axes>"
      ]
     },
     "metadata": {
      "needs_background": "light"
     },
     "output_type": "display_data"
    },
    {
     "data": {
      "image/png": "[encoded data removed]",
      "text/plain": [
       "<Figure size 842.4x595.44 with 1 Axes>"
      ]
     },
     "metadata": {
      "needs_background": "light"
     },
     "output_type": "display_data"
    },
    {
     "name": "stdout",
     "output_type": "stream",
     "text": [
      "THRESH: 1.0\n",
      "234 3988 4222\n"
     ]
    },
    {
     "data": {
      "image/png": "[encoded data removed]",
      "text/plain": [
       "<Figure size 842.4x595.44 with 1 Axes>"
      ]
     },
     "metadata": {
      "needs_background": "light"
     },
     "output_type": "display_data"
    },
    {
     "data": {
      "image/png": "[encoded data removed]",
      "text/plain": [
       "<Figure size 842.4x595.44 with 1 Axes>"
      ]
     },
     "metadata": {
      "needs_background": "light"
     },
     "output_type": "display_data"
    },
    {
     "name": "stdout",
     "output_type": "stream",
     "text": [
      "THRESH: 1.1\n",
      "411 3811 4222\n"
     ]
    },
    {
     "data": {
      "image/png": "[encoded data removed]",
      "text/plain": [
       "<Figure size 842.4x595.44 with 1 Axes>"
      ]
     },
     "metadata": {
      "needs_background": "light"
     },
     "output_type": "display_data"
    },
    {
     "data": {
      "image/png": "[encoded data removed]",
      "text/plain": [
       "<Figure size 842.4x595.44 with 1 Axes>"
      ]
     },
     "metadata": {
      "needs_background": "light"
     },
     "output_type": "display_data"
    },
    {
     "name": "stdout",
     "output_type": "stream",
     "text": [
      "THRESH: 1.2\n",
      "669 3553 4222\n"
     ]
    },
    {
     "data": {
      "image/png": "[encoded data removed]",
      "text/plain": [
       "<Figure size 842.4x595.44 with 1 Axes>"
      ]
     },
     "metadata": {
      "needs_background": "light"
     },
     "output_type": "display_data"
    },
    {
     "data": {
      "image/png": "[encoded data removed]",
      "text/plain": [
       "<Figure size 842.4x595.44 with 1 Axes>"
      ]
     },
     "metadata": {
      "needs_background": "light"
     },
     "output_type": "display_data"
    },
    {
     "name": "stdout",
     "output_type": "stream",
     "text": [
      "THRESH: 1.3\n",
      "1024 3198 4222\n"
     ]
    },
    {
     "data": {
      "image/png": "[encoded data removed]",
      "text/plain": [
       "<Figure size 842.4x595.44 with 1 Axes>"
      ]
     },
     "metadata": {
      "needs_background": "light"
     },
     "output_type": "display_data"
    },
    {
     "data": {
      "image/png": "[encoded data removed]",
      "text/plain": [
       "<Figure size 842.4x595.44 with 1 Axes>"
      ]
     },
     "metadata": {
      "needs_background": "light"
     },
     "output_type": "display_data"
    },
    {
     "name": "stdout",
     "output_type": "stream",
     "text": [
      "THRESH: 1.4\n",
      "1463 2759 4222\n"
     ]
    },
    {
     "data": {
      "image/png": "[encoded data removed]",
      "text/plain": [
       "<Figure size 842.4x595.44 with 1 Axes>"
      ]
     },
     "metadata": {
      "needs_background": "light"
     },
     "output_type": "display_data"
    },
    {
     "data": {
      "image/png": "[encoded data removed]",
      "text/plain": [
       "<Figure size 842.4x595.44 with 1 Axes>"
      ]
     },
     "metadata": {
      "needs_background": "light"
     },
     "output_type": "display_data"
    },
    {
     "name": "stdout",
     "output_type": "stream",
     "text": [
      "THRESH: 1.5\n",
      "1974 2248 4222\n"
     ]
    },
    {
     "data": {
      "image/png": "[encoded data removed]",
      "text/plain": [
       "<Figure size 842.4x595.44 with 1 Axes>"
      ]
     },
     "metadata": {
      "needs_background": "light"
     },
     "output_type": "display_data"
    },
    {
     "data": {
      "image/png": "[encoded data removed]",
      "text/plain": [
       "<Figure size 842.4x595.44 with 1 Axes>"
      ]
     },
     "metadata": {
      "needs_background": "light"
     },
     "output_type": "display_data"
    },
    {
     "name": "stdout",
     "output_type": "stream",
     "text": [
      "THRESH: 1.6\n",
      "2532 1690 4222\n"
     ]
    },
    {
     "data": {
      "image/png": "[encoded data removed]",
      "text/plain": [
       "<Figure size 842.4x595.44 with 1 Axes>"
      ]
     },
     "metadata": {
      "needs_background": "light"
     },
     "output_type": "display_data"
    },
    {
     "data": {
      "image/png": "[encoded data removed]",
      "text/plain": [
       "<Figure size 842.4x595.44 with 1 Axes>"
      ]
     },
     "metadata": {
      "needs_background": "light"
     },
     "output_type": "display_data"
    },
    {
     "name": "stdout",
     "output_type": "stream",
     "text": [
      "THRESH: 1.7\n",
      "3108 1114 4222\n"
     ]
    },
    {
     "data": {
      "image/png": "[encoded data removed]",
      "text/plain": [
       "<Figure size 842.4x595.44 with 1 Axes>"
      ]
     },
     "metadata": {
      "needs_background": "light"
     },
     "output_type": "display_data"
    },
    {
     "data": {
      "image/png": "[encoded data removed]",
      "text/plain": [
       "<Figure size 842.4x595.44 with 1 Axes>"
      ]
     },
     "metadata": {
      "needs_background": "light"
     },
     "output_type": "display_data"
    },
    {
     "name": "stdout",
     "output_type": "stream",
     "text": [
      "THRESH: 1.8\n",
      "3658 564 4222\n"
     ]
    },
    {
     "data": {
      "image/png": "[encoded data removed]",
      "text/plain": [
       "<Figure size 842.4x595.44 with 1 Axes>"
      ]
     },
     "metadata": {
      "needs_background": "light"
     },
     "output_type": "display_data"
    },
    {
     "data": {
      "image/png": "[encoded data removed]",
      "text/plain": [
       "<Figure size 842.4x595.44 with 1 Axes>"
      ]
     },
     "metadata": {
      "needs_background": "light"
     },
     "output_type": "display_data"
    },
    {
     "name": "stdout",
     "output_type": "stream",
     "text": [
      "THRESH: 1.9\n",
      "4075 147 4222\n"
     ]
    },
    {
     "data": {
      "image/png": "[encoded data removed]",
      "text/plain": [
       "<Figure size 842.4x595.44 with 1 Axes>"
      ]
     },
     "metadata": {
      "needs_background": "light"
     },
     "output_type": "display_data"
    },
    {
     "data": {
      "image/png": "[encoded data removed]",
      "text/plain": [
       "<Figure size 842.4x595.44 with 1 Axes>"
      ]
     },
     "metadata": {
      "needs_background": "light"
     },
     "output_type": "display_data"
    },
    {
     "name": "stdout",
     "output_type": "stream",
     "text": [
      "THRESH: 2.0\n",
      "4211 11 4222\n"
     ]
    },
    {
     "data": {
      "image/png": "[encoded data removed]",
      "text/plain": [
       "<Figure size 842.4x595.44 with 1 Axes>"
      ]
     },
     "metadata": {
      "needs_background": "light"
     },
     "output_type": "display_data"
    },
    {
     "data": {
      "image/png": "[encoded data removed]",
      "text/plain": [
       "<Figure size 842.4x595.44 with 1 Axes>"
      ]
     },
     "metadata": {
      "needs_background": "light"
     },
     "output_type": "display_data"
    }
   ],
   "source": [
    "def has_peak_near(data,x,y,peak_idxs,trough_idxs, val, thresh):\n",
    "    data_list = list(data)\n",
    "    return sum([1 if (e <= val + thresh and e >= val - thresh) else 0 for e in data_list]) > 9\n",
    "\n",
    "threshs = [k/10.0 for k in range(21)]\n",
    "has_onep3_peak, no_onep3_peak = {}, {}\n",
    "for thresh in threshs:\n",
    "    has_onep3_peak[thresh] = []\n",
    "    no_onep3_peak[thresh] = []\n",
    "    \n",
    "for idx,data in enumerate(sortyspre):\n",
    "    if idx % 500 == 0: print idx\n",
    "    f = sns.kdeplot(data)\n",
    "    x,y = f.get_lines()[0].get_data()\n",
    "    plt.clf()\n",
    "    #print y\n",
    "    ny=[-k for k in y]\n",
    "    peak_idxs, trough_idxs = find_peaks(y)[0], find_peaks(ny)[0]\n",
    "    peak_locs, trough_locs = [x[k] for k in peak_idxs], [x[k] for k in trough_idxs]\n",
    "    for thresh in has_onep3_peak:\n",
    "        if has_peak_near(data,x,y,peak_idxs,trough_idxs,-1.5,thresh):\n",
    "            has_onep3_peak[thresh].append(idx)\n",
    "        else:\n",
    "            no_onep3_peak[thresh].append(idx)\n",
    "            \n",
    "has_eigs, doesnt_eigs = {}, {}\n",
    "for thresh in threshs:\n",
    "    has_eigs[thresh] = []\n",
    "    doesnt_eigs[thresh] = []\n",
    "    for idx in has_onep3_peak[thresh]:\n",
    "        has_eigs[thresh].extend(sortyspre[idx])\n",
    "    for idx in no_onep3_peak[thresh]:\n",
    "        doesnt_eigs[thresh].extend(sortyspre[idx])\n",
    "\n",
    "for thresh in threshs:\n",
    "    print len(has_onep3_peak[thresh]), len(no_onep3_peak[thresh]), len(has_onep3_peak[thresh])+len(no_onep3_peak[thresh])\n",
    "\n",
    "for thresh in threshs:\n",
    "    print \"THRESH:\", thresh\n",
    "    print len(has_onep3_peak[thresh]), len(no_onep3_peak[thresh]), len(has_onep3_peak[thresh])+len(no_onep3_peak[thresh])\n",
    "    sns.distplot(has_eigs[thresh], kde=False, label='all', norm_hist = False)\n",
    "    plt.legend(prop={'size':12})\n",
    "    plt.show()\n",
    "    sns.distplot(doesnt_eigs[thresh], kde=False, label='all', norm_hist = False)\n",
    "    plt.legend(prop={'size':12})\n",
    "    plt.show()    "
   ]
  },
  {
   "cell_type": "code",
   "execution_count": null,
   "metadata": {
    "collapsed": true
   },
   "outputs": [],
   "source": []
  },
  {
   "cell_type": "code",
   "execution_count": 14,
   "metadata": {
    "scrolled": true
   },
   "outputs": [
    {
     "name": "stdout",
     "output_type": "stream",
     "text": [
      "0\n",
      "500\n",
      "1000\n",
      "1500\n",
      "2000\n",
      "2500\n",
      "3000\n",
      "3500\n",
      "4000\n",
      "0 4222 4222\n",
      "19 4203 4222\n",
      "87 4135 4222\n",
      "269 3953 4222\n",
      "499 3723 4222\n",
      "906 3316 4222\n",
      "1442 2780 4222\n",
      "2070 2152 4222\n",
      "2685 1537 4222\n",
      "3227 995 4222\n",
      "3609 613 4222\n",
      "3877 345 4222\n",
      "4036 186 4222\n",
      "4151 71 4222\n",
      "4192 30 4222\n",
      "4217 5 4222\n",
      "4220 2 4222\n",
      "4222 0 4222\n",
      "4222 0 4222\n",
      "4222 0 4222\n",
      "4222 0 4222\n",
      "THRESH: 0.0\n",
      "0 4222 4222\n"
     ]
    },
    {
     "name": "stderr",
     "output_type": "stream",
     "text": [
      "/Users/cody/anaconda2/lib/python2.7/site-packages/seaborn/distributions.py:191: RuntimeWarning: Mean of empty slice.\n",
      "  line, = ax.plot(a.mean(), 0)\n",
      "/Users/cody/anaconda2/lib/python2.7/site-packages/numpy/core/_methods.py:85: RuntimeWarning: invalid value encountered in double_scalars\n",
      "  ret = ret.dtype.type(ret / rcount)\n"
     ]
    },
    {
     "ename": "ZeroDivisionError",
     "evalue": "float division by zero",
     "output_type": "error",
     "traceback": [
      "\u001b[0;31m---------------------------------------------------------------------------\u001b[0m",
      "\u001b[0;31mZeroDivisionError\u001b[0m                         Traceback (most recent call last)",
      "\u001b[0;32m<ipython-input-14-5534aecfed95>\u001b[0m in \u001b[0;36m<module>\u001b[0;34m()\u001b[0m\n\u001b[1;32m     39\u001b[0m     \u001b[0;32mprint\u001b[0m \u001b[0;34m\"THRESH:\"\u001b[0m\u001b[0;34m,\u001b[0m \u001b[0mthresh\u001b[0m\u001b[0;34m\u001b[0m\u001b[0m\n\u001b[1;32m     40\u001b[0m     \u001b[0;32mprint\u001b[0m \u001b[0mlen\u001b[0m\u001b[0;34m(\u001b[0m\u001b[0mhas_onep3_peak\u001b[0m\u001b[0;34m[\u001b[0m\u001b[0mthresh\u001b[0m\u001b[0;34m]\u001b[0m\u001b[0;34m)\u001b[0m\u001b[0;34m,\u001b[0m \u001b[0mlen\u001b[0m\u001b[0;34m(\u001b[0m\u001b[0mno_onep3_peak\u001b[0m\u001b[0;34m[\u001b[0m\u001b[0mthresh\u001b[0m\u001b[0;34m]\u001b[0m\u001b[0;34m)\u001b[0m\u001b[0;34m,\u001b[0m \u001b[0mlen\u001b[0m\u001b[0;34m(\u001b[0m\u001b[0mhas_onep3_peak\u001b[0m\u001b[0;34m[\u001b[0m\u001b[0mthresh\u001b[0m\u001b[0;34m]\u001b[0m\u001b[0;34m)\u001b[0m\u001b[0;34m+\u001b[0m\u001b[0mlen\u001b[0m\u001b[0;34m(\u001b[0m\u001b[0mno_onep3_peak\u001b[0m\u001b[0;34m[\u001b[0m\u001b[0mthresh\u001b[0m\u001b[0;34m]\u001b[0m\u001b[0;34m)\u001b[0m\u001b[0;34m\u001b[0m\u001b[0m\n\u001b[0;32m---> 41\u001b[0;31m     \u001b[0msns\u001b[0m\u001b[0;34m.\u001b[0m\u001b[0mdistplot\u001b[0m\u001b[0;34m(\u001b[0m\u001b[0mhas_eigs\u001b[0m\u001b[0;34m[\u001b[0m\u001b[0mthresh\u001b[0m\u001b[0;34m]\u001b[0m\u001b[0;34m,\u001b[0m \u001b[0mkde\u001b[0m\u001b[0;34m=\u001b[0m\u001b[0mFalse\u001b[0m\u001b[0;34m,\u001b[0m \u001b[0mlabel\u001b[0m\u001b[0;34m=\u001b[0m\u001b[0;34m'all'\u001b[0m\u001b[0;34m,\u001b[0m \u001b[0mnorm_hist\u001b[0m \u001b[0;34m=\u001b[0m \u001b[0mFalse\u001b[0m\u001b[0;34m)\u001b[0m\u001b[0;34m\u001b[0m\u001b[0m\n\u001b[0m\u001b[1;32m     42\u001b[0m     \u001b[0mplt\u001b[0m\u001b[0;34m.\u001b[0m\u001b[0mlegend\u001b[0m\u001b[0;34m(\u001b[0m\u001b[0mprop\u001b[0m\u001b[0;34m=\u001b[0m\u001b[0;34m{\u001b[0m\u001b[0;34m'size'\u001b[0m\u001b[0;34m:\u001b[0m\u001b[0;36m12\u001b[0m\u001b[0;34m}\u001b[0m\u001b[0;34m)\u001b[0m\u001b[0;34m\u001b[0m\u001b[0m\n\u001b[1;32m     43\u001b[0m     \u001b[0mplt\u001b[0m\u001b[0;34m.\u001b[0m\u001b[0mshow\u001b[0m\u001b[0;34m(\u001b[0m\u001b[0;34m)\u001b[0m\u001b[0;34m\u001b[0m\u001b[0m\n",
      "\u001b[0;32m/Users/cody/anaconda2/lib/python2.7/site-packages/seaborn/distributions.pyc\u001b[0m in \u001b[0;36mdistplot\u001b[0;34m(a, bins, hist, kde, rug, fit, hist_kws, kde_kws, rug_kws, fit_kws, color, vertical, norm_hist, axlabel, label, ax)\u001b[0m\n\u001b[1;32m    206\u001b[0m     \u001b[0;32mif\u001b[0m \u001b[0mhist\u001b[0m\u001b[0;34m:\u001b[0m\u001b[0;34m\u001b[0m\u001b[0m\n\u001b[1;32m    207\u001b[0m         \u001b[0;32mif\u001b[0m \u001b[0mbins\u001b[0m \u001b[0;32mis\u001b[0m \u001b[0mNone\u001b[0m\u001b[0;34m:\u001b[0m\u001b[0;34m\u001b[0m\u001b[0m\n\u001b[0;32m--> 208\u001b[0;31m             \u001b[0mbins\u001b[0m \u001b[0;34m=\u001b[0m \u001b[0mmin\u001b[0m\u001b[0;34m(\u001b[0m\u001b[0m_freedman_diaconis_bins\u001b[0m\u001b[0;34m(\u001b[0m\u001b[0ma\u001b[0m\u001b[0;34m)\u001b[0m\u001b[0;34m,\u001b[0m \u001b[0;36m50\u001b[0m\u001b[0;34m)\u001b[0m\u001b[0;34m\u001b[0m\u001b[0m\n\u001b[0m\u001b[1;32m    209\u001b[0m         \u001b[0mhist_kws\u001b[0m\u001b[0;34m.\u001b[0m\u001b[0msetdefault\u001b[0m\u001b[0;34m(\u001b[0m\u001b[0;34m\"alpha\"\u001b[0m\u001b[0;34m,\u001b[0m \u001b[0;36m0.4\u001b[0m\u001b[0;34m)\u001b[0m\u001b[0;34m\u001b[0m\u001b[0m\n\u001b[1;32m    210\u001b[0m         \u001b[0mhist_kws\u001b[0m\u001b[0;34m.\u001b[0m\u001b[0msetdefault\u001b[0m\u001b[0;34m(\u001b[0m\u001b[0;34m\"normed\"\u001b[0m\u001b[0;34m,\u001b[0m \u001b[0mnorm_hist\u001b[0m\u001b[0;34m)\u001b[0m\u001b[0;34m\u001b[0m\u001b[0m\n",
      "\u001b[0;32m/Users/cody/anaconda2/lib/python2.7/site-packages/seaborn/distributions.pyc\u001b[0m in \u001b[0;36m_freedman_diaconis_bins\u001b[0;34m(a)\u001b[0m\n\u001b[1;32m     27\u001b[0m     \u001b[0;31m# From http://stats.stackexchange.com/questions/798/\u001b[0m\u001b[0;34m\u001b[0m\u001b[0;34m\u001b[0m\u001b[0m\n\u001b[1;32m     28\u001b[0m     \u001b[0ma\u001b[0m \u001b[0;34m=\u001b[0m \u001b[0mnp\u001b[0m\u001b[0;34m.\u001b[0m\u001b[0masarray\u001b[0m\u001b[0;34m(\u001b[0m\u001b[0ma\u001b[0m\u001b[0;34m)\u001b[0m\u001b[0;34m\u001b[0m\u001b[0m\n\u001b[0;32m---> 29\u001b[0;31m     \u001b[0mh\u001b[0m \u001b[0;34m=\u001b[0m \u001b[0;36m2\u001b[0m \u001b[0;34m*\u001b[0m \u001b[0miqr\u001b[0m\u001b[0;34m(\u001b[0m\u001b[0ma\u001b[0m\u001b[0;34m)\u001b[0m \u001b[0;34m/\u001b[0m \u001b[0;34m(\u001b[0m\u001b[0mlen\u001b[0m\u001b[0;34m(\u001b[0m\u001b[0ma\u001b[0m\u001b[0;34m)\u001b[0m \u001b[0;34m**\u001b[0m \u001b[0;34m(\u001b[0m\u001b[0;36m1\u001b[0m \u001b[0;34m/\u001b[0m \u001b[0;36m3\u001b[0m\u001b[0;34m)\u001b[0m\u001b[0;34m)\u001b[0m\u001b[0;34m\u001b[0m\u001b[0m\n\u001b[0m\u001b[1;32m     30\u001b[0m     \u001b[0;31m# fall back to sqrt(a) bins if iqr is 0\u001b[0m\u001b[0;34m\u001b[0m\u001b[0;34m\u001b[0m\u001b[0m\n\u001b[1;32m     31\u001b[0m     \u001b[0;32mif\u001b[0m \u001b[0mh\u001b[0m \u001b[0;34m==\u001b[0m \u001b[0;36m0\u001b[0m\u001b[0;34m:\u001b[0m\u001b[0;34m\u001b[0m\u001b[0m\n",
      "\u001b[0;31mZeroDivisionError\u001b[0m: float division by zero"
     ]
    }
   ],
   "source": [
    "def has_peak_near(data,x,y,peak_idxs,trough_idxs, val, thresh):\n",
    "    data_list = list(data)\n",
    "    return sum([1 if (e <= val + thresh and e >= val - thresh) else 0 for e in data_list]) > 3\n",
    "\n",
    "threshs = [k/10.0 for k in range(21)]\n",
    "has_onep3_peak, no_onep3_peak = {}, {}\n",
    "for thresh in threshs:\n",
    "    has_onep3_peak[thresh] = []\n",
    "    no_onep3_peak[thresh] = []\n",
    "    \n",
    "for idx,data in enumerate(sortyspre):\n",
    "    if idx % 500 == 0: print idx\n",
    "    f = sns.kdeplot(data)\n",
    "    x,y = f.get_lines()[0].get_data()\n",
    "    plt.clf()\n",
    "    #print y\n",
    "    ny=[-k for k in y]\n",
    "    peak_idxs, trough_idxs = find_peaks(y)[0], find_peaks(ny)[0]\n",
    "    peak_locs, trough_locs = [x[k] for k in peak_idxs], [x[k] for k in trough_idxs]\n",
    "    for thresh in has_onep3_peak:\n",
    "        if has_peak_near(data,x,y,peak_idxs,trough_idxs,-1.5,thresh):\n",
    "            has_onep3_peak[thresh].append(idx)\n",
    "        else:\n",
    "            no_onep3_peak[thresh].append(idx)\n",
    "            \n",
    "has_eigs, doesnt_eigs = {}, {}\n",
    "for thresh in threshs:\n",
    "    has_eigs[thresh] = []\n",
    "    doesnt_eigs[thresh] = []\n",
    "    for idx in has_onep3_peak[thresh]:\n",
    "        has_eigs[thresh].extend(sortyspre[idx])\n",
    "    for idx in no_onep3_peak[thresh]:\n",
    "        doesnt_eigs[thresh].extend(sortyspre[idx])\n",
    "\n",
    "for thresh in threshs:\n",
    "    print len(has_onep3_peak[thresh]), len(no_onep3_peak[thresh]), len(has_onep3_peak[thresh])+len(no_onep3_peak[thresh])\n",
    "\n",
    "for thresh in threshs:\n",
    "    print \"THRESH:\", thresh\n",
    "    print len(has_onep3_peak[thresh]), len(no_onep3_peak[thresh]), len(has_onep3_peak[thresh])+len(no_onep3_peak[thresh])\n",
    "    sns.distplot(has_eigs[thresh], kde=False, label='all', norm_hist = False)\n",
    "    plt.legend(prop={'size':12})\n",
    "    plt.show()\n",
    "    sns.distplot(doesnt_eigs[thresh], kde=False, label='all', norm_hist = False)\n",
    "    plt.legend(prop={'size':12})\n",
    "    plt.show()    "
   ]
  },
  {
   "cell_type": "markdown",
   "metadata": {},
   "source": [
    "# Read in topological data\n",
    "\n",
    "There's a lot of it, and will mash it around a bit, too!\n",
    "\n",
    "Note: it looks like the $>6$ data works best, **so make sure not to load the $>9$ or $>3$ data**."
   ]
  },
  {
   "cell_type": "code",
   "execution_count": 29,
   "metadata": {},
   "outputs": [
    {
     "name": "stdout",
     "output_type": "stream",
     "text": [
      "('num files', 4222)\n"
     ]
    }
   ],
   "source": [
    "#import top data, correlate with eigenvalue spectra\n",
    "top_files = [d for d in os.listdir('top_data') if 'h11_30' in d and 'topdata_more' in d]\n",
    "print('num files', len(top_files))\n",
    "assert_mismatch = []\n",
    "def top_info_from_file(file):\n",
    "    h11 = int(file.split(\"_\")[1])\n",
    "    poly = int(file.split(\"_poly\")[1].split(\"_topdata\")[0])\n",
    "#     s = file.split(\"_poly\")[2]\n",
    "#     poly = int(\n",
    "#     s[s.index('y')+1:])\n",
    "    f = open(\"top_data/\"+file,'rb')\n",
    "    data = pickle.load(f)\n",
    "    f.close()\n",
    "\n",
    "    file2 = \"h11_\" + str(h11) + \"_poly\" + str(poly)+\"_evals.pickle\"\n",
    "    f2 = open(\"data/\"+file2,'rb')\n",
    "    eval_data = pickle.load(f2)\n",
    "    f2.close()\n",
    "\n",
    "    pairspre = data[1]\n",
    "    pairs = [[i[1],i[0]] for i in pairspre]\n",
    "    data[2].sort()\n",
    "    divvols = data[2]\n",
    "    Aevals = data[3]\n",
    "    twocones = data[5]\n",
    "    threecones = data[6]\n",
    "    fourcones = data[7]\n",
    "    #genera = data[1]\n",
    "    #dims = [3-i for i in data[2]]\n",
    "    #pairs = [[dims[kk],genera[kk]] for kk in range(len(verts))]\n",
    "    to_ret = [(h11,poly),[np.log10(this) for this in eval_data],pairs, divvols]\n",
    "#     try:\n",
    "#         assert len(evals) == h11\n",
    "#     except AssertionError:\n",
    "#         assert_mismatch.append(to_ret[0])\n",
    "    return to_ret\n",
    "\n",
    "\n",
    "import os\n",
    "import cPickle as pickle\n",
    "import numpy as np\n",
    "\n",
    "#raw_top_data = [top_info_from_file(file) for file in [top_files[ii] for ii in range(3399)]]\n",
    "raw_top_data = [top_info_from_file(file) for file in top_files]"
   ]
  },
  {
   "cell_type": "code",
   "execution_count": 127,
   "metadata": {},
   "outputs": [
    {
     "data": {
      "text/plain": [
       "[0,\n",
       " 3,\n",
       " 15,\n",
       " 3,\n",
       " 0,\n",
       " 9.646903741211688e-05,\n",
       " 0.00011576284489756006,\n",
       " 0.0015097404355399746,\n",
       " 0.0015193873392781998,\n",
       " 0.0015869156654695349,\n",
       " 0.0015965625692038188,\n",
       " 0.0016062094729512033,\n",
       " 0.0021994940530511986,\n",
       " 0.0033233583389293553,\n",
       " 0.0035597074805945317,\n",
       " 0.004415870187649773,\n",
       " 0.006270487431941474,\n",
       " 0.007432939332784605,\n",
       " 0.00879797621220102,\n",
       " 0.015203520296523831,\n",
       " 0.03653764792073627,\n",
       " 0.12264922684006807,\n",
       " 0.14559589471781464,\n",
       " 0.15546799336847994,\n",
       " 0.19168427880832833,\n",
       " 0.23071685720919355,\n",
       " 0.29267078036549066,\n",
       " 0.3122440465911451,\n",
       " 0.3242755443511842,\n",
       " 0.5123909209737866,\n",
       " 0.6159587229461466,\n",
       " 0.692431839164807,\n",
       " 0.7006835594526425,\n",
       " 0.9677493470281392,\n",
       " 1.0225155732326914,\n",
       " 10599.417187760386,\n",
       " 342.1225804643243,\n",
       " 1843.2237816285656,\n",
       " 109873773.72160923,\n",
       " 3231957.7902342863,\n",
       " 18296836.204517085]"
      ]
     },
     "execution_count": 127,
     "metadata": {},
     "output_type": "execute_result"
    }
   ],
   "source": []
  },
  {
   "cell_type": "code",
   "execution_count": 31,
   "metadata": {},
   "outputs": [
    {
     "name": "stdout",
     "output_type": "stream",
     "text": [
      "h11, poly (30, 7798)\n",
      "logged evals [1.3493933288660989, 1.30565313487706, 1.2612403642535213, 1.2234277393116757, 1.1560689652456146, 1.1089643379248584, 1.070267558630298, 0.9995745710386197, 0.9041286990598549, 0.8369860521204817, 0.8052381736360508, 0.7810072832989838, 0.7675331653288432, 0.6812938032142233, 0.6311000942716634, 0.5865991572718631, 0.5806057555990946, 0.47123393417914333, 0.42586770889289843, 0.3874910519758412, 0.23340308985117125, 0.14437342003245898, 0.10272639652111644, -0.07452355888416179, -0.5182048145020283, -0.6375868197791603, -1.7541165455454413, -1.1596133236720227, -0.837055053542904, -0.9031849036426246]\n",
      "each tuple in list is dim_of_face_point_is_interior_to, genus [[3, 0], [3, 0], [3, 0], [3, 0], [3, 0], [3, 0], [3, 0], [3, 0], [3, 0], [3, 0], [3, 0], [3, 0], [3, 0], [3, 0], [3, 0], [3, 0], [2, 0], [1, 0], [2, 0], [2, 0], [2, 0], [2, 0], [2, 0], [2, 0], [2, 0], [2, 0], [1, 0], [2, 0], [2, 0], [2, 0], [1, 0], [2, 0], [2, 0], [2, 0]]\n"
     ]
    }
   ],
   "source": [
    "print 'h11, poly', raw_top_data[0][0]\n",
    "print 'logged evals', raw_top_data[0][1]\n",
    "print 'each tuple in list is dim_of_face_point_is_interior_to, genus', raw_top_data[0][2]"
   ]
  },
  {
   "cell_type": "markdown",
   "metadata": {},
   "source": [
    "\"Genus\" means something!\n",
    "\n",
    "Consider a divisor $D$ in the CY3. Then $h^i(D,O_D)$ is $(1,0,g)$, $(1,g,0)$ or $(1+g,0,0)$. \n",
    "\n",
    "- vertex: first entry in tuple is 0, $h^i = (1,0,g)$\n",
    "- edge-interior: first entry in tuple is 1, $h^i=(1,g,0)$\n",
    "- two-face interior: first entry in tuple is 2, $h^i=(1+g,0,0)$. Note: in the favorable case we have $g=0$ here.\n",
    "\n",
    "Now we want to construct things that can be compared across examples. "
   ]
  },
  {
   "cell_type": "code",
   "execution_count": 131,
   "metadata": {},
   "outputs": [
    {
     "name": "stdout",
     "output_type": "stream",
     "text": [
      "max_geni 0 0\n"
     ]
    }
   ],
   "source": [
    "max_genus_slot2, max_genus_slot3 = 0, 0\n",
    "for d in raw_top_data:\n",
    "    for k in d[2]:\n",
    "        g = k[1]\n",
    "        if k[0] == 0 and g > max_genus_slot3:\n",
    "            max_genus_slot3 = g\n",
    "        if k[0] == 1 and g > max_genus_slot2:\n",
    "            max_genus_slot2 = g\n",
    "            \n",
    "print 'max_geni', max_genus_slot2, max_genus_slot3\n",
    "\n",
    "def vert_data_to_inv(vdat):\n",
    "    out = []\n",
    "    firsts = [i[0] for i in vdat]\n",
    "    out.append(firsts.count(0))\n",
    "    out.append(firsts.count(1))\n",
    "    out.append(firsts.count(2))\n",
    "    \n",
    "    gs_slot_2 = [i[1] for i in vdat if i[0] == 1]\n",
    "    gs_slot_3 = [i[1] for i in vdat if i[0] == 0]\n",
    " \n",
    "    gs_slot_2_mults = [gs_slot_2.count(i) for i in range(max_genus_slot2+1)]\n",
    "    gs_slot_3_mults = [gs_slot_3.count(i) for i in range(max_genus_slot3+1)]\n",
    "\n",
    "    out.extend(gs_slot_2_mults)\n",
    "    out.extend(gs_slot_3_mults)\n",
    "    \n",
    "    return out\n",
    "\n",
    "input_data = [vert_data_to_inv(dat[2]) + dat[3] for dat in raw_top_data]\n",
    "input_data = input_data[1:len(input_data) - 1]"
   ]
  },
  {
   "cell_type": "markdown",
   "metadata": {},
   "source": [
    "this is somewhat unexpected, but perhaps they all have genus zero? this can happen... anyways, let's try to learn on the other data, in particular the divisor volumes:"
   ]
  },
  {
   "cell_type": "code",
   "execution_count": 129,
   "metadata": {},
   "outputs": [
    {
     "data": {
      "text/plain": [
       "35"
      ]
     },
     "execution_count": 129,
     "metadata": {},
     "output_type": "execute_result"
    }
   ],
   "source": [
    "len(input_data[0])"
   ]
  },
  {
   "cell_type": "code",
   "execution_count": 130,
   "metadata": {},
   "outputs": [
    {
     "ename": "IndexError",
     "evalue": "list index out of range",
     "output_type": "error",
     "traceback": [
      "\u001b[0;31m---------------------------------------------------------------------------\u001b[0m",
      "\u001b[0;31mIndexError\u001b[0m                                Traceback (most recent call last)",
      "\u001b[0;32m<ipython-input-130-f484cb21a026>\u001b[0m in \u001b[0;36m<module>\u001b[0;34m()\u001b[0m\n\u001b[1;32m      8\u001b[0m     \u001b[0;32mreturn\u001b[0m \u001b[0mout\u001b[0m\u001b[0;34m\u001b[0m\u001b[0m\n\u001b[1;32m      9\u001b[0m \u001b[0;34m\u001b[0m\u001b[0m\n\u001b[0;32m---> 10\u001b[0;31m \u001b[0minput_data\u001b[0m \u001b[0;34m=\u001b[0m \u001b[0;34m[\u001b[0m\u001b[0mvert_data_to_inv\u001b[0m\u001b[0;34m(\u001b[0m\u001b[0mdat\u001b[0m\u001b[0;34m)\u001b[0m \u001b[0;32mfor\u001b[0m \u001b[0mdat\u001b[0m \u001b[0;32min\u001b[0m \u001b[0mraw_top_data\u001b[0m\u001b[0;34m]\u001b[0m\u001b[0;34m\u001b[0m\u001b[0m\n\u001b[0m",
      "\u001b[0;32m<ipython-input-130-f484cb21a026>\u001b[0m in \u001b[0;36mvert_data_to_inv\u001b[0;34m(vdat)\u001b[0m\n\u001b[1;32m      4\u001b[0m     \u001b[0mout\u001b[0m\u001b[0;34m.\u001b[0m\u001b[0mextend\u001b[0m\u001b[0;34m(\u001b[0m\u001b[0;34m[\u001b[0m\u001b[0mnp\u001b[0m\u001b[0;34m.\u001b[0m\u001b[0mmean\u001b[0m\u001b[0;34m(\u001b[0m\u001b[0mvdat\u001b[0m\u001b[0;34m[\u001b[0m\u001b[0;36m3\u001b[0m\u001b[0;34m]\u001b[0m\u001b[0;34m)\u001b[0m\u001b[0;34m]\u001b[0m\u001b[0;34m)\u001b[0m\u001b[0;34m\u001b[0m\u001b[0m\n\u001b[1;32m      5\u001b[0m     \u001b[0mout\u001b[0m\u001b[0;34m.\u001b[0m\u001b[0mextend\u001b[0m\u001b[0;34m(\u001b[0m\u001b[0;34m[\u001b[0m\u001b[0mnp\u001b[0m\u001b[0;34m.\u001b[0m\u001b[0mstd\u001b[0m\u001b[0;34m(\u001b[0m\u001b[0mvdat\u001b[0m\u001b[0;34m[\u001b[0m\u001b[0;36m3\u001b[0m\u001b[0;34m]\u001b[0m\u001b[0;34m)\u001b[0m\u001b[0;34m]\u001b[0m\u001b[0;34m)\u001b[0m\u001b[0;34m\u001b[0m\u001b[0m\n\u001b[0;32m----> 6\u001b[0;31m     \u001b[0mout\u001b[0m\u001b[0;34m.\u001b[0m\u001b[0mextend\u001b[0m\u001b[0;34m(\u001b[0m\u001b[0;34m[\u001b[0m\u001b[0mvdat\u001b[0m\u001b[0;34m[\u001b[0m\u001b[0;36m5\u001b[0m\u001b[0;34m]\u001b[0m\u001b[0;34m,\u001b[0m\u001b[0mvdat\u001b[0m\u001b[0;34m[\u001b[0m\u001b[0;36m6\u001b[0m\u001b[0;34m]\u001b[0m\u001b[0;34m,\u001b[0m\u001b[0mvdat\u001b[0m\u001b[0;34m[\u001b[0m\u001b[0;36m7\u001b[0m\u001b[0;34m]\u001b[0m\u001b[0;34m]\u001b[0m\u001b[0;34m)\u001b[0m\u001b[0;34m\u001b[0m\u001b[0m\n\u001b[0m\u001b[1;32m      7\u001b[0m     \u001b[0mout\u001b[0m\u001b[0;34m.\u001b[0m\u001b[0mextend\u001b[0m\u001b[0;34m(\u001b[0m\u001b[0mvdat\u001b[0m\u001b[0;34m[\u001b[0m\u001b[0;36m4\u001b[0m\u001b[0;34m]\u001b[0m\u001b[0;34m)\u001b[0m\u001b[0;34m\u001b[0m\u001b[0m\n\u001b[1;32m      8\u001b[0m     \u001b[0;32mreturn\u001b[0m \u001b[0mout\u001b[0m\u001b[0;34m\u001b[0m\u001b[0m\n",
      "\u001b[0;31mIndexError\u001b[0m: list index out of range"
     ]
    }
   ],
   "source": [
    "def vert_data_to_inv(vdat):\n",
    "    out = vdat[3]\n",
    "    out.extend([max(vdat[3])/min(vdat[3])])\n",
    "    out.extend([np.mean(vdat[3])])\n",
    "    out.extend([np.std(vdat[3])])\n",
    "    out.extend([vdat[5],vdat[6],vdat[7]])\n",
    "    out.extend(vdat[4])\n",
    "    return out\n",
    "\n",
    "input_data = [vert_data_to_inv(dat) for dat in raw_top_data]"
   ]
  },
  {
   "cell_type": "code",
   "execution_count": null,
   "metadata": {},
   "outputs": [],
   "source": []
  },
  {
   "cell_type": "code",
   "execution_count": 132,
   "metadata": {
    "collapsed": true
   },
   "outputs": [],
   "source": [
    "def simple_window_cut(evals,val,thresh,num_eig):\n",
    "    return sum([1 if (e <= val + thresh and e >= val - thresh) else 0 for e in evals]) > num_eig\n",
    "\n",
    "def simple_window_cut_hists(eval_sets,val,thresh,num_eig):\n",
    "    true_set, false_set = [], []\n",
    "    for evals in eval_sets:\n",
    "        makes_cut = simple_window_cut(evals,val,thresh,num_eig)\n",
    "        if makes_cut:\n",
    "            true_set.extend(evals)\n",
    "        else:\n",
    "            false_set.extend(evals)\n",
    "            \n",
    "    print \"num upper, lower\", len(true_set), len(false_set)\n",
    "    sns.distplot(true_set, kde=False, label='all', norm_hist = False)\n",
    "    plt.legend(prop={'size':12})\n",
    "    plt.show()\n",
    "\n",
    "    sns.distplot(false_set, kde=False, label='all', norm_hist = False)\n",
    "    plt.legend(prop={'size':12})\n",
    "    plt.show()\n",
    "    \n",
    "def simple_window_labels(eval_sets,val,thresh,num_eig):\n",
    "    out_labels = []\n",
    "    for evals in eval_sets:\n",
    "        makes_cut = simple_window_cut(evals,val,thresh,num_eig)\n",
    "        if makes_cut:\n",
    "            out_labels.append(1)\n",
    "        else:\n",
    "            out_labels.append(0)\n",
    "    return out_labels\n",
    "    "
   ]
  },
  {
   "cell_type": "code",
   "execution_count": 133,
   "metadata": {},
   "outputs": [
    {
     "name": "stdout",
     "output_type": "stream",
     "text": [
      "num upper, lower 72990 53670\n"
     ]
    },
    {
     "data": {
      "image/png": "[encoded data removed]",
      "text/plain": [
       "<Figure size 842.4x595.44 with 1 Axes>"
      ]
     },
     "metadata": {},
     "output_type": "display_data"
    },
    {
     "data": {
      "image/png": "[encoded data removed]",
      "text/plain": [
       "<Figure size 842.4x595.44 with 1 Axes>"
      ]
     },
     "metadata": {},
     "output_type": "display_data"
    }
   ],
   "source": [
    "simple_window_cut_hists([d[1] for d in raw_top_data],-.9,.7,6)"
   ]
  },
  {
   "cell_type": "code",
   "execution_count": 137,
   "metadata": {},
   "outputs": [
    {
     "name": "stdout",
     "output_type": "stream",
     "text": [
      "35\n",
      "35\n",
      "4220\n"
     ]
    }
   ],
   "source": [
    "print len(input_data[1])\n",
    "print len(input_data[0])\n",
    "print len(input_data)\n"
   ]
  },
  {
   "cell_type": "code",
   "execution_count": 135,
   "metadata": {
    "scrolled": false
   },
   "outputs": [],
   "source": [
    "import sklearn\n",
    "def learn(val,thresh,eig):\n",
    "    out_labels = simple_window_labels([d[1] for d in raw_top_data],val,thresh,eig)\n",
    "    nt, nf = out_labels.count(0), out_labels.count(1)\n",
    "    monkey = max([100.0*nt/(nt+nf), 100.0*nf/(nt+nf)])\n",
    "    print \"MONKEY WOULD GET\", monkey\n",
    "    \n",
    "    import csv\n",
    "\n",
    "    rows = [input_data[i] + [out_labels[i]] for i in range(len(input_data))]\n",
    "    print rows[0]\n",
    "    names = ['name' + str(i) for i in range(len(rows[0]))]\n",
    "    with open('data.csv', 'w') as writeFile:\n",
    "        writer = csv.writer(writeFile)\n",
    "        writer.writerows(rows)\n",
    "        writeFile.close()\n",
    "\n",
    "    import sys\n",
    "    import datetime\n",
    "    #print('Python: {}'.format(sys.version))\n",
    "    # scipy\n",
    "    import scipy\n",
    "    #print('scipy: {}'.format(scipy.__version__))\n",
    "    # numpy\n",
    "    import numpy\n",
    "    #print('numpy: {}'.format(numpy.__version__))\n",
    "    # matplotlib\n",
    "    import matplotlib\n",
    "    #print('matplotlib: {}'.format(matplotlib.__version__))\n",
    "    # pandas\n",
    "    import pandas\n",
    "    #print('pandas: {}'.format(pandas.__version__))\n",
    "    # scikit-learn\n",
    "    import sklearn\n",
    "    from sklearn.decomposition import PCA\n",
    "    #print('sklearn: {}'.format(sklearn.__version__))\n",
    "\n",
    "    # Load libraries\n",
    "    import pandas\n",
    "    from pandas.plotting import scatter_matrix\n",
    "    import matplotlib.pyplot as plt\n",
    "    from sklearn import model_selection\n",
    "    from sklearn.metrics import classification_report\n",
    "    from sklearn.metrics import confusion_matrix\n",
    "    from sklearn.metrics import accuracy_score\n",
    "    from sklearn.linear_model import LogisticRegression\n",
    "    from sklearn.linear_model import LinearRegression\n",
    "    from sklearn.tree import DecisionTreeClassifier\n",
    "    from sklearn.neighbors import KNeighborsClassifier\n",
    "    from sklearn.neighbors import KNeighborsRegressor\n",
    "    from sklearn.discriminant_analysis import LinearDiscriminantAnalysis\n",
    "    from sklearn.naive_bayes import GaussianNB\n",
    "    from sklearn.svm import SVC\n",
    "\n",
    "    def now():\n",
    "        return str(datetime.datetime.now())\n",
    "\n",
    "    from matplotlib import rc\n",
    "\n",
    "\n",
    "    # font = {'family': 'normal','size': 18}\n",
    "    # plt.rc('font', **font)\n",
    "    # rc('mathtext', default='regular')\n",
    "    # plt.rc('text', usetex=True)\n",
    "    # plt.rc('font', family='serif')\n",
    "\n",
    "\n",
    "    # Load dataset\n",
    "\n",
    "    url = 'data.csv'\n",
    "\n",
    "    # names = []\n",
    "    # for i in range(1):\n",
    "    #         names.append('v'+str(i))\n",
    "    #         names.append('m'+str(i))\n",
    "    # names.append('class')\n",
    "    # print(names)\n",
    "    # print(len(names))\n",
    "    #print('begin loading csv', now())\n",
    "    dataset = pandas.read_csv(url,names=names)#, names=names)\n",
    "    print dataset\n",
    "    #print('end loading csv', now())\n",
    "\n",
    "    # shape\n",
    "    #print(dataset.shape)\n",
    "\n",
    "    # head\n",
    "    #print(dataset.head(20))\n",
    "\n",
    "\n",
    "    # descriptions\n",
    "    #print(dataset.describe())\n",
    "\n",
    "    # # box and whisker plots\n",
    "    # dataset.plot(kind='box', subplots=True, layout=(157,157), sharex=False, sharey=False)\n",
    "    # plt.show()\n",
    "\n",
    "    # # histograms\n",
    "    # dataset.hist()\n",
    "    # plt.show()\n",
    "\n",
    "    # # scatter plot matrix\n",
    "    # scatter_matrix(dataset)\n",
    "    # plt.show()\n",
    "\n",
    "    # # # Split-out validation dataset\n",
    "    array = dataset.values\n",
    "    #print array\n",
    "    #print array.shape\n",
    "    X = array[:,0:35]\n",
    "    Y = array[:,35]\n",
    "    #print 'should be 1s and 0s', Y\n",
    "    validation_size = 0.1\n",
    "    seed=349534\n",
    "    X_train, X_validation, Y_train, Y_validation = model_selection.train_test_split(X, Y, test_size=validation_size, random_state=seed)\n",
    "\n",
    "    # # Test options and evaluation metric\n",
    "    seed = 11\n",
    "    #scoring = 'neg_mean_squared_error'\n",
    "    scoring = 'accuracy'\n",
    "\n",
    "    # Spot Check Algorithms\n",
    "    models = []\n",
    "    models.append(('LR', LogisticRegression()))\n",
    "    models.append(('LDA', LinearDiscriminantAnalysis()))\n",
    "    models.append(('KNN', KNeighborsClassifier()))\n",
    "    models.append(('CART', DecisionTreeClassifier()))\n",
    "    models.append(('SVM', SVC()))\n",
    "\n",
    "    #evaluate each model in turn\n",
    "    results = []\n",
    "    names = []\n",
    "    for name, model in models:\n",
    "       #print(name, str(datetime.datetime.now()))\n",
    "       kfold = model_selection.KFold(n_splits=10, random_state=seed)\n",
    "       cv_results = model_selection.cross_val_score(model, X_train, Y_train, cv=kfold, scoring=scoring)\n",
    "       results.append(cv_results)\n",
    "       #print('len', cv_results)\n",
    "       names.append(name)\n",
    "       msg = \"%s: %f (%f)\" % (name, cv_results.mean(), cv_results.std())\n",
    "       print(msg)\n",
    "\n",
    "    #Compare Algorithms\n",
    "    fig = plt.figure()\n",
    "    #fig.suptitle('Algorithm Comparison')\n",
    "    ax = fig.add_subplot(111)\n",
    "    plt.boxplot(results)\n",
    "    ax.set_xticklabels(names)\n",
    "    plt.show()\n",
    "\n",
    "    # import csv\n",
    "\n",
    "    # names = []\n",
    "    # for i in range(1):\n",
    "    #         names.append('v'+str(i))\n",
    "    #         names.append('m'+str(i))\n",
    "    # names.append('class')\n",
    "    # testdata = pandas.read_csv('datanew/testdatave6.bigcsv', names=names)\n",
    "    # array = testdata.values\n",
    "    # Xtest = array[:,0:2]\n",
    "    # Ytest = array[:,2]\n",
    "    # print(testdata.groupby('class').size())\n",
    "\n",
    "    # preds = []        \n",
    "    # for name, model in models:\n",
    "    #         print('test',name)\n",
    "    #         model.fit(X_train,Y_train)\n",
    "    #         print(model.score(X_validation,Y_validation))\n",
    "    #         print(model.score(Xtest,Ytest))\n",
    "\n",
    "\n",
    "    # # fig = plt.figure()\n",
    "    # # fig.suptitle('Algorithm Comparison')\n",
    "    # # ax = fig.add_subplot(111)\n",
    "    # # plt.boxplot(results)\n",
    "    # # ax.set_xticklabels(names)\n",
    "    # # plt.show()\n",
    "\n",
    "    # # # Make predictions on validation dataset\n",
    "    lor = LogisticRegression()\n",
    "    print('begin logistic regression fit')\n",
    "    lor.fit(X_train, Y_train)\n",
    "    print('end logistic regression fit')\n",
    "    predictions = lor.predict(X_validation)\n",
    "    print 'predictions', predictions\n",
    "    print(accuracy_score(Y_validation, predictions))\n",
    "    print(confusion_matrix(Y_validation, predictions))\n",
    "    print(classification_report(Y_validation, predictions))\n",
    "\n",
    "    # # check: 32 (a,S) pairs\n",
    "    # aSs = []\n",
    "    # for x in X:\n",
    "    #         t = [x[0],x[1]]\n",
    "    #         if t not in aSs: aSs.append(t)\n",
    "\n",
    "    # # check: all (a,S) pairs have same Y results\n",
    "    # checks = [[] for i in aSs]\n",
    "    # for i in range(len(X)):\n",
    "    #         x = X[i]\n",
    "    #         if Y[i] not in checks[aSs.index(t)]: checks[aSs.index(t)].append(Y[i])\n",
    "\n",
    "    # # check aS predictions match table and hyperplane distances\n",
    "    # preds = [lor.predict(numpy.array(aS))[0] for aS in aSs] \n",
    "    # dists = [lor.decision_function(numpy.array(aS)) for aS in aSs]        \n",
    "    # for a in range(4,6):\n",
    "    #         for S in range(40):\n",
    "    #                 if [a,S] in aSs:\n",
    "    #                         print [a,S], checks[aSs.index([a,S])], preds[aSs.index([a,S])], dists[aSs.index([a,S])]\n",
    "\n",
    "\n",
    "\n",
    "    # # count \n",
    "    # # predsx = [lor.predict(x)[0] for x in Xtest] \n",
    "    # c5y, c5n, c4y, c4n = 0,0,0,0\n",
    "    # for i in range(len(predsx)):\n",
    "    #         if Xtest[i][0] == 5 and Ytest[i] == 'has_E6': c5y += 1\n",
    "    #         if Xtest[i][0] == 5 and Ytest[i] == 'no_E6': c5n += 1\n",
    "    #         if Xtest[i][0] == 4 and Ytest[i] == 'has_E6': c4y += 1\n",
    "    #         if Xtest[i][0] == 4 and Ytest[i] == 'no_E6': c4n += 1\n",
    "\n",
    "    # print 'preds and actuals counts',c5y,c5n,c4y,c4n # out is 0 19753 14 233\n"
   ]
  },
  {
   "cell_type": "code",
   "execution_count": 136,
   "metadata": {
    "scrolled": false
   },
   "outputs": [
    {
     "name": "stdout",
     "output_type": "stream",
     "text": [
      "MONKEY WOULD GET 57.6267171956\n",
      "[0, 2, 13, 2, 0, 7.484737992391466e-05, 0.0006736264193167862, 0.0014221002185574871, 0.0020208792579497203, 0.003031318886920431, 0.0032932847166585733, 0.0038920637560512783, 0.003966911135975387, 0.007409890612482428, 0.011451649128382702, 0.02260390873706819, 0.030088646729474533, 0.036450674023019325, 0.08422201425955594, 0.09475678298386878, 0.148497201769348, 0.16211942491552556, 0.1672090467503633, 0.2115467634328838, 0.24626659179516056, 0.29781304675661335, 0.3609140659938507, 0.3855201421438852, 0.4553948492642492, 0.46517646622807396, 0.47234310285580305, 0.47861157092444406, 0.5107678765243249, 0.7722565542115388, 0.9207303661746586, 0]\n",
      "      name0  name1  name2  name3  name4     name5     name6     name7  \\\n",
      "0         0      2     13      2      0  0.000075  0.000674  0.001422   \n",
      "1         0      3     10      3      0  0.000009  0.000248  0.000275   \n",
      "2         1      1     15      1      1  0.000013  0.000038  0.000051   \n",
      "3         0      5     10      5      0  0.000011  0.000011  0.000032   \n",
      "4         1      8     10      8      1  0.000023  0.000023  0.000023   \n",
      "5         1      2     15      2      1  0.000001  0.000001  0.000007   \n",
      "6         2      1     16      1      2  0.000052  0.000052  0.000208   \n",
      "7         1      4     13      4      1  0.000005  0.000019  0.000019   \n",
      "8         0      4     12      4      0  0.000054  0.000081  0.001002   \n",
      "9         0      8      8      8      0  0.000075  0.000075  0.000075   \n",
      "10        0      4     15      4      0  0.000250  0.000375  0.001035   \n",
      "11        0      5     13      5      0  0.000012  0.000096  0.000120   \n",
      "12        2      5     12      5      2  0.000173  0.000259  0.000259   \n",
      "13        3      2     16      2      3  0.002223  0.002774  0.003534   \n",
      "14        1      8     10      8      1  0.000025  0.000025  0.000025   \n",
      "15        2      7     13      7      2  0.000057  0.000398  0.000512   \n",
      "16        2      4     15      4      2  0.000051  0.000051  0.000064   \n",
      "17        0      8     13      8      0  0.000150  0.000748  0.001496   \n",
      "18        0      2     12      2      0  0.000099  0.000197  0.001742   \n",
      "19        0      3      9      3      0  0.000025  0.000025  0.000226   \n",
      "20        2      5      9      5      2  0.000002  0.000009  0.000011   \n",
      "21        0      3     13      3      0  0.000026  0.000026  0.000103   \n",
      "22        1      8      9      8      1  0.000075  0.000449  0.000486   \n",
      "23        1      3     13      3      1  0.000123  0.000430  0.000614   \n",
      "24        0      5     13      5      0  0.000019  0.000019  0.000019   \n",
      "25        2      7     14      7      2  0.000026  0.000059  0.000065   \n",
      "26        0      5     11      5      0  0.000027  0.000027  0.000081   \n",
      "27        0      5     16      5      0  0.000250  0.000501  0.001113   \n",
      "28        0      3     11      3      0  0.003162  0.004185  0.004185   \n",
      "29        1      1     17      1      1  0.000041  0.000041  0.000061   \n",
      "...     ...    ...    ...    ...    ...       ...       ...       ...   \n",
      "4190      0      5      8      5      0  0.000016  0.000032  0.000142   \n",
      "4191      2      2     14      2      2  0.000190  0.000474  0.000948   \n",
      "4192      1      5     14      5      1  0.000014  0.000031  0.000128   \n",
      "4193      0      3     12      3      0  0.000159  0.001272  0.005245   \n",
      "4194      0      6     16      6      0  0.000160  0.001914  0.001968   \n",
      "4195      3      4     16      4      3  0.000112  0.000112  0.000262   \n",
      "4196      1      7     11      7      1  0.000002  0.000006  0.000013   \n",
      "4197      0      4     11      4      0  0.000038  0.000115  0.000730   \n",
      "4198      1      1     14      1      1  0.000059  0.000088  0.000205   \n",
      "4199      2      5     15      5      2  0.000186  0.000373  0.000559   \n",
      "4200      0      6     15      6      0  0.000007  0.000020  0.000027   \n",
      "4201      2      9     13      9      2  0.000067  0.000084  0.000151   \n",
      "4202      1      3     14      3      1  0.000029  0.000087  0.000115   \n",
      "4203      2      6     14      6      2  0.000035  0.000106  0.000141   \n",
      "4204      2      4     14      4      2  0.000106  0.000240  0.000240   \n",
      "4205      0      5      8      5      0  0.000041  0.000041  0.000041   \n",
      "4206      1      2     17      2      1  0.000284  0.000359  0.000973   \n",
      "4207      0      6     10      6      0  0.000033  0.000033  0.000133   \n",
      "4208      0      3     10      3      0  0.000035  0.000052  0.000381   \n",
      "4209      2      4     14      4      2  0.000016  0.000016  0.000062   \n",
      "4210      2      2     17      2      2  0.000076  0.000227  0.000379   \n",
      "4211      0      3     12      3      0  0.000049  0.000534  0.001215   \n",
      "4212      1      5     14      5      1  0.000045  0.000090  0.000134   \n",
      "4213      1      3     11      3      1  0.000011  0.000044  0.000554   \n",
      "4214      1      4     11      4      1  0.000055  0.000138  0.000249   \n",
      "4215      0     11      9     11      0  0.000043  0.000129  0.000687   \n",
      "4216      0      4     15      4      0  0.000163  0.000218  0.000218   \n",
      "4217      0      6     11      6      0  0.000037  0.000073  0.000183   \n",
      "4218      2      7     15      7      2  0.000015  0.000015  0.000015   \n",
      "4219      0      3     14      3      0  0.000127  0.000699  0.001620   \n",
      "\n",
      "         name8     name9   ...      name26    name27    name28    name29  \\\n",
      "0     0.002021  0.003031   ...    0.360914  0.385520  0.455395  0.465176   \n",
      "1     0.000638  0.000860   ...    0.255484  0.317103  0.321017  0.328822   \n",
      "2     0.000051  0.000089   ...    0.353066  0.368295  0.413475  0.443515   \n",
      "3     0.000053  0.000169   ...    0.300181  0.318437  0.376727  0.382763   \n",
      "4     0.000092  0.000092   ...    0.122533  0.155872  0.263501  0.460622   \n",
      "5     0.000020  0.000037   ...    0.277621  0.291505  0.330383  0.497163   \n",
      "6     0.000260  0.000260   ...    0.313702  0.362093  0.373952  0.487194   \n",
      "7     0.000024  0.000028   ...    0.271133  0.299143  0.356503  0.359506   \n",
      "8     0.003629  0.005146   ...    0.276162  0.290435  0.318821  0.341870   \n",
      "9     0.000075  0.000224   ...    0.203608  0.234487  0.302310  0.423933   \n",
      "10    0.001058  0.001251   ...    0.396731  0.401935  0.488541  0.512065   \n",
      "11    0.000577  0.000769   ...    0.396145  0.409580  0.420805  0.475560   \n",
      "12    0.001726  0.002071   ...    0.327995  0.352029  0.461363  0.497117   \n",
      "13    0.004142  0.004484   ...    0.247939  0.258275  0.336209  0.384329   \n",
      "14    0.000126  0.000530   ...    0.221054  0.234391  0.267355  0.369597   \n",
      "15    0.000512  0.000568   ...    0.243987  0.250958  0.302461  0.428612   \n",
      "16    0.000204  0.000204   ...    0.256893  0.439607  0.478904  0.481423   \n",
      "17    0.003291  0.005086   ...    0.116072  0.176950  0.245382  0.272156   \n",
      "18    0.001874  0.002367   ...    0.300495  0.310341  0.328432  0.343628   \n",
      "19    0.000276  0.001004   ...    0.308266  0.314379  0.322161  0.327069   \n",
      "20    0.000011  0.000011   ...    0.152298  0.257302  0.271953  0.292023   \n",
      "21    0.000103  0.000129   ...    0.215502  0.245800  0.252687  0.311272   \n",
      "22    0.000822  0.000897   ...    0.201455  0.267993  0.402890  0.471440   \n",
      "23    0.001505  0.001781   ...    0.197405  0.263217  0.265152  0.357743   \n",
      "24    0.000039  0.000078   ...    0.104668  0.134961  0.224119  0.233272   \n",
      "25    0.000104  0.000130   ...    0.168314  0.268039  0.350101  0.415866   \n",
      "26    0.000108  0.000108   ...    0.303096  0.320455  0.328885  0.409831   \n",
      "27    0.001503  0.001837   ...    0.226844  0.267441  0.302143  0.313614   \n",
      "28    0.007626  0.007719   ...    0.361584  0.374325  0.398412  0.412269   \n",
      "29    0.000102  0.000245   ...    0.113149  0.255168  0.284443  0.341831   \n",
      "...        ...       ...   ...         ...       ...       ...       ...   \n",
      "4190  0.000395  0.000475   ...    0.254586  0.263801  0.332662  0.339191   \n",
      "4191  0.003366  0.004740   ...    0.188232  0.243028  0.442494  0.471836   \n",
      "4192  0.000336  0.000499   ...    0.163877  0.217784  0.248406  0.303115   \n",
      "4193  0.011285  0.012239   ...    0.176910  0.186447  0.220939  0.294691   \n",
      "4194  0.002021  0.002553   ...    0.251162  0.382939  0.414793  0.460846   \n",
      "4195  0.000281  0.000487   ...    0.250858  0.282640  0.316227  0.428842   \n",
      "4196  0.000013  0.000016   ...    0.225310  0.259015  0.346964  0.367106   \n",
      "4197  0.001559  0.003702   ...    0.411555  0.412182  0.426327  0.524426   \n",
      "4198  0.001203  0.001277   ...    0.218639  0.247919  0.304829  0.324461   \n",
      "4199  0.000932  0.001118   ...    0.202513  0.260034  0.291659  0.337723   \n",
      "4200  0.000027  0.000027   ...    0.206211  0.300156  0.358291  0.419163   \n",
      "4201  0.000168  0.000369   ...    0.115836  0.135030  0.342522  0.375110   \n",
      "4202  0.000288  0.000461   ...    0.326341  0.333923  0.336925  0.394233   \n",
      "4203  0.000176  0.000705   ...    0.319442  0.320246  0.338376  0.377367   \n",
      "4204  0.000266  0.000798   ...    0.136816  0.147687  0.161905  0.263039   \n",
      "4205  0.000082  0.002454   ...    0.238988  0.307989  0.308216  0.435970   \n",
      "4206  0.001436  0.002648   ...    0.166447  0.266264  0.293931  0.308564   \n",
      "4207  0.000133  0.000166   ...    0.269517  0.368649  0.430153  0.446736   \n",
      "4208  0.002119  0.003313   ...    0.213887  0.243715  0.245978  0.322361   \n",
      "4209  0.000062  0.000078   ...    0.106246  0.129845  0.194483  0.392046   \n",
      "4210  0.000707  0.000791   ...    0.188377  0.215860  0.431254  0.433805   \n",
      "4211  0.001312  0.001360   ...    0.265395  0.322692  0.333794  0.430827   \n",
      "4212  0.000448  0.000716   ...    0.268481  0.270695  0.466109  0.538812   \n",
      "4213  0.000576  0.001152   ...    0.246681  0.327578  0.383344  0.403255   \n",
      "4214  0.000374  0.000484   ...    0.230877  0.356937  0.379675  0.511132   \n",
      "4215  0.000687  0.001888   ...    0.186448  0.223506  0.293673  0.339465   \n",
      "4216  0.000218  0.000544   ...    0.327563  0.360281  0.374871  0.396102   \n",
      "4217  0.000219  0.000365   ...    0.218992  0.243485  0.316898  0.334519   \n",
      "4218  0.000045  0.000105   ...    0.026898  0.059265  0.168076  0.280156   \n",
      "4219  0.002192  0.003622   ...    0.284822  0.314210  0.348998  0.378227   \n",
      "\n",
      "        name30    name31    name32    name33    name34  name35  \n",
      "0     0.472343  0.478612  0.510768  0.772257  0.920730       0  \n",
      "1     0.329943  0.443684  0.580140  0.606253  0.710434       0  \n",
      "2     0.457899  0.542706  0.630931  0.726482  0.814500       0  \n",
      "3     0.446446  0.497617  0.750712  0.792056  0.935909       1  \n",
      "4     0.480608  0.485745  0.631054  0.704220  0.776600       1  \n",
      "5     0.508751  0.661297  0.711110  0.803301  1.030635       1  \n",
      "6     0.505427  0.602469  0.724942  0.901233  1.019432       0  \n",
      "7     0.404398  0.442701  0.709339  0.729423  0.760403       0  \n",
      "8     0.379817  0.454762  0.482741  1.063422  1.384952       0  \n",
      "9     0.528987  0.755267  0.815425  0.923962  1.092940       0  \n",
      "10    0.547522  0.612310  0.706526  0.751021  0.831808       1  \n",
      "11    0.496061  0.507874  0.516741  0.679562  1.287365       0  \n",
      "12    0.664647  0.666519  0.714352  0.793681  1.477325       0  \n",
      "13    0.486559  0.598512  0.668844  0.977046  1.008400       1  \n",
      "14    0.525353  0.605050  0.665846  0.833624  1.435120       1  \n",
      "15    0.486979  0.612867  0.743061  0.951390  1.564201       1  \n",
      "16    0.533909  0.568004  0.730115  0.958731  1.269715       1  \n",
      "17    0.429960  0.508563  0.514247  0.636976  0.919453       1  \n",
      "18    0.428101  0.496117  0.597840  0.613068  0.662004       0  \n",
      "19    0.376210  0.383365  0.468530  0.633816  0.707584       0  \n",
      "20    0.376638  0.473381  0.785640  1.450279  1.565534       1  \n",
      "21    0.368367  0.493599  0.503620  0.757749  0.903776       1  \n",
      "22    0.508234  0.521141  0.551108  0.947528  1.368661       1  \n",
      "23    0.366557  0.456998  0.466764  0.540776  0.606158       1  \n",
      "24    0.278062  0.317878  0.353789  0.756802  1.536913       1  \n",
      "25    0.631989  0.801143  1.023130  1.424183  1.443200       1  \n",
      "26    0.431420  0.491381  0.514832  0.808851  0.960467       0  \n",
      "27    0.357182  0.560347  0.708269  0.906842  1.033446       0  \n",
      "28    0.447238  0.483694  0.519685  0.520150  0.544516       0  \n",
      "29    0.672293  0.696547  0.698122  0.910965  1.435924       0  \n",
      "...        ...       ...       ...       ...       ...     ...  \n",
      "4190  0.380467  0.382492  0.514092  0.582747  1.266175       0  \n",
      "4191  0.616837  0.641249  0.765204  0.912481  1.075163       1  \n",
      "4192  0.376657  0.547006  0.669498  0.731716  1.197028       1  \n",
      "4193  0.522305  0.559023  0.645014  0.680777  0.977534       1  \n",
      "4194  0.569383  0.616446  0.664998  0.705361  0.971413       0  \n",
      "4195  0.488817  0.523810  0.786062  0.795998  1.340501       1  \n",
      "4196  0.435978  0.448090  0.486573  0.698793  1.460283       1  \n",
      "4197  0.528528  0.557996  0.591445  0.802941  0.840237       1  \n",
      "4198  0.360814  0.624974  0.743537  0.894492  0.904845       0  \n",
      "4199  0.580384  0.778705  1.006019  1.007161  1.126162       1  \n",
      "4200  0.589299  0.635630  0.675840  0.782787  0.892519       1  \n",
      "4201  0.743114  0.743326  0.783705  1.352690  2.203724       1  \n",
      "4202  0.408394  0.642788  0.792057  0.850036  0.854828       1  \n",
      "4203  0.610033  0.659880  0.674655  0.733766  1.310692       1  \n",
      "4204  0.599929  0.606981  0.643314  0.930232  1.398249       1  \n",
      "4205  0.464533  0.515319  0.640335  0.640778  1.045272       0  \n",
      "4206  0.342321  0.347214  0.495630  1.008513  1.802204       0  \n",
      "4207  0.533337  0.546625  0.599409  0.999655  1.054736       0  \n",
      "4208  0.466703  0.597211  0.706739  0.947194  1.009757       1  \n",
      "4209  0.407582  0.463472  0.656128  0.709381  1.158274       0  \n",
      "4210  0.440049  0.519647  0.849124  0.925231  1.138637       1  \n",
      "4211  0.443387  0.477371  0.666726  0.995953  1.080070       0  \n",
      "4212  0.547843  0.576508  0.616408  0.748662  1.936613       0  \n",
      "4213  0.444028  0.506860  0.518724  0.782842  0.848000       1  \n",
      "4214  0.573837  0.644306  0.676426  0.728987  1.335969       0  \n",
      "4215  0.371437  0.519111  0.634919  0.660476  0.779374       0  \n",
      "4216  0.520823  0.550618  0.642305  0.768039  1.113177       1  \n",
      "4217  0.541953  0.765084  0.839321  1.043217  1.324071       1  \n",
      "4218  0.701304  0.888307  0.902263  1.006677  1.441330       1  \n",
      "4219  0.456001  0.460004  0.469313  0.598269  0.770910       1  \n",
      "\n",
      "[4220 rows x 36 columns]\n"
     ]
    },
    {
     "name": "stdout",
     "output_type": "stream",
     "text": [
      "LR: 0.577412 (0.014947)\n"
     ]
    },
    {
     "name": "stderr",
     "output_type": "stream",
     "text": [
      "/Users/cody/anaconda2/lib/python2.7/site-packages/sklearn/discriminant_analysis.py:388: UserWarning: Variables are collinear.\n",
      "  warnings.warn(\"Variables are collinear.\")\n"
     ]
    },
    {
     "name": "stdout",
     "output_type": "stream",
     "text": [
      "LDA: 0.571353 (0.017955)\n",
      "KNN: 0.510796 (0.023844)\n",
      "CART: 0.514747 (0.015332)\n"
     ]
    },
    {
     "name": "stderr",
     "output_type": "stream",
     "text": [
      "/Users/cody/anaconda2/lib/python2.7/site-packages/sklearn/svm/base.py:196: FutureWarning: The default value of gamma will change from 'auto' to 'scale' in version 0.22 to account better for unscaled features. Set gamma explicitly to 'auto' or 'scale' to avoid this warning.\n",
      "  \"avoid this warning.\", FutureWarning)\n"
     ]
    },
    {
     "name": "stdout",
     "output_type": "stream",
     "text": [
      "SVM: 0.578202 (0.015122)\n"
     ]
    },
    {
     "data": {
      "image/png": "[encoded data removed]",
      "text/plain": [
       "<Figure size 842.4x595.44 with 1 Axes>"
      ]
     },
     "metadata": {},
     "output_type": "display_data"
    },
    {
     "name": "stdout",
     "output_type": "stream",
     "text": [
      "begin logistic regression fit\n",
      "end logistic regression fit\n",
      "predictions [1. 1. 1. 1. 1. 1. 1. 1. 1. 1. 1. 1. 1. 1. 1. 1. 1. 1. 1. 1. 1. 1. 1. 1.\n",
      " 1. 1. 1. 1. 1. 1. 1. 1. 1. 1. 1. 1. 1. 1. 1. 1. 1. 1. 1. 1. 1. 1. 1. 1.\n",
      " 1. 1. 1. 1. 1. 1. 1. 1. 1. 1. 1. 1. 1. 1. 1. 1. 1. 1. 1. 1. 1. 1. 1. 1.\n",
      " 1. 1. 1. 1. 1. 1. 1. 1. 1. 1. 1. 1. 1. 1. 1. 1. 1. 1. 1. 1. 1. 1. 1. 1.\n",
      " 1. 1. 1. 1. 1. 1. 1. 1. 1. 1. 1. 1. 1. 1. 1. 1. 1. 1. 1. 1. 1. 1. 1. 1.\n",
      " 1. 1. 1. 1. 1. 1. 1. 1. 1. 1. 1. 1. 1. 1. 1. 1. 1. 1. 1. 1. 1. 1. 1. 1.\n",
      " 1. 1. 1. 1. 1. 1. 1. 1. 1. 1. 1. 1. 1. 1. 1. 1. 1. 1. 1. 1. 1. 1. 1. 1.\n",
      " 1. 1. 1. 1. 1. 1. 1. 1. 1. 1. 1. 1. 1. 1. 1. 1. 1. 1. 1. 1. 1. 1. 1. 1.\n",
      " 1. 1. 1. 1. 1. 1. 1. 1. 1. 1. 1. 1. 1. 1. 1. 1. 1. 1. 1. 1. 1. 1. 1. 1.\n",
      " 1. 1. 1. 1. 1. 1. 1. 1. 1. 1. 1. 1. 1. 1. 1. 1. 1. 1. 1. 1. 1. 1. 1. 1.\n",
      " 1. 1. 1. 1. 1. 1. 1. 1. 1. 1. 1. 1. 1. 1. 1. 1. 1. 1. 1. 1. 1. 1. 1. 1.\n",
      " 1. 1. 1. 1. 1. 1. 1. 1. 1. 1. 1. 1. 1. 1. 1. 1. 1. 1. 1. 1. 1. 1. 1. 1.\n",
      " 1. 1. 1. 1. 1. 1. 1. 1. 1. 1. 1. 1. 1. 1. 1. 1. 1. 1. 1. 1. 1. 1. 1. 1.\n",
      " 1. 1. 1. 1. 1. 1. 1. 1. 1. 1. 1. 1. 1. 1. 1. 1. 1. 1. 1. 1. 1. 1. 1. 1.\n",
      " 1. 1. 1. 1. 1. 1. 1. 1. 1. 1. 1. 1. 1. 1. 1. 1. 1. 1. 1. 1. 1. 1. 1. 1.\n",
      " 1. 1. 1. 1. 1. 1. 1. 1. 1. 1. 1. 1. 1. 1. 1. 1. 1. 1. 1. 1. 1. 1. 1. 1.\n",
      " 1. 1. 1. 1. 1. 1. 1. 1. 1. 1. 1. 1. 1. 1. 1. 1. 1. 1. 1. 1. 1. 1. 1. 1.\n",
      " 1. 1. 1. 1. 1. 1. 1. 1. 1. 1. 1. 1. 1. 1.]\n",
      "0.556872037914692\n",
      "[[  0 187]\n",
      " [  0 235]]\n",
      "              precision    recall  f1-score   support\n",
      "\n",
      "         0.0       0.00      0.00      0.00       187\n",
      "         1.0       0.56      1.00      0.72       235\n",
      "\n",
      "   micro avg       0.56      0.56      0.56       422\n",
      "   macro avg       0.28      0.50      0.36       422\n",
      "weighted avg       0.31      0.56      0.40       422\n",
      "\n"
     ]
    },
    {
     "name": "stderr",
     "output_type": "stream",
     "text": [
      "/Users/cody/anaconda2/lib/python2.7/site-packages/sklearn/metrics/classification.py:1143: UndefinedMetricWarning: Precision and F-score are ill-defined and being set to 0.0 in labels with no predicted samples.\n",
      "  'precision', 'predicted', average, warn_for)\n"
     ]
    }
   ],
   "source": [
    "learn(-.9,.7,6)"
   ]
  },
  {
   "cell_type": "code",
   "execution_count": 80,
   "metadata": {},
   "outputs": [
    {
     "data": {
      "text/plain": [
       "['precision_samples',\n",
       " 'f1_weighted',\n",
       " 'balanced_accuracy',\n",
       " 'f1_samples',\n",
       " 'f1',\n",
       " 'adjusted_mutual_info_score',\n",
       " 'precision',\n",
       " 'normalized_mutual_info_score',\n",
       " 'neg_mean_squared_error',\n",
       " 'precision_micro',\n",
       " 'neg_mean_squared_log_error',\n",
       " 'recall_samples',\n",
       " 'homogeneity_score',\n",
       " 'precision_weighted',\n",
       " 'fowlkes_mallows_score',\n",
       " 'average_precision',\n",
       " 'roc_auc',\n",
       " 'adjusted_rand_score',\n",
       " 'recall_macro',\n",
       " 'v_measure_score',\n",
       " 'completeness_score',\n",
       " 'r2',\n",
       " 'recall_weighted',\n",
       " 'recall',\n",
       " 'precision_macro',\n",
       " 'neg_log_loss',\n",
       " 'neg_mean_absolute_error',\n",
       " 'mutual_info_score',\n",
       " 'f1_macro',\n",
       " 'f1_micro',\n",
       " 'brier_score_loss',\n",
       " 'recall_micro',\n",
       " 'neg_median_absolute_error',\n",
       " 'explained_variance',\n",
       " 'accuracy']"
      ]
     },
     "execution_count": 80,
     "metadata": {},
     "output_type": "execute_result"
    }
   ],
   "source": [
    "sklearn.metrics.SCORERS.keys()"
   ]
  },
  {
   "cell_type": "code",
   "execution_count": 87,
   "metadata": {},
   "outputs": [
    {
     "data": {
      "text/plain": [
       "[[0,\n",
       "  3,\n",
       "  15,\n",
       "  3,\n",
       "  0,\n",
       "  9.646903741211688e-05,\n",
       "  0.00011576284489756006,\n",
       "  0.0015097404355399746,\n",
       "  0.0015193873392781998,\n",
       "  0.0015869156654695349,\n",
       "  0.0015965625692038188,\n",
       "  0.0016062094729512033,\n",
       "  0.0021994940530511986,\n",
       "  0.0033233583389293553,\n",
       "  0.0035597074805945317,\n",
       "  0.004415870187649773,\n",
       "  0.006270487431941474,\n",
       "  0.007432939332784605,\n",
       "  0.00879797621220102,\n",
       "  0.015203520296523831,\n",
       "  0.03653764792073627,\n",
       "  0.12264922684006807,\n",
       "  0.14559589471781464,\n",
       "  0.15546799336847994,\n",
       "  0.19168427880832833,\n",
       "  0.23071685720919355,\n",
       "  0.29267078036549066,\n",
       "  0.3122440465911451,\n",
       "  0.3242755443511842,\n",
       "  0.5123909209737866,\n",
       "  0.6159587229461466,\n",
       "  0.692431839164807,\n",
       "  0.7006835594526425,\n",
       "  0.9677493470281392,\n",
       "  1.0225155732326914,\n",
       "  10599.417187760386,\n",
       "  342.1225804643243,\n",
       "  1843.2237816285656,\n",
       "  109873773.72160923,\n",
       "  3231957.7902342863,\n",
       "  18296836.204517085],\n",
       " [0,\n",
       "  2,\n",
       "  13,\n",
       "  2,\n",
       "  0,\n",
       "  7.484737992391466e-05,\n",
       "  0.0006736264193167862,\n",
       "  0.0014221002185574871,\n",
       "  0.0020208792579497203,\n",
       "  0.003031318886920431,\n",
       "  0.0032932847166585733,\n",
       "  0.0038920637560512783,\n",
       "  0.003966911135975387,\n",
       "  0.007409890612482428,\n",
       "  0.011451649128382702,\n",
       "  0.02260390873706819,\n",
       "  0.030088646729474533,\n",
       "  0.036450674023019325,\n",
       "  0.08422201425955594,\n",
       "  0.09475678298386878,\n",
       "  0.148497201769348,\n",
       "  0.16211942491552556,\n",
       "  0.1672090467503633,\n",
       "  0.2115467634328838,\n",
       "  0.24626659179516056,\n",
       "  0.29781304675661335,\n",
       "  0.3609140659938507,\n",
       "  0.3855201421438852,\n",
       "  0.4553948492642492,\n",
       "  0.46517646622807396,\n",
       "  0.47234310285580305,\n",
       "  0.47861157092444406,\n",
       "  0.5107678765243249,\n",
       "  0.7722565542115388,\n",
       "  0.9207303661746586],\n",
       " [0,\n",
       "  3,\n",
       "  10,\n",
       "  3,\n",
       "  0,\n",
       "  8.864197141855712e-06,\n",
       "  0.00024819751997506856,\n",
       "  0.00027479011140485454,\n",
       "  0.000638222194222049,\n",
       "  0.0008598271227717724,\n",
       "  0.0013384937684359777,\n",
       "  0.0013916789512897765,\n",
       "  0.0018348888083878911,\n",
       "  0.002743469015434208,\n",
       "  0.0034038517025125614,\n",
       "  0.01139492542599907,\n",
       "  0.013380505585800506,\n",
       "  0.1022839708211496,\n",
       "  0.10496982255516762,\n",
       "  0.11645782205115635,\n",
       "  0.11900184663090158,\n",
       "  0.13966429016882237,\n",
       "  0.15367858585027233,\n",
       "  0.19725054690160881,\n",
       "  0.22560268146018903,\n",
       "  0.2505332359219703,\n",
       "  0.25548389002575167,\n",
       "  0.31710335645813426,\n",
       "  0.32101689949631185,\n",
       "  0.3288218250798165,\n",
       "  0.3299431460182767,\n",
       "  0.443684091645415,\n",
       "  0.5801395424488496,\n",
       "  0.6062534672290811,\n",
       "  0.7104343762386192],\n",
       " [1,\n",
       "  1,\n",
       "  15,\n",
       "  1,\n",
       "  1,\n",
       "  1.2707068520967368e-05,\n",
       "  3.812120556845322e-05,\n",
       "  5.08282740909749e-05,\n",
       "  5.082827409158899e-05,\n",
       "  8.894947965987221e-05,\n",
       "  0.0036088074605017395,\n",
       "  0.004053554858802322,\n",
       "  0.005095534477682406,\n",
       "  0.0051336556832506375,\n",
       "  0.005476746533368271,\n",
       "  0.005565696013028809,\n",
       "  0.00770048352487418,\n",
       "  0.026875449925927164,\n",
       "  0.027574338694686062,\n",
       "  0.03195827733508727,\n",
       "  0.03549084238444955,\n",
       "  0.05969780792056545,\n",
       "  0.12256730014445394,\n",
       "  0.2495159975156036,\n",
       "  0.2586803353343172,\n",
       "  0.35175961226453634,\n",
       "  0.35306589890868967,\n",
       "  0.36829532053338077,\n",
       "  0.4134753026665421,\n",
       "  0.4435148126546702,\n",
       "  0.4578992142225884,\n",
       "  0.5427061895444034,\n",
       "  0.6309313662988791,\n",
       "  0.7264821680567989,\n",
       "  0.8145002195943514],\n",
       " [0,\n",
       "  5,\n",
       "  10,\n",
       "  5,\n",
       "  0,\n",
       "  1.059330443009543e-05,\n",
       "  1.0593304430983608e-05,\n",
       "  3.1779913289477724e-05,\n",
       "  5.29665221482567e-05,\n",
       "  0.0001694928708777521,\n",
       "  0.0008474643543867622,\n",
       "  0.0009639907031141481,\n",
       "  0.0010487371385528022,\n",
       "  0.001864421579648945,\n",
       "  0.004237321771930258,\n",
       "  0.00479876690671055,\n",
       "  0.005211905779474446,\n",
       "  0.00708162401133805,\n",
       "  0.007150480490132508,\n",
       "  0.02490750704062883,\n",
       "  0.06451852062985508,\n",
       "  0.08202395620014347,\n",
       "  0.1547787710241888,\n",
       "  0.1923505735106742,\n",
       "  0.20768173334673867,\n",
       "  0.2773644898861338,\n",
       "  0.30018114346492597,\n",
       "  0.3184373794866775,\n",
       "  0.37672703711179567,\n",
       "  0.3827625723106891,\n",
       "  0.446446208135169,\n",
       "  0.4976165031019151,\n",
       "  0.7507117325393193,\n",
       "  0.7920560755658762,\n",
       "  0.9359085151522231],\n",
       " [1,\n",
       "  8,\n",
       "  10,\n",
       "  8,\n",
       "  1,\n",
       "  2.2929061319842958e-05,\n",
       "  2.292906132139727e-05,\n",
       "  2.2929061322507494e-05,\n",
       "  9.171624528647726e-05,\n",
       "  9.171624528647726e-05,\n",
       "  0.00022929061320908772,\n",
       "  0.0011235240047438033,\n",
       "  0.0011235240047446915,\n",
       "  0.001238169311352788,\n",
       "  0.0014674599245649844,\n",
       "  0.005304256185670653,\n",
       "  0.005732265330339104,\n",
       "  0.006603569660543762,\n",
       "  0.01359693336355594,\n",
       "  0.014949747981511052,\n",
       "  0.014995606104150738,\n",
       "  0.02967020534980591,\n",
       "  0.05113180674657969,\n",
       "  0.07142402601595754,\n",
       "  0.08896475792677805,\n",
       "  0.09355057019104152,\n",
       "  0.12253290370121128,\n",
       "  0.15587175886242832,\n",
       "  0.26350077270477623,\n",
       "  0.4606219128842932,\n",
       "  0.48060841133606047,\n",
       "  0.4857445210720357,\n",
       "  0.631053625685771,\n",
       "  0.7042202603621509,\n",
       "  0.7765996639331569],\n",
       " [1,\n",
       "  2,\n",
       "  15,\n",
       "  2,\n",
       "  1,\n",
       "  1.3326654544343342e-06,\n",
       "  1.3326654602074939e-06,\n",
       "  6.663327275280295e-06,\n",
       "  1.998998181973466e-05,\n",
       "  3.731463273003166e-05,\n",
       "  0.00016924851274024988,\n",
       "  0.0004571042509446954,\n",
       "  0.0006419005273219159,\n",
       "  0.0008928858546082274,\n",
       "  0.000900881847342383,\n",
       "  0.002294849912902978,\n",
       "  0.0024947497311004208,\n",
       "  0.0025320643638302442,\n",
       "  0.0032576266669162024,\n",
       "  0.0037267249069543344,\n",
       "  0.011500014429973504,\n",
       "  0.01630782716852286,\n",
       "  0.05661268148366505,\n",
       "  0.10824441888829384,\n",
       "  0.14924875804052767,\n",
       "  0.17929034437293123,\n",
       "  0.27762086751218273,\n",
       "  0.29150457621870174,\n",
       "  0.33038300137023047,\n",
       "  0.49716284184537507,\n",
       "  0.5087505407264631,\n",
       "  0.6612973084877165,\n",
       "  0.7111097518885005,\n",
       "  0.8033008580311208,\n",
       "  1.0306347133930545],\n",
       " [2,\n",
       "  1,\n",
       "  16,\n",
       "  1,\n",
       "  2,\n",
       "  5.1936954317891026e-05,\n",
       "  5.1936954321041284e-05,\n",
       "  0.00020774781728083447,\n",
       "  0.00025968477159976633,\n",
       "  0.00025968477160231984,\n",
       "  0.0002596847716045403,\n",
       "  0.000519369543201309,\n",
       "  0.0006751804061664313,\n",
       "  0.002129415127133605,\n",
       "  0.003791397665379448,\n",
       "  0.004051082436984543,\n",
       "  0.008985093097410912,\n",
       "  0.01376329289487721,\n",
       "  0.013988353030263578,\n",
       "  0.01438653634670839,\n",
       "  0.02680523920196931,\n",
       "  0.027272671790854908,\n",
       "  0.06457494653822593,\n",
       "  0.11561166031695613,\n",
       "  0.23526286152549736,\n",
       "  0.2919849405704902,\n",
       "  0.3137015124036113,\n",
       "  0.3620929039756331,\n",
       "  0.3739518418787662,\n",
       "  0.4871940229241759,\n",
       "  0.5054273563542189,\n",
       "  0.6024686701153266,\n",
       "  0.7249417791752639,\n",
       "  0.9012331144564305,\n",
       "  1.019432389253073],\n",
       " [1,\n",
       "  4,\n",
       "  13,\n",
       "  4,\n",
       "  1,\n",
       "  4.7369463351820684e-06,\n",
       "  1.8947785343337298e-05,\n",
       "  1.8947785343836898e-05,\n",
       "  2.3684731679463056e-05,\n",
       "  2.8421678015977392e-05,\n",
       "  0.0007768591990895413,\n",
       "  0.000805280877097303,\n",
       "  0.0009189675891638771,\n",
       "  0.0024253165239827013,\n",
       "  0.003183227937725075,\n",
       "  0.0037279767663545016,\n",
       "  0.005191693184147985,\n",
       "  0.006025395739266859,\n",
       "  0.009904954788367393,\n",
       "  0.029174852482817037,\n",
       "  0.07186421286196178,\n",
       "  0.15901455154987826,\n",
       "  0.18283191772679053,\n",
       "  0.18312560839961717,\n",
       "  0.24614594245245114,\n",
       "  0.2642150242507477,\n",
       "  0.2711333343743334,\n",
       "  0.2991428980585171,\n",
       "  0.3565025812399487,\n",
       "  0.3595058052169078,\n",
       "  0.40439784564224956,\n",
       "  0.4427007937143487,\n",
       "  0.7093387660159065,\n",
       "  0.7294234184801329,\n",
       "  0.7604030475169288],\n",
       " [0,\n",
       "  4,\n",
       "  12,\n",
       "  4,\n",
       "  0,\n",
       "  5.417055806355292e-05,\n",
       "  8.12558370943961e-05,\n",
       "  0.0010021553241756909,\n",
       "  0.0036294273902576224,\n",
       "  0.005146203016032979,\n",
       "  0.006446296409562069,\n",
       "  0.008315180662754579,\n",
       "  0.008477692336944832,\n",
       "  0.012838422261060689,\n",
       "  0.012865507540091858,\n",
       "  0.021966161294768805,\n",
       "  0.02730196126402684,\n",
       "  0.033152381534890515,\n",
       "  0.052193332694227434,\n",
       "  0.06771319757943339,\n",
       "  0.11402902472376536,\n",
       "  0.1319053088847355,\n",
       "  0.14338946719420553,\n",
       "  0.17028514927276017,\n",
       "  0.1914658374756047,\n",
       "  0.263025144677551,\n",
       "  0.27616150500796044,\n",
       "  0.29043544705770447,\n",
       "  0.31882081948300267,\n",
       "  0.3418703919390419,\n",
       "  0.37981686786255703,\n",
       "  0.454761834943473,\n",
       "  0.48274092818329484,\n",
       "  1.0634222253454797,\n",
       "  1.3849515727316613],\n",
       " [0,\n",
       "  8,\n",
       "  8,\n",
       "  8,\n",
       "  0,\n",
       "  7.456458294299861e-05,\n",
       "  7.45645829431929e-05,\n",
       "  7.456458294363699e-05,\n",
       "  7.456458294407414e-05,\n",
       "  0.0002236937488300228,\n",
       "  0.0006710812464922888,\n",
       "  0.0009134161410590739,\n",
       "  0.0010066218697386553,\n",
       "  0.0011743921813618385,\n",
       "  0.0014912916588723226,\n",
       "  0.002274219779780262,\n",
       "  0.003751530579350404,\n",
       "  0.004660286433975881,\n",
       "  0.005648267157978504,\n",
       "  0.007698793188928146,\n",
       "  0.007829281209079435,\n",
       "  0.06597567504579505,\n",
       "  0.0750585733056166,\n",
       "  0.1880751796159645,\n",
       "  0.19423840842489748,\n",
       "  0.19698622981353076,\n",
       "  0.2036079143004059,\n",
       "  0.23448697221192985,\n",
       "  0.3023104508287976,\n",
       "  0.4239328585752882,\n",
       "  0.5289867829773843,\n",
       "  0.7552669907790819,\n",
       "  0.8154254632836695,\n",
       "  0.9239623692593595,\n",
       "  1.0929396950688886],\n",
       " [0,\n",
       "  4,\n",
       "  15,\n",
       "  4,\n",
       "  0,\n",
       "  0.00025025687864399515,\n",
       "  0.0003753853179628841,\n",
       "  0.0010351534525652184,\n",
       "  0.0010579040778981863,\n",
       "  0.0012512843932107054,\n",
       "  0.0013081609565386287,\n",
       "  0.0015242918971853925,\n",
       "  0.0017517981504956426,\n",
       "  0.0017972994011574706,\n",
       "  0.0032533394223452916,\n",
       "  0.003913107556947182,\n",
       "  0.00443637193956814,\n",
       "  0.009327756385757224,\n",
       "  0.012364964867456418,\n",
       "  0.013593498635335877,\n",
       "  0.01390063207730563,\n",
       "  0.021965728757181502,\n",
       "  0.0226027462664522,\n",
       "  0.09250404259626954,\n",
       "  0.34096362183726514,\n",
       "  0.38484957810096776,\n",
       "  0.39673109218013636,\n",
       "  0.40193529772462844,\n",
       "  0.4885412407038081,\n",
       "  0.5120653872961753,\n",
       "  0.5475222368746979,\n",
       "  0.6123103301613493,\n",
       "  0.7065263573137894,\n",
       "  0.7510208928050948,\n",
       "  0.8318083633558494],\n",
       " [0,\n",
       "  5,\n",
       "  13,\n",
       "  5,\n",
       "  0,\n",
       "  1.201202613976271e-05,\n",
       "  9.609620911710248e-05,\n",
       "  0.00012012026139718301,\n",
       "  0.0005765772547040027,\n",
       "  0.0007687696729385962,\n",
       "  0.001441443136759979,\n",
       "  0.0016576596072748195,\n",
       "  0.0016696716334137496,\n",
       "  0.003111114770173673,\n",
       "  0.0031351388224527543,\n",
       "  0.00498499084796028,\n",
       "  0.012240254636321057,\n",
       "  0.02103305777055775,\n",
       "  0.027315347441603466,\n",
       "  0.027663696199656918,\n",
       "  0.038198243124140385,\n",
       "  0.07485894690240569,\n",
       "  0.1159540903305632,\n",
       "  0.20371395330697,\n",
       "  0.3664668974776769,\n",
       "  0.3754118529430172,\n",
       "  0.3961446100600816,\n",
       "  0.40958006129729907,\n",
       "  0.42080529972481795,\n",
       "  0.47556011887813365,\n",
       "  0.49606064348983236,\n",
       "  0.5078744711981952,\n",
       "  0.5167413484936253,\n",
       "  0.6795623608124579,\n",
       "  1.2873648774665436],\n",
       " [2,\n",
       "  5,\n",
       "  12,\n",
       "  5,\n",
       "  2,\n",
       "  0.00017259507236833116,\n",
       "  0.00025889260855116447,\n",
       "  0.00025889260855160856,\n",
       "  0.0017259507236777605,\n",
       "  0.0020711408684133126,\n",
       "  0.002071140868415533,\n",
       "  0.002330033476964699,\n",
       "  0.002373182245057892,\n",
       "  0.002459479781238505,\n",
       "  0.003149860070712829,\n",
       "  0.0036244965197245183,\n",
       "  0.003969686664459904,\n",
       "  0.013289820572321975,\n",
       "  0.013332969340416279,\n",
       "  0.0399557592531532,\n",
       "  0.059804192575452664,\n",
       "  0.0667106922681705,\n",
       "  0.08327712241747642,\n",
       "  0.13722386972444633,\n",
       "  0.19998375291419768,\n",
       "  0.2748091103816588,\n",
       "  0.32799536065101065,\n",
       "  0.35202922447823215,\n",
       "  0.4613628092272376,\n",
       "  0.4971169571874321,\n",
       "  0.6646474429004692,\n",
       "  0.666519020716458,\n",
       "  0.7143521269443962,\n",
       "  0.7936811370814594,\n",
       "  1.4773248251344198],\n",
       " [3,\n",
       "  2,\n",
       "  16,\n",
       "  2,\n",
       "  3,\n",
       "  0.002222902159849504,\n",
       "  0.0027738779088723187,\n",
       "  0.0035338444592483073,\n",
       "  0.00414181769954905,\n",
       "  0.0044838026472182714,\n",
       "  0.004616796793535993,\n",
       "  0.004901784249925212,\n",
       "  0.005585754145263411,\n",
       "  0.005661750800301038,\n",
       "  0.005794744946613195,\n",
       "  0.009347588569624525,\n",
       "  0.009423585224662169,\n",
       "  0.009651575189774886,\n",
       "  0.010031558464962731,\n",
       "  0.011513493238195727,\n",
       "  0.012159464806015291,\n",
       "  0.013907387871880672,\n",
       "  0.021317061738046927,\n",
       "  0.03628840278045392,\n",
       "  0.14936667568545836,\n",
       "  0.19857213492683357,\n",
       "  0.24793908706016293,\n",
       "  0.25827463214527613,\n",
       "  0.3362092018863335,\n",
       "  0.3843293338979511,\n",
       "  0.4865590842963405,\n",
       "  0.598511656748602,\n",
       "  0.6688441860904293,\n",
       "  0.9770462456999374,\n",
       "  1.0083996156938864],\n",
       " [1,\n",
       "  8,\n",
       "  10,\n",
       "  8,\n",
       "  1,\n",
       "  2.524408281656676e-05,\n",
       "  2.5244082816986563e-05,\n",
       "  2.5244082817232893e-05,\n",
       "  0.00012622041408144602,\n",
       "  0.0005301257391507885,\n",
       "  0.0005553698219635805,\n",
       "  0.0006058579876007109,\n",
       "  0.0007068343188709747,\n",
       "  0.0012369600580197648,\n",
       "  0.001236960058021097,\n",
       "  0.006311020704175663,\n",
       "  0.008397864883689765,\n",
       "  0.010922273165361318,\n",
       "  0.010972761330993674,\n",
       "  0.011948865866573843,\n",
       "  0.016290848111047085,\n",
       "  0.03033029802125664,\n",
       "  0.03746221889999052,\n",
       "  0.0645238756795008,\n",
       "  0.06765414194876854,\n",
       "  0.09340310642180844,\n",
       "  0.22105401853161177,\n",
       "  0.23439130895310223,\n",
       "  0.2673554062815695,\n",
       "  0.369596746587314,\n",
       "  0.5253527375663875,\n",
       "  0.6050501769507888,\n",
       "  0.6658463430676829,\n",
       "  0.8336241272636857,\n",
       "  1.4351204983334975],\n",
       " [2,\n",
       "  7,\n",
       "  13,\n",
       "  7,\n",
       "  2,\n",
       "  5.684694450455762e-05,\n",
       "  0.0003979286115312064,\n",
       "  0.0005116225005410285,\n",
       "  0.0005116225005410285,\n",
       "  0.0005684694450451486,\n",
       "  0.001819102224145705,\n",
       "  0.00341081667027332,\n",
       "  0.003467663614779015,\n",
       "  0.004149826948833112,\n",
       "  0.004377214726851264,\n",
       "  0.005627847505951154,\n",
       "  0.006139470006492254,\n",
       "  0.01000506223280162,\n",
       "  0.012790562513525616,\n",
       "  0.026320135305610302,\n",
       "  0.04803566810635154,\n",
       "  0.11011253150532829,\n",
       "  0.1268539566619207,\n",
       "  0.16485613906321772,\n",
       "  0.19299537659297386,\n",
       "  0.2271603902402125,\n",
       "  0.2439870858135623,\n",
       "  0.25095794238343316,\n",
       "  0.3024612741045628,\n",
       "  0.4286117498282397,\n",
       "  0.4869793500982946,\n",
       "  0.6128669087036381,\n",
       "  0.7430606233552007,\n",
       "  0.9513904632282789,\n",
       "  1.564200524987412],\n",
       " [2,\n",
       "  4,\n",
       "  15,\n",
       "  4,\n",
       "  2,\n",
       "  5.0979366063685916e-05,\n",
       "  5.0979366064574094e-05,\n",
       "  6.372420758138375e-05,\n",
       "  0.0002039174642569641,\n",
       "  0.0002039174642569641,\n",
       "  0.0002548968303208998,\n",
       "  0.001065104612412604,\n",
       "  0.0016695742386015969,\n",
       "  0.001842539944892696,\n",
       "  0.0055057715349304814,\n",
       "  0.005964585829508984,\n",
       "  0.006481662256741849,\n",
       "  0.0066855797209899315,\n",
       "  0.011550467796826613,\n",
       "  0.015242830453188638,\n",
       "  0.021673513343850814,\n",
       "  0.04068153411921038,\n",
       "  0.07142001106545504,\n",
       "  0.10835300118611291,\n",
       "  0.20234984875022288,\n",
       "  0.2232896233610846,\n",
       "  0.25689308866037186,\n",
       "  0.4396070381164725,\n",
       "  0.4789038061901493,\n",
       "  0.4814226030318064,\n",
       "  0.5339087214817477,\n",
       "  0.56800429372284,\n",
       "  0.7301150364236244,\n",
       "  0.9587314833408005,\n",
       "  1.2697149798892984],\n",
       " [0,\n",
       "  8,\n",
       "  13,\n",
       "  8,\n",
       "  0,\n",
       "  0.0001495774640156433,\n",
       "  0.0007478873200774672,\n",
       "  0.001495774640158487,\n",
       "  0.003290704208348115,\n",
       "  0.005085633776537285,\n",
       "  0.005384788704569654,\n",
       "  0.00538478870456971,\n",
       "  0.006880563344727086,\n",
       "  0.006880563344727253,\n",
       "  0.008077183056854897,\n",
       "  0.010769577409139232,\n",
       "  0.014209859081503406,\n",
       "  0.015406478793627776,\n",
       "  0.01645352104174048,\n",
       "  0.01929549285804113,\n",
       "  0.03066338012324399,\n",
       "  0.038740563180098,\n",
       "  0.04068507021230377,\n",
       "  0.04352704202860491,\n",
       "  0.0454715490608093,\n",
       "  0.07628450664807085,\n",
       "  0.1160721120762783,\n",
       "  0.17695013993071695,\n",
       "  0.24538182971795663,\n",
       "  0.2721561957767895,\n",
       "  0.42996042031348214,\n",
       "  0.5085633776537969,\n",
       "  0.5142473212863989,\n",
       "  0.6369756305113823,\n",
       "  0.9194526713052628],\n",
       " [0,\n",
       "  2,\n",
       "  12,\n",
       "  2,\n",
       "  0,\n",
       "  9.862174413260982e-05,\n",
       "  0.00019724348826777316,\n",
       "  0.0017423174796752173,\n",
       "  0.0018738131385169776,\n",
       "  0.0023669218591813035,\n",
       "  0.0028271566651334457,\n",
       "  0.003977743680013024,\n",
       "  0.005818682903821482,\n",
       "  0.007922613445315863,\n",
       "  0.011867483210617868,\n",
       "  0.014497396387486247,\n",
       "  0.03369576257862407,\n",
       "  0.035065509024910124,\n",
       "  0.041519754279807045,\n",
       "  0.0601263900061495,\n",
       "  0.06744631501509957,\n",
       "  0.10907564901061184,\n",
       "  0.1745276131999174,\n",
       "  0.21600627508633602,\n",
       "  0.24818709809537043,\n",
       "  0.2840415810733391,\n",
       "  0.30049497538611963,\n",
       "  0.3103407128420203,\n",
       "  0.32843232390455973,\n",
       "  0.3436282909796515,\n",
       "  0.4281005543220813,\n",
       "  0.49611668385883456,\n",
       "  0.5978395339457834,\n",
       "  0.6130683749355863,\n",
       "  0.6620039364755828],\n",
       " [0,\n",
       "  3,\n",
       "  9,\n",
       "  3,\n",
       "  0,\n",
       "  2.5104105622508754e-05,\n",
       "  2.5104105624507156e-05,\n",
       "  0.000225936950603689,\n",
       "  0.00027614516185026083,\n",
       "  0.0010041642249090169,\n",
       "  0.0024099941397812685,\n",
       "  0.002661035196009909,\n",
       "  0.0031882214140865894,\n",
       "  0.005548007342623507,\n",
       "  0.005999881243832411,\n",
       "  0.10814848702272428,\n",
       "  0.1236126160863234,\n",
       "  0.13460821434908432,\n",
       "  0.17454884639483836,\n",
       "  0.20349388017784875,\n",
       "  0.2191588420864355,\n",
       "  0.2562878143024525,\n",
       "  0.2817308253510901,\n",
       "  0.28174337740390076,\n",
       "  0.28262202110069823,\n",
       "  0.3005965607265697,\n",
       "  0.3082658649943153,\n",
       "  0.31437871471344947,\n",
       "  0.32216098745649613,\n",
       "  0.3270688401057398,\n",
       "  0.37621012686223354,\n",
       "  0.3833647969647128,\n",
       "  0.4685304752898245,\n",
       "  0.6338159067098807,\n",
       "  0.7075843210822725],\n",
       " [2,\n",
       "  5,\n",
       "  9,\n",
       "  5,\n",
       "  2,\n",
       "  2.199181248663251e-06,\n",
       "  8.796724997539584e-06,\n",
       "  1.0995906246907567e-05,\n",
       "  1.0995906247313059e-05,\n",
       "  1.0995906252031507e-05,\n",
       "  0.00011875578746289861,\n",
       "  0.0001583410499598481,\n",
       "  0.0003291441270003581,\n",
       "  0.00034747063741263906,\n",
       "  0.0005278034998665859,\n",
       "  0.0009478471185095927,\n",
       "  0.001217613351775183,\n",
       "  0.0012220117142745651,\n",
       "  0.004327988698905494,\n",
       "  0.017030459595692715,\n",
       "  0.0270939129931504,\n",
       "  0.04807830193815164,\n",
       "  0.06044669582221953,\n",
       "  0.07364838086263194,\n",
       "  0.1301548769462677,\n",
       "  0.13371241914744858,\n",
       "  0.15229797478415796,\n",
       "  0.2573020070037092,\n",
       "  0.2719527692223971,\n",
       "  0.29202263475365664,\n",
       "  0.3766383019630826,\n",
       "  0.4733809418260871,\n",
       "  0.7856399079139025,\n",
       "  1.4502792140974596,\n",
       "  1.565533675936942],\n",
       " [0,\n",
       "  3,\n",
       "  13,\n",
       "  3,\n",
       "  0,\n",
       "  2.581642368149062e-05,\n",
       "  2.5816423681532252e-05,\n",
       "  0.00010326569472418612,\n",
       "  0.00010326569472773883,\n",
       "  0.00012908211840789718,\n",
       "  0.0003356135078605993,\n",
       "  0.0008336553480499109,\n",
       "  0.0033080878456424045,\n",
       "  0.003559080853653945,\n",
       "  0.003625056158616635,\n",
       "  0.0062665782872567966,\n",
       "  0.006428289496706929,\n",
       "  0.011964478130639167,\n",
       "  0.01574801844574664,\n",
       "  0.016714700088044765,\n",
       "  0.029099053664949436,\n",
       "  0.05580336511235484,\n",
       "  0.08441038284123525,\n",
       "  0.12909801961162115,\n",
       "  0.14263131360279657,\n",
       "  0.14730182536007463,\n",
       "  0.2155018870289087,\n",
       "  0.24579978339853703,\n",
       "  0.2526867277572493,\n",
       "  0.3112718473814329,\n",
       "  0.3683667744558402,\n",
       "  0.4935994706189031,\n",
       "  0.5036197713515165,\n",
       "  0.7577490913823757,\n",
       "  0.9037764748441514],\n",
       " [1,\n",
       "  8,\n",
       "  9,\n",
       "  8,\n",
       "  1,\n",
       "  7.477246589103091e-05,\n",
       "  0.000448634795350511,\n",
       "  0.00048602102829620186,\n",
       "  0.0008224971248083079,\n",
       "  0.0008972695907016048,\n",
       "  0.0013085181531055506,\n",
       "  0.002168401510861173,\n",
       "  0.0026357294226839884,\n",
       "  0.00353299901338322,\n",
       "  0.004131178740519603,\n",
       "  0.00796326761746835,\n",
       "  0.012954329715743507,\n",
       "  0.02332900935822353,\n",
       "  0.024301051414815474,\n",
       "  0.025385252170245787,\n",
       "  0.02688070148808208,\n",
       "  0.06126785755982511,\n",
       "  0.08899792752764252,\n",
       "  0.10692345790540829,\n",
       "  0.13348403977388912,\n",
       "  0.15324616884512055,\n",
       "  0.2014545479090405,\n",
       "  0.2679926959944529,\n",
       "  0.40289040270160703,\n",
       "  0.47144039744741917,\n",
       "  0.508234292265054,\n",
       "  0.5211407208698345,\n",
       "  0.5511081232155091,\n",
       "  0.947528370977923,\n",
       "  1.3686609187175565],\n",
       " [1,\n",
       "  3,\n",
       "  13,\n",
       "  3,\n",
       "  1,\n",
       "  0.00012284078149177313,\n",
       "  0.0004299427352205676,\n",
       "  0.0006142039074576999,\n",
       "  0.0015047995732735409,\n",
       "  0.0017811913316296557,\n",
       "  0.004975051650414786,\n",
       "  0.005220733213397999,\n",
       "  0.005404994385634462,\n",
       "  0.005589255557874043,\n",
       "  0.009673711542472721,\n",
       "  0.011915555804696562,\n",
       "  0.012284078149169098,\n",
       "  0.013174673814986715,\n",
       "  0.014464502020649694,\n",
       "  0.021712108128660645,\n",
       "  0.0272706534911622,\n",
       "  0.03064877498218277,\n",
       "  0.04115166179972583,\n",
       "  0.09784268245815253,\n",
       "  0.1523532792451019,\n",
       "  0.1767985947619548,\n",
       "  0.19740513585718866,\n",
       "  0.26321708454137704,\n",
       "  0.2651518268498715,\n",
       "  0.357743065899253,\n",
       "  0.3665568919712845,\n",
       "  0.4569984173445608,\n",
       "  0.4667642594731545,\n",
       "  0.5407758303219126,\n",
       "  0.606157836270878],\n",
       " [0,\n",
       "  5,\n",
       "  13,\n",
       "  5,\n",
       "  0,\n",
       "  1.9449669245830137e-05,\n",
       "  1.9449669246274226e-05,\n",
       "  1.9449669246524026e-05,\n",
       "  3.8899338493214586e-05,\n",
       "  7.779867698656795e-05,\n",
       "  9.72483462327034e-05,\n",
       "  9.724834623359158e-05,\n",
       "  0.0003500940464391533,\n",
       "  0.0005251410696593406,\n",
       "  0.0006223894158925384,\n",
       "  0.0007390874313723868,\n",
       "  0.0007779867698658183,\n",
       "  0.0013225775087715112,\n",
       "  0.0017115708937054386,\n",
       "  0.001731020562952157,\n",
       "  0.0036565378183685826,\n",
       "  0.015404138043339788,\n",
       "  0.02213372360267643,\n",
       "  0.025128972666660476,\n",
       "  0.03958007691691149,\n",
       "  0.07267368914007355,\n",
       "  0.1046683950507975,\n",
       "  0.1349612549024452,\n",
       "  0.22411853872904408,\n",
       "  0.2332715530765137,\n",
       "  0.2780621963846033,\n",
       "  0.3178776142994006,\n",
       "  0.35378948359639684,\n",
       "  0.756802190122194,\n",
       "  1.5369128638695624],\n",
       " [2,\n",
       "  7,\n",
       "  14,\n",
       "  7,\n",
       "  2,\n",
       "  2.6032686168964148e-05,\n",
       "  5.8573543876894174e-05,\n",
       "  6.508171541752539e-05,\n",
       "  0.00010413074466986139,\n",
       "  0.0001301634308371602,\n",
       "  0.0003123922340102503,\n",
       "  0.0004555720079306713,\n",
       "  0.0007679642419389232,\n",
       "  0.0017181572870512696,\n",
       "  0.0017702226593874215,\n",
       "  0.001887369747141876,\n",
       "  0.0019524514625602896,\n",
       "  0.002063090378773169,\n",
       "  0.003254085770933557,\n",
       "  0.004640326309349074,\n",
       "  0.007132956009887614,\n",
       "  0.0089292113554435,\n",
       "  0.009104931987073517,\n",
       "  0.01808620871485417,\n",
       "  0.02424944716499977,\n",
       "  0.041906116558089845,\n",
       "  0.16831433241579585,\n",
       "  0.2680390449518386,\n",
       "  0.3501005799232497,\n",
       "  0.4158656533538322,\n",
       "  0.6319890139161874,\n",
       "  0.8011429004608774,\n",
       "  1.0231301235824588,\n",
       "  1.4241831785069996,\n",
       "  1.4432000557523321],\n",
       " [0,\n",
       "  5,\n",
       "  11,\n",
       "  5,\n",
       "  0,\n",
       "  2.69974186632993e-05,\n",
       "  2.6997418664825856e-05,\n",
       "  8.099225599009219e-05,\n",
       "  0.00010798967465408538,\n",
       "  0.00010798967465414089,\n",
       "  0.00013498709331716263,\n",
       "  0.00021597934930772666,\n",
       "  0.0010798967465435738,\n",
       "  0.006101416617967814,\n",
       "  0.006263401129953078,\n",
       "  0.0066845608611058455,\n",
       "  0.007937241087094371,\n",
       "  0.008099225599079274,\n",
       "  0.013946866481609192,\n",
       "  0.02223687383924222,\n",
       "  0.050824260479323376,\n",
       "  0.11378764028654098,\n",
       "  0.18927890225041155,\n",
       "  0.19808546021847295,\n",
       "  0.2418612346331084,\n",
       "  0.25309108090041355,\n",
       "  0.30309641968027456,\n",
       "  0.32045503994979696,\n",
       "  0.3288847139533133,\n",
       "  0.40983053438397443,\n",
       "  0.4314198301408728,\n",
       "  0.4913807370271188,\n",
       "  0.5148324947062228,\n",
       "  0.8088513023350511,\n",
       "  0.9604670057218401],\n",
       " [0,\n",
       "  5,\n",
       "  16,\n",
       "  5,\n",
       "  0,\n",
       "  0.0002504717043434468,\n",
       "  0.0005009434086860054,\n",
       "  0.001113207574860775,\n",
       "  0.0015028302260585713,\n",
       "  0.0018367924985183137,\n",
       "  0.0023377359072052073,\n",
       "  0.007096698289728143,\n",
       "  0.009350943628816832,\n",
       "  0.018145283470204276,\n",
       "  0.021540566573526432,\n",
       "  0.021958019414098473,\n",
       "  0.023627830776387082,\n",
       "  0.04091037837607914,\n",
       "  0.043813994800501965,\n",
       "  0.05213985978747093,\n",
       "  0.06478868085681011,\n",
       "  0.07789670005077776,\n",
       "  0.1041544837227717,\n",
       "  0.11696100919854668,\n",
       "  0.17304811751187765,\n",
       "  0.20346651449490816,\n",
       "  0.22684387356695357,\n",
       "  0.2674411623126005,\n",
       "  0.3021430892763909,\n",
       "  0.3136137656623349,\n",
       "  0.3571819271233956,\n",
       "  0.5603469479001078,\n",
       "  0.7082690427744325,\n",
       "  0.9068420823048515,\n",
       "  1.0334462521206227],\n",
       " [0,\n",
       "  3,\n",
       "  11,\n",
       "  3,\n",
       "  0,\n",
       "  0.0031620036083478964,\n",
       "  0.004185004775755674,\n",
       "  0.004185004775757228,\n",
       "  0.007626008702485643,\n",
       "  0.007719008808612315,\n",
       "  0.0088350100821479,\n",
       "  0.008928010188276603,\n",
       "  0.00920701050665973,\n",
       "  0.010416011886321908,\n",
       "  0.020832023772643066,\n",
       "  0.020832023772644703,\n",
       "  0.0316200360834753,\n",
       "  0.03673504192050969,\n",
       "  0.07309808341650575,\n",
       "  0.07709708798000503,\n",
       "  0.09486010825042879,\n",
       "  0.10936812480637642,\n",
       "  0.15605417808256822,\n",
       "  0.17223619654881794,\n",
       "  0.2202242513107983,\n",
       "  0.2232932548130213,\n",
       "  0.36158441262516217,\n",
       "  0.3743254271646841,\n",
       "  0.39841245465179975,\n",
       "  0.4122694704648534,\n",
       "  0.44723751036893244,\n",
       "  0.48369355197105735,\n",
       "  0.5196845930425424,\n",
       "  0.5201495935731865,\n",
       "  0.5445156213786848],\n",
       " [1,\n",
       "  1,\n",
       "  17,\n",
       "  1,\n",
       "  1,\n",
       "  4.090537082144727e-05,\n",
       "  4.0905370821464615e-05,\n",
       "  6.135805623205814e-05,\n",
       "  0.00010226342705382807,\n",
       "  0.00024543222492900973,\n",
       "  0.0002658849103397993,\n",
       "  0.0004908644498581027,\n",
       "  0.0016771202036818256,\n",
       "  0.0019020997432002487,\n",
       "  0.0034155984635957162,\n",
       "  0.004959776212108198,\n",
       "  0.004990455240224456,\n",
       "  0.005021134268340388,\n",
       "  0.007465230174925952,\n",
       "  0.00826288490594429,\n",
       "  0.009715025570108747,\n",
       "  0.014511180298930199,\n",
       "  0.0330413132810742,\n",
       "  0.04696447887444455,\n",
       "  0.07921325059585353,\n",
       "  0.10945765914700678,\n",
       "  0.11314936886364695,\n",
       "  0.25516770318457555,\n",
       "  0.28444316576439416,\n",
       "  0.34183084444129624,\n",
       "  0.6722925523798885,\n",
       "  0.696546880691367,\n",
       "  0.6981217374679954,\n",
       "  0.9109651647806906,\n",
       "  1.4359242412185313],\n",
       " [0,\n",
       "  4,\n",
       "  13,\n",
       "  4,\n",
       "  0,\n",
       "  2.0014157834591373e-05,\n",
       "  6.004247350821501e-05,\n",
       "  0.00018012742052420094,\n",
       "  0.0002401698940325825,\n",
       "  0.000813909085335851,\n",
       "  0.001247549171774942,\n",
       "  0.001974730239822975,\n",
       "  0.002014758555493046,\n",
       "  0.0033890640602346565,\n",
       "  0.004311939116010244,\n",
       "  0.005597292808144361,\n",
       "  0.012715661611827578,\n",
       "  0.01835965412158802,\n",
       "  0.01913353489124872,\n",
       "  0.043984447537646965,\n",
       "  0.050334124427418026,\n",
       "  0.09063967324876643,\n",
       "  0.16481065965890895,\n",
       "  0.2124947613358177,\n",
       "  0.21872805960407954,\n",
       "  0.28465247172066394,\n",
       "  0.3057851986002067,\n",
       "  0.37290082374058287,\n",
       "  0.38193017398505447,\n",
       "  0.4519871390622292,\n",
       "  0.5168167026186623,\n",
       "  0.5357211865924612,\n",
       "  0.7074404370303178,\n",
       "  0.830142049867324,\n",
       "  1.330174286712607],\n",
       " [0,\n",
       "  0,\n",
       "  12,\n",
       "  0,\n",
       "  0,\n",
       "  0.00014143071875895308,\n",
       "  0.00014143071876215885,\n",
       "  0.0005657228750353127,\n",
       "  0.000678867450044307,\n",
       "  0.000707153593794585,\n",
       "  0.000707153593794696,\n",
       "  0.0007071535937963128,\n",
       "  0.008910135281815279,\n",
       "  0.009192996719331825,\n",
       "  0.010607303906921866,\n",
       "  0.012021611094512608,\n",
       "  0.012417617107036372,\n",
       "  0.013034255040824672,\n",
       "  0.01349249056960522,\n",
       "  0.14660142583678493,\n",
       "  0.149181122146949,\n",
       "  0.19308121724972604,\n",
       "  0.19319436182473526,\n",
       "  0.2006901899189586,\n",
       "  0.21007553241580534,\n",
       "  0.21584024851241934,\n",
       "  0.22234040434658175,\n",
       "  0.26347411459043696,\n",
       "  0.2854863916580812,\n",
       "  0.39256076021611364,\n",
       "  0.41349250659243886,\n",
       "  0.492048785019914,\n",
       "  0.6175487476178618,\n",
       "  0.679320028343025,\n",
       "  0.8023590964345608],\n",
       " [1,\n",
       "  3,\n",
       "  16,\n",
       "  3,\n",
       "  1,\n",
       "  0.0002669181954200184,\n",
       "  0.000533836390836484,\n",
       "  0.0009787000498703569,\n",
       "  0.0014235637089003994,\n",
       "  0.0016904819043159769,\n",
       "  0.002046372831546517,\n",
       "  0.0021353455633512652,\n",
       "  0.0055904533151576175,\n",
       "  0.009253164107851042,\n",
       "  0.010676727816751136,\n",
       "  0.010795358125827548,\n",
       "  0.022154210219751475,\n",
       "  0.02434887093764626,\n",
       "  0.028293328714387535,\n",
       "  0.03321648654100566,\n",
       "  0.042677253689733685,\n",
       "  0.05053651166594886,\n",
       "  0.05551898464710592,\n",
       "  0.060531115205519126,\n",
       "  0.09233392389670936,\n",
       "  0.09783293301529787,\n",
       "  0.09841496296919158,\n",
       "  0.31680162251860866,\n",
       "  0.5640821767221061,\n",
       "  0.5764691581613536,\n",
       "  0.6576209396953329,\n",
       "  0.6595845184570284,\n",
       "  0.709970888638058,\n",
       "  0.8346494898773156,\n",
       "  1.2293893718596198],\n",
       " [0,\n",
       "  2,\n",
       "  17,\n",
       "  2,\n",
       "  0,\n",
       "  4.7551836334314146e-05,\n",
       "  4.755183633567764e-05,\n",
       "  0.0001426555090054682,\n",
       "  0.0002377591816768998,\n",
       "  0.00042796652701485374,\n",
       "  0.0005230701996841169,\n",
       "  0.0005230701996841725,\n",
       "  0.0011412440720381944,\n",
       "  0.0015692105990541272,\n",
       "  0.003043317525436899,\n",
       "  0.0061817387235429955,\n",
       "  0.0063243942325477975,\n",
       "  0.009225056248979957,\n",
       "  0.011174681538713704,\n",
       "  0.01455086191849242,\n",
       "  0.017641731280265915,\n",
       "  0.020447289624028833,\n",
       "  0.025250025093856543,\n",
       "  0.04103723475706045,\n",
       "  0.0752745569182256,\n",
       "  0.08554575356657407,\n",
       "  0.18787730535938607,\n",
       "  0.29938398397302346,\n",
       "  0.31812178508081423,\n",
       "  0.4554752643343178,\n",
       "  0.6054822872365486,\n",
       "  0.6098142595266611,\n",
       "  0.740025452962656,\n",
       "  0.8069546626040973,\n",
       "  0.9913725718701154],\n",
       " [2,\n",
       "  3,\n",
       "  14,\n",
       "  3,\n",
       "  2,\n",
       "  1.0804730852242983e-06,\n",
       "  4.321892355552137e-06,\n",
       "  7.563311624547708e-06,\n",
       "  2.701182722475437e-05,\n",
       "  2.701182723330829e-05,\n",
       "  3.1333719597625986e-05,\n",
       "  5.18627082808365e-05,\n",
       "  5.3375370606900674e-05,\n",
       "  0.0008453621449722171,\n",
       "  0.0012922458146511495,\n",
       "  0.0027206312385388287,\n",
       "  0.002804475950268781,\n",
       "  0.002852448955422915,\n",
       "  0.003059899788542708,\n",
       "  0.003279235825656368,\n",
       "  0.0034538402768680143,\n",
       "  0.006865326008618666,\n",
       "  0.07677301535141146,\n",
       "  0.13811147262393142,\n",
       "  0.15215222041778276,\n",
       "  0.20131521541869635,\n",
       "  0.2097839634916614,\n",
       "  0.23106565295885773,\n",
       "  0.2685762643200764,\n",
       "  0.362544490258645,\n",
       "  0.4346106623011301,\n",
       "  0.4473009916092092,\n",
       "  0.6079888629936152,\n",
       "  1.0747866457456152,\n",
       "  1.3522438802316756],\n",
       " [1,\n",
       "  2,\n",
       "  16,\n",
       "  2,\n",
       "  1,\n",
       "  7.135896926807259e-05,\n",
       "  0.00021407690781016786,\n",
       "  0.0005708717541600405,\n",
       "  0.0006422307234315028,\n",
       "  0.0007135896926993013,\n",
       "  0.001141743508319415,\n",
       "  0.001855333201017828,\n",
       "  0.0073261875117138775,\n",
       "  0.011607725667906799,\n",
       "  0.011798016252631438,\n",
       "  0.012226170068250886,\n",
       "  0.018101391871474526,\n",
       "  0.01912420376434909,\n",
       "  0.02247807532003465,\n",
       "  0.031112510601696286,\n",
       "  0.04386197977792927,\n",
       "  0.056730380569611105,\n",
       "  0.05749154290848857,\n",
       "  0.06029832903310628,\n",
       "  0.09721470246876418,\n",
       "  0.19174155042835628,\n",
       "  0.2904468624774236,\n",
       "  0.29527548606469023,\n",
       "  0.3423882633315829,\n",
       "  0.3834355282105355,\n",
       "  0.3884068697363392,\n",
       "  0.40837945235756035,\n",
       "  0.4200268218972889,\n",
       "  0.5231484612667326,\n",
       "  0.9340571926461934],\n",
       " [0,\n",
       "  2,\n",
       "  12,\n",
       "  2,\n",
       "  0,\n",
       "  1.8500786041819595e-05,\n",
       "  1.850078604359595e-05,\n",
       "  5.550235812379345e-05,\n",
       "  0.0004255180789499713,\n",
       "  0.0007400314416518006,\n",
       "  0.0014985636693447546,\n",
       "  0.0015540660274693252,\n",
       "  0.005180220091562049,\n",
       "  0.005809246816966707,\n",
       "  0.005864749175091166,\n",
       "  0.00788133485359166,\n",
       "  0.010249435466877288,\n",
       "  0.012501906167405208,\n",
       "  0.019666335561894233,\n",
       "  0.04264893702169337,\n",
       "  0.10125942720051384,\n",
       "  0.10581524576318646,\n",
       "  0.15899113004237522,\n",
       "  0.1665810775158172,\n",
       "  0.1783105758659973,\n",
       "  0.2034022669345035,\n",
       "  0.2250158102272456,\n",
       "  0.23900240447446564,\n",
       "  0.30135467863013865,\n",
       "  0.3135605722208819,\n",
       "  0.32933711751759676,\n",
       "  0.4724545731365408,\n",
       "  0.5596857793212457,\n",
       "  0.6869943132679026,\n",
       "  0.7491292031875919],\n",
       " [0,\n",
       "  2,\n",
       "  12,\n",
       "  2,\n",
       "  0,\n",
       "  6.489246883764101e-05,\n",
       "  0.0018169891274517624,\n",
       "  0.0018169891274524286,\n",
       "  0.0018169891274526506,\n",
       "  0.007592418853998195,\n",
       "  0.007754650026091436,\n",
       "  0.007981773667022019,\n",
       "  0.00814400483911526,\n",
       "  0.009302943774762151,\n",
       "  0.013124501822400214,\n",
       "  0.013822095862403794,\n",
       "  0.024853815564791493,\n",
       "  0.04049290055464949,\n",
       "  0.08881751094213208,\n",
       "  0.09449154618611755,\n",
       "  0.09514858243309865,\n",
       "  0.10033997994010468,\n",
       "  0.10247433379796592,\n",
       "  0.16950825410718462,\n",
       "  0.207355772611878,\n",
       "  0.24344409684417379,\n",
       "  0.250357172665026,\n",
       "  0.29872234084553195,\n",
       "  0.31806232444878174,\n",
       "  0.3740848039521238,\n",
       "  0.3972463456030117,\n",
       "  0.42653312794527065,\n",
       "  0.45360139900914526,\n",
       "  0.5247529492550731,\n",
       "  0.8360938334550387],\n",
       " [0,\n",
       "  3,\n",
       "  12,\n",
       "  3,\n",
       "  0,\n",
       "  7.311641494001098e-05,\n",
       "  7.311641494078813e-05,\n",
       "  0.0002924656597615982,\n",
       "  0.000292465659762306,\n",
       "  0.0006580477344648918,\n",
       "  0.0006580477344648944,\n",
       "  0.001754793958573253,\n",
       "  0.0030708894275024434,\n",
       "  0.0036558207470264864,\n",
       "  0.009943832431914323,\n",
       "  0.010528763751437825,\n",
       "  0.011406160730724806,\n",
       "  0.019595199204065716,\n",
       "  0.027638004847524655,\n",
       "  0.028296052581990444,\n",
       "  0.047233204051591066,\n",
       "  0.06967994343833817,\n",
       "  0.07019175834292168,\n",
       "  0.1627936978651201,\n",
       "  0.17942768226409395,\n",
       "  0.2073947109788515,\n",
       "  0.28595829883246576,\n",
       "  0.3016052116297423,\n",
       "  0.36368104791426425,\n",
       "  0.4230515768459847,\n",
       "  0.49828836781980473,\n",
       "  0.5518095835562824,\n",
       "  0.6573165703154867,\n",
       "  0.8265079544879039,\n",
       "  0.9547541462936175],\n",
       " [1,\n",
       "  4,\n",
       "  13,\n",
       "  4,\n",
       "  1,\n",
       "  0.00045677520061015997,\n",
       "  0.00045677520061249144,\n",
       "  0.0006851628009182237,\n",
       "  0.0011419380015305553,\n",
       "  0.001141938001530729,\n",
       "  0.0015987132021451078,\n",
       "  0.0054813024073463446,\n",
       "  0.005938077607959835,\n",
       "  0.006166465208265581,\n",
       "  0.0061664652082656785,\n",
       "  0.006394852808571959,\n",
       "  0.007308403209796437,\n",
       "  0.009934860613316443,\n",
       "  0.016329713421891892,\n",
       "  0.019641333626329638,\n",
       "  0.033116202044391266,\n",
       "  0.04282267505740245,\n",
       "  0.07491113290041673,\n",
       "  0.10688539694327409,\n",
       "  0.17014876222807668,\n",
       "  0.2113727240833346,\n",
       "  0.2556228216426454,\n",
       "  0.3626795092861482,\n",
       "  0.44872453770149046,\n",
       "  0.4724197512332538,\n",
       "  0.48886365845528773,\n",
       "  0.5263192249055,\n",
       "  0.6080819858150942,\n",
       "  0.6277233194414258,\n",
       "  1.3875688656599658],\n",
       " [1,\n",
       "  6,\n",
       "  12,\n",
       "  6,\n",
       "  1,\n",
       "  3.433153445736581e-05,\n",
       "  0.0008239568269783337,\n",
       "  0.002059892067445279,\n",
       "  0.0022658812741904732,\n",
       "  0.0026435281532214416,\n",
       "  0.0043257733416357524,\n",
       "  0.005424382444272791,\n",
       "  0.0057333662543899155,\n",
       "  0.006111013133420905,\n",
       "  0.006145344667878749,\n",
       "  0.009681492716991869,\n",
       "  0.011123417164206728,\n",
       "  0.01318330923165078,\n",
       "  0.013560956110683087,\n",
       "  0.03048640259819225,\n",
       "  0.06557323081367947,\n",
       "  0.09132188165674693,\n",
       "  0.14647549176259744,\n",
       "  0.18298707865806807,\n",
       "  0.3302693614804171,\n",
       "  0.34527224203831386,\n",
       "  0.3629358165166543,\n",
       "  0.3632276345595433,\n",
       "  0.44768320932480843,\n",
       "  0.47763747313890903,\n",
       "  0.47947421023238235,\n",
       "  0.49300083480860524,\n",
       "  0.7518606046175789,\n",
       "  0.7808192539324177,\n",
       "  0.9096483369838932],\n",
       " [1,\n",
       "  2,\n",
       "  17,\n",
       "  2,\n",
       "  1,\n",
       "  3.920060055717656e-05,\n",
       "  0.00015680240222692987,\n",
       "  0.0003528054050079277,\n",
       "  0.0005488084077879393,\n",
       "  0.0007840120111250876,\n",
       "  0.001176018016685959,\n",
       "  0.0035672546506217984,\n",
       "  0.00458647026508352,\n",
       "  0.007134509301243597,\n",
       "  0.007604916507916837,\n",
       "  0.009839350739626163,\n",
       "  0.011760180166879408,\n",
       "  0.012622593379119085,\n",
       "  0.01568024022251313,\n",
       "  0.017993075655334145,\n",
       "  0.04229744800022539,\n",
       "  0.05103918192428125,\n",
       "  0.06468099091786514,\n",
       "  0.07103148820798211,\n",
       "  0.08036123114037608,\n",
       "  0.22479584388999418,\n",
       "  0.2624872213248608,\n",
       "  0.38183344971845923,\n",
       "  0.4308734010143649,\n",
       "  0.43210821993188864,\n",
       "  0.45382535264006973,\n",
       "  0.49749482165976877,\n",
       "  0.54590756334676,\n",
       "  0.5672718906499492,\n",
       "  1.1183931338707107],\n",
       " [1,\n",
       "  5,\n",
       "  16,\n",
       "  5,\n",
       "  1,\n",
       "  0.0002081991547560058,\n",
       "  0.000374758478562498,\n",
       "  0.001748872899953735,\n",
       "  0.001998711885661031,\n",
       "  0.002435930110649666,\n",
       "  0.0030813474903945703,\n",
       "  0.004163983095127888,\n",
       "  0.005975315741508391,\n",
       "  0.006620733121254663,\n",
       "  0.0077450085569408245,\n",
       "  0.00805730728907239,\n",
       "  0.011867351821114092,\n",
       "  0.012200470468727076,\n",
       "  0.014074262861530684,\n",
       "  0.015614936606729302,\n",
       "  0.01944580105424709,\n",
       "  0.02044515699707694,\n",
       "  0.03630993258951376,\n",
       "  0.04601201320116122,\n",
       "  0.09959206567771717,\n",
       "  0.1353294505916519,\n",
       "  0.1621663216397518,\n",
       "  0.23130926093434534,\n",
       "  0.3507114761871355,\n",
       "  0.35638490315424814,\n",
       "  0.38098363328871643,\n",
       "  0.5558813332418157,\n",
       "  0.5940442383086625,\n",
       "  0.623608518284071,\n",
       "  1.6453146403778327],\n",
       " [0,\n",
       "  5,\n",
       "  12,\n",
       "  5,\n",
       "  0,\n",
       "  8.948445716017162e-05,\n",
       "  0.00017896891431980894,\n",
       "  0.00017896891432034323,\n",
       "  0.00017896891432036578,\n",
       "  0.0002237111429003102,\n",
       "  0.0007158756572806374,\n",
       "  0.0008948445716012328,\n",
       "  0.004205769486525808,\n",
       "  0.006398138686948829,\n",
       "  0.006688963172717298,\n",
       "  0.007516694401450141,\n",
       "  0.00903793017317242,\n",
       "  0.00988803251619455,\n",
       "  0.012311569897612035,\n",
       "  0.029529870862840646,\n",
       "  0.053959127667554174,\n",
       "  0.11184438589300927,\n",
       "  0.1289210031343991,\n",
       "  0.1345846235688252,\n",
       "  0.1361953437977078,\n",
       "  0.14380897969441492,\n",
       "  0.16575504281293552,\n",
       "  0.19270477849432555,\n",
       "  0.3080949860023049,\n",
       "  0.44292009904974794,\n",
       "  0.4488540371151795,\n",
       "  0.7634981668258913,\n",
       "  0.8044205276409295,\n",
       "  1.1458447454163323,\n",
       "  1.2357598465265396],\n",
       " [1,\n",
       "  3,\n",
       "  16,\n",
       "  3,\n",
       "  1,\n",
       "  1.5299348900654763e-05,\n",
       "  7.649674450704858e-05,\n",
       "  0.00033658567583050303,\n",
       "  0.00272328410444711,\n",
       "  0.0033352580605024995,\n",
       "  0.0034882515495163746,\n",
       "  0.0045592059726140555,\n",
       "  0.004819294903937288,\n",
       "  0.005033485788555225,\n",
       "  0.008169852313340886,\n",
       "  0.010770741626575209,\n",
       "  0.010801340324378628,\n",
       "  0.013432828335419256,\n",
       "  0.014656776247529812,\n",
       "  0.015911322857441346,\n",
       "  0.035081407030881806,\n",
       "  0.09217857713086175,\n",
       "  0.09604931240291287,\n",
       "  0.18636136896780642,\n",
       "  0.22063191050691455,\n",
       "  0.24520266484254327,\n",
       "  0.3201388757615427,\n",
       "  0.40950237269454837,\n",
       "  0.47833414340189395,\n",
       "  0.48001707178104636,\n",
       "  0.5215854027461181,\n",
       "  0.5528266732027544,\n",
       "  0.6441331874462344,\n",
       "  0.7488419313273336,\n",
       "  1.1103043484715283],\n",
       " [1,\n",
       "  6,\n",
       "  19,\n",
       "  6,\n",
       "  1,\n",
       "  0.0015394958008347892,\n",
       "  0.001828151263491451,\n",
       "  0.002309243701252406,\n",
       "  0.00230924370125285,\n",
       "  0.008371008417039638,\n",
       "  0.008852100854799705,\n",
       "  0.009044537829905275,\n",
       "  0.011353781531157736,\n",
       "  0.011834873968917137,\n",
       "  0.01212352943157402,\n",
       "  0.016260924396319876,\n",
       "  0.02366974793783516,\n",
       "  0.024054621888046523,\n",
       "  0.033002941230396377,\n",
       "  0.033002941230399596,\n",
       "  0.04026743704059079,\n",
       "  0.04637731100015274,\n",
       "  0.046762184950362884,\n",
       "  0.0969882354526011,\n",
       "  0.12190882372861711,\n",
       "  0.21278718522165874,\n",
       "  0.2885592441690086,\n",
       "  0.3011999479711829,\n",
       "  0.32454495851352494,\n",
       "  0.3250621328841137,\n",
       "  0.37140336195143375,\n",
       "  0.5228512613585741,\n",
       "  0.794091177768186,\n",
       "  0.800706198787406,\n",
       "  1.7687604020499432],\n",
       " [2,\n",
       "  5,\n",
       "  13,\n",
       "  5,\n",
       "  2,\n",
       "  2.666803397632922e-05,\n",
       "  3.333504247044566e-05,\n",
       "  6.667008494076754e-05,\n",
       "  0.00013334016988163395,\n",
       "  0.00026668033976351424,\n",
       "  0.0006466998239262889,\n",
       "  0.0007733729853143245,\n",
       "  0.0008933791382079725,\n",
       "  0.001200061528935592,\n",
       "  0.0018134263103921633,\n",
       "  0.005586953118050464,\n",
       "  0.005653623202992897,\n",
       "  0.0068470177234303264,\n",
       "  0.007287040284039037,\n",
       "  0.017387558152581306,\n",
       "  0.02310118443202036,\n",
       "  0.02461459536017685,\n",
       "  0.030636570782462957,\n",
       "  0.07965908423950041,\n",
       "  0.13690501932356913,\n",
       "  0.15622134303349533,\n",
       "  0.392380117911115,\n",
       "  0.4006218738115055,\n",
       "  0.42994871077530855,\n",
       "  0.4442974464562861,\n",
       "  0.5442245698682369,\n",
       "  0.5795497143741777,\n",
       "  0.6864151935259262,\n",
       "  0.9368580341021298,\n",
       "  1.3484324694677277],\n",
       " [1,\n",
       "  4,\n",
       "  11,\n",
       "  4,\n",
       "  1,\n",
       "  6.296077257861299e-05,\n",
       "  0.00025184309031489605,\n",
       "  0.0003148038628939531,\n",
       "  0.000402948944503434,\n",
       "  0.0005036861806280157,\n",
       "  0.0005817575386259932,\n",
       "  0.0010073723612607638,\n",
       "  0.0013851369967311164,\n",
       "  0.001951783949938779,\n",
       "  0.002266587812834009,\n",
       "  0.004382069771473596,\n",
       "  0.009526104803981639,\n",
       "  0.012617338824765845,\n",
       "  0.014094818287944746,\n",
       "  0.014556530620190244,\n",
       "  0.01726384384107238,\n",
       "  0.018132702502658304,\n",
       "  0.02655489509408504,\n",
       "  0.06552957209988526,\n",
       "  0.162574648608929,\n",
       "  0.2692633566974263,\n",
       "  0.27130916206775235,\n",
       "  0.29038767528736265,\n",
       "  0.3187054720136651,\n",
       "  0.4189849133664887,\n",
       "  0.45349888959148865,\n",
       "  0.4667382808493332,\n",
       "  0.5333188781128029,\n",
       "  0.8290361128425419,\n",
       "  1.3050830739612183],\n",
       " [1,\n",
       "  7,\n",
       "  12,\n",
       "  7,\n",
       "  1,\n",
       "  5.103117028781856e-06,\n",
       "  5.10311702894839e-06,\n",
       "  1.0206234057175134e-05,\n",
       "  2.041246811579356e-05,\n",
       "  2.0412468116015603e-05,\n",
       "  8.164987245962152e-05,\n",
       "  0.0005103117028855131,\n",
       "  0.0011788200336662058,\n",
       "  0.0014696977043096027,\n",
       "  0.004021256218740499,\n",
       "  0.005511366391166728,\n",
       "  0.01228830580548923,\n",
       "  0.01228830580548923,\n",
       "  0.013410991551838336,\n",
       "  0.01368145675436655,\n",
       "  0.017136266982904047,\n",
       "  0.02329572923673462,\n",
       "  0.025939143857685032,\n",
       "  0.04066673960296674,\n",
       "  0.08025672151284696,\n",
       "  0.13636039012810985,\n",
       "  0.1393406104729613,\n",
       "  0.15428253713345708,\n",
       "  0.18708537339495468,\n",
       "  0.4018092286182069,\n",
       "  0.5410630861016752,\n",
       "  0.6123740434629299,\n",
       "  0.6324803245566355,\n",
       "  0.7309653800965581,\n",
       "  0.7572260203270593]]"
      ]
     },
     "execution_count": 87,
     "metadata": {},
     "output_type": "execute_result"
    }
   ],
   "source": [
    "input_data"
   ]
  },
  {
   "cell_type": "code",
   "execution_count": 73,
   "metadata": {},
   "outputs": [
    {
     "data": {
      "text/plain": [
       "[17, 15, 2, 15, 0, 0, 0, 0, 0, 0, 17, 0, 0, 0, 0, 0, 0, 0, 0, 0, 1]"
      ]
     },
     "execution_count": 73,
     "metadata": {},
     "output_type": "execute_result"
    }
   ],
   "source": [
    "idx = 904\n",
    "\n",
    "input_data[idx] + [out_labels[idx]]"
   ]
  },
  {
   "cell_type": "code",
   "execution_count": null,
   "metadata": {
    "collapsed": true
   },
   "outputs": [],
   "source": []
  }
 ],
 "metadata": {
  "kernelspec": {
   "display_name": "Python 2",
   "language": "python",
   "name": "python2"
  },
  "language_info": {
   "codemirror_mode": {
    "name": "ipython",
    "version": 2
   },
   "file_extension": ".py",
   "mimetype": "text/x-python",
   "name": "python",
   "nbconvert_exporter": "python",
   "pygments_lexer": "ipython2",
   "version": "2.7.13"
  }
 },
 "nbformat": 4,
 "nbformat_minor": 2
}
