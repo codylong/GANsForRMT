{
 "cells": [
  {
   "cell_type": "code",
   "execution_count": 30,
   "metadata": {
    "collapsed": true
   },
   "outputs": [],
   "source": [
    "import torch\n",
    "import torch.nn as nn\n",
    "import torchvision.transforms as transforms\n",
    "import torchvision.datasets as dsets\n",
    "import datetime\n",
    "import pandas as pd\n",
    "import numpy as np\n",
    "from torch.autograd import Variable\n",
    "import matplotlib as plt"
   ]
  },
  {
   "cell_type": "markdown",
   "metadata": {},
   "source": [
    "# Load in Cody's CSV"
   ]
  },
  {
   "cell_type": "code",
   "execution_count": 32,
   "metadata": {},
   "outputs": [
    {
     "name": "stdout",
     "output_type": "stream",
     "text": [
      "begin loading csv 2019-06-20 13:35:46.443275\n",
      "end loading csv 2019-06-20 13:35:46.517028\n",
      "   name0  name1  name2  name3  name4     name5     name6     name7     name8  \\\n",
      "0      0      2     13      2      0  0.000075  0.000674  0.001422  0.002021   \n",
      "\n",
      "      name9   ...      name26   name27    name28    name29    name30  \\\n",
      "0  0.003031   ...    0.360914  0.38552  0.455395  0.465176  0.472343   \n",
      "\n",
      "     name31    name32    name33   name34  name35  \n",
      "0  0.478612  0.510768  0.772257  0.92073       0  \n",
      "\n",
      "[1 rows x 36 columns]\n",
      "4220\n",
      "(4220, 36)\n",
      "   name0  name1  name2  name3  name4     name5     name6     name7     name8  \\\n",
      "0      0      3     16      3      0  0.000180  0.000180  0.000180  0.000719   \n",
      "1      1      4     11      4      1  0.000465  0.002403  0.003256  0.003411   \n",
      "2      2      3     14      3      2  0.000023  0.000070  0.000094  0.000141   \n",
      "3      3      7     14      7      3  0.000090  0.000090  0.000120  0.000180   \n",
      "4      2      6     12      6      2  0.000007  0.000028  0.000028  0.000071   \n",
      "5      0      8     10      8      0  0.000038  0.000050  0.000050  0.000050   \n",
      "6      2      3     14      3      2  0.000057  0.000057  0.000099  0.000113   \n",
      "7      1      9      9      9      1  0.000108  0.000144  0.000144  0.000289   \n",
      "8      0      2     13      2      0  0.000120  0.000601  0.000721  0.003485   \n",
      "9      0      3     11      3      0  0.000141  0.000141  0.000938  0.001266   \n",
      "\n",
      "      name9   ...      name26    name27    name28    name29    name30  \\\n",
      "0  0.000988   ...    0.289024  0.317460  0.371904  0.393422  0.502491   \n",
      "1  0.007365   ...    0.344763  0.469763  0.472991  0.510787  0.617907   \n",
      "2  0.000164   ...    0.210819  0.363040  0.395375  0.539341  0.692561   \n",
      "3  0.000180   ...    0.256155  0.267455  0.280565  0.425959  0.659379   \n",
      "4  0.000085   ...    0.289720  0.336788  0.363706  0.551643  0.587114   \n",
      "5  0.000214   ...    0.340490  0.449492  0.452972  0.574637  0.581305   \n",
      "6  0.000141   ...    0.232649  0.256282  0.348641  0.379738  0.608026   \n",
      "7  0.000722   ...    0.192061  0.297102  0.442224  0.442774  0.498666   \n",
      "8  0.005168   ...    0.290410  0.305102  0.333344  0.348516  0.387814   \n",
      "9  0.005066   ...    0.294461  0.382496  0.389790  0.440870  0.452800   \n",
      "\n",
      "     name31    name32    name33    name34  name35  \n",
      "0  0.595748  0.659536  0.699269  0.861705       1  \n",
      "1  0.755700  0.791955  0.793671  0.856752       1  \n",
      "2  0.697736  0.730351  0.954016  1.002483       0  \n",
      "3  0.660070  0.706953  0.861721  1.594166       1  \n",
      "4  0.616023  0.872942  1.045165  1.202146       1  \n",
      "5  0.726061  0.752058  1.033653  1.254356       1  \n",
      "6  0.908899  0.985108  1.054194  1.128849       1  \n",
      "7  0.625666  0.731754  1.139151  1.210317       0  \n",
      "8  0.405540  0.437327  0.583043  0.777491       1  \n",
      "9  0.515561  0.842324  0.905327  0.927894       1  \n",
      "\n",
      "[10 rows x 36 columns]\n"
     ]
    }
   ],
   "source": [
    "url = \"~/Dropbox/RandomBergman/KS4/data.csv\"\n",
    "\n",
    "\n",
    "print 'begin loading csv', datetime.datetime.now()\n",
    "names=['Ginf','Go','share2cone','Vinf','Vo','Vrat','Graphd','weirdrat','weridrat2','Arat','V','Ainfinf','Ainfother',\n",
    "       'Angles','Crat']\n",
    "names = ['name' + str(ii) for ii in range(36)]\n",
    "#snames = range(15)\n",
    "dataset = pd.read_csv(url, names = names)\n",
    "#data2 = dataset\n",
    "print 'end loading csv', datetime.datetime.now()\n",
    "\n",
    "print dataset[0:1]\n",
    "\n",
    "from sklearn.utils import shuffle\n",
    "dataset = shuffle(dataset)\n",
    "shuffled = True\n",
    "dataset.reset_index(inplace=True, drop=True)\n",
    "\n",
    "\n",
    "#bigs = [3,4,5,7,8,9,10,11,12,13,14]\n",
    "#bigs = [names[big] for big in bigs]\n",
    "#for big in bigs:\n",
    "#    dataset['log'+str(big)] = np.log10(np.abs(dataset[big]))\n",
    "\n",
    "truncate_size = len(dataset)\n",
    "#truncate_size = 200000\n",
    "dataset = dataset[0:truncate_size]\n",
    "\n",
    "print len(dataset)\n",
    "print(dataset.shape)\n",
    "print(dataset[0:10])\n",
    "# print(dataset.head(20))\n",
    "# print(dataset.describe())\n",
    "# set([type(k) for k in dataset['logCrat']]) # check types\n",
    "#set([type(k) for k in dataset['logBig14']]) # check types"
   ]
  },
  {
   "cell_type": "code",
   "execution_count": null,
   "metadata": {},
   "outputs": [],
   "source": []
  },
  {
   "cell_type": "code",
   "execution_count": null,
   "metadata": {
    "collapsed": true
   },
   "outputs": [],
   "source": []
  },
  {
   "cell_type": "code",
   "execution_count": null,
   "metadata": {},
   "outputs": [],
   "source": []
  },
  {
   "cell_type": "code",
   "execution_count": null,
   "metadata": {},
   "outputs": [],
   "source": []
  },
  {
   "cell_type": "code",
   "execution_count": null,
   "metadata": {},
   "outputs": [],
   "source": []
  },
  {
   "cell_type": "markdown",
   "metadata": {},
   "source": [
    "# Setup PyTorch Dataset\n",
    "\n",
    "Cody's CSV was read into a Pandas DataFrame. We want to put it into a PyTorch DataSet, now.\n",
    "\n",
    "Following [this website](https://www.kaggle.com/pinocookie/pytorch-dataset-and-dataloader) with some minor changes, below we will create a class DatasetFromDataframe that, with a reasonable degree of generality, maps a Pandas DataFrame into a PyTorch Dataset. This should be extremely useful in the future."
   ]
  },
  {
   "cell_type": "code",
   "execution_count": 134,
   "metadata": {
    "collapsed": true
   },
   "outputs": [],
   "source": [
    "import torch\n",
    "import torch.nn as nn\n",
    "import torchvision.transforms as transforms\n",
    "import torchvision.datasets as dsets\n",
    "from torch.autograd import Variable\n",
    "from torch.utils.data import Dataset, DataLoader"
   ]
  },
  {
   "cell_type": "code",
   "execution_count": 135,
   "metadata": {
    "collapsed": true
   },
   "outputs": [],
   "source": [
    "class DatasetFromDataframe(Dataset):\n",
    "    def __init__(self,df,transform=None):\n",
    "        self.data = df\n",
    "        self.transform = transform\n",
    "    \n",
    "    def __len__(self): return len(self.data)\n",
    "    \n",
    "    def __getitem__(self,index):\n",
    "        input = self.data.iloc[index,:-1].values.astype(np.float32).reshape((-1, len(self.data.columns)-1))\n",
    "        output = self.data.iloc[index,-1].astype(np.float32).reshape((1))\n",
    "        \n",
    "        if self.transform is not None:\n",
    "            input = self.transform(input)\n",
    "            \n",
    "        return input, output\n",
    "        "
   ]
  },
  {
   "cell_type": "code",
   "execution_count": 136,
   "metadata": {},
   "outputs": [
    {
     "name": "stdout",
     "output_type": "stream",
     "text": [
      "<class 'pandas.core.frame.DataFrame'> <class 'pandas.core.frame.DataFrame'>\n"
     ]
    }
   ],
   "source": [
    "# Setup train test split\n",
    "from sklearn.model_selection import train_test_split\n",
    "train, test = train_test_split(dataset, test_size=0.1)\n",
    "print type(train), type(test) # check types"
   ]
  },
  {
   "cell_type": "markdown",
   "metadata": {},
   "source": [
    "All looks good to go, let's do some machine learning."
   ]
  },
  {
   "cell_type": "code",
   "execution_count": 137,
   "metadata": {
    "collapsed": true
   },
   "outputs": [],
   "source": [
    "class FeedforwardNeuralNetModel(nn.Module):\n",
    "    def __init__(self,input_dim,hidden_dim,output_dim, num_hidden = 5):\n",
    "        super(FeedforwardNeuralNetModel,self).__init__()\n",
    "        \n",
    "        self.fc1 = nn.Linear(input_dim,hidden_dim)\n",
    "        self.hiddens = [nn.Linear(hidden_dim,hidden_dim) for i in range(num_hidden)]\n",
    "        for hidden in self.hiddens:\n",
    "            if torch.cuda.is_available(): hidden.cuda()\n",
    "        self.fc3 = nn.Linear(hidden_dim,output_dim)\n",
    "        self.relu = nn.ReLU()\n",
    "        self.sigmoid = nn.Sigmoid()\n",
    "        \n",
    "    def forward(self,x):\n",
    "        out = self.fc1(x)\n",
    "        out = self.relu(out)\n",
    "        for hidden in self.hiddens:\n",
    "            out = hidden(out)\n",
    "            out = self.relu(out)\n",
    "        out = self.fc3(out)\n",
    "        out = self.sigmoid(out)\n",
    "        return out"
   ]
  },
  {
   "cell_type": "code",
   "execution_count": null,
   "metadata": {},
   "outputs": [],
   "source": []
  },
  {
   "cell_type": "code",
   "execution_count": 138,
   "metadata": {},
   "outputs": [
    {
     "name": "stdout",
     "output_type": "stream",
     "text": [
      "False\n"
     ]
    }
   ],
   "source": [
    "print torch.cuda.is_available()"
   ]
  },
  {
   "cell_type": "code",
   "execution_count": 139,
   "metadata": {},
   "outputs": [
    {
     "name": "stdout",
     "output_type": "stream",
     "text": [
      "tensor([[0.],\n",
      "        [1.],\n",
      "        [1.],\n",
      "        [1.],\n",
      "        [1.],\n",
      "        [0.],\n",
      "        [0.],\n",
      "        [0.],\n",
      "        [1.],\n",
      "        [0.],\n",
      "        [1.],\n",
      "        [1.],\n",
      "        [1.],\n",
      "        [1.],\n",
      "        [1.],\n",
      "        [0.],\n",
      "        [1.],\n",
      "        [0.],\n",
      "        [1.],\n",
      "        [1.],\n",
      "        [1.],\n",
      "        [1.],\n",
      "        [1.],\n",
      "        [0.],\n",
      "        [1.],\n",
      "        [1.],\n",
      "        [0.],\n",
      "        [0.],\n",
      "        [0.],\n",
      "        [1.],\n",
      "        [0.],\n",
      "        [0.],\n",
      "        [1.],\n",
      "        [1.],\n",
      "        [1.],\n",
      "        [1.],\n",
      "        [0.],\n",
      "        [0.],\n",
      "        [0.],\n",
      "        [1.],\n",
      "        [0.],\n",
      "        [1.],\n",
      "        [1.],\n",
      "        [0.],\n",
      "        [1.],\n",
      "        [0.],\n",
      "        [1.],\n",
      "        [0.],\n",
      "        [0.],\n",
      "        [1.],\n",
      "        [1.],\n",
      "        [0.],\n",
      "        [0.],\n",
      "        [1.],\n",
      "        [0.],\n",
      "        [1.],\n",
      "        [1.],\n",
      "        [1.],\n",
      "        [1.],\n",
      "        [0.],\n",
      "        [1.],\n",
      "        [1.],\n",
      "        [0.],\n",
      "        [1.],\n",
      "        [1.],\n",
      "        [1.],\n",
      "        [1.],\n",
      "        [1.],\n",
      "        [1.],\n",
      "        [1.],\n",
      "        [1.],\n",
      "        [1.],\n",
      "        [1.],\n",
      "        [1.],\n",
      "        [1.],\n",
      "        [1.],\n",
      "        [0.],\n",
      "        [1.],\n",
      "        [1.],\n",
      "        [1.],\n",
      "        [0.],\n",
      "        [1.],\n",
      "        [1.],\n",
      "        [1.],\n",
      "        [0.],\n",
      "        [0.],\n",
      "        [1.],\n",
      "        [0.],\n",
      "        [1.],\n",
      "        [0.],\n",
      "        [1.],\n",
      "        [0.],\n",
      "        [0.],\n",
      "        [1.],\n",
      "        [1.],\n",
      "        [1.],\n",
      "        [0.],\n",
      "        [1.],\n",
      "        [0.],\n",
      "        [0.]])\n",
      "tensor([[1.],\n",
      "        [1.],\n",
      "        [1.],\n",
      "        [0.],\n",
      "        [0.],\n",
      "        [0.],\n",
      "        [1.],\n",
      "        [1.],\n",
      "        [1.],\n",
      "        [1.],\n",
      "        [1.],\n",
      "        [1.],\n",
      "        [1.],\n",
      "        [0.],\n",
      "        [1.],\n",
      "        [1.],\n",
      "        [1.],\n",
      "        [1.],\n",
      "        [0.],\n",
      "        [0.],\n",
      "        [0.],\n",
      "        [1.],\n",
      "        [1.],\n",
      "        [1.],\n",
      "        [0.],\n",
      "        [1.],\n",
      "        [1.],\n",
      "        [1.],\n",
      "        [0.],\n",
      "        [0.],\n",
      "        [1.],\n",
      "        [1.],\n",
      "        [0.],\n",
      "        [1.],\n",
      "        [1.],\n",
      "        [1.],\n",
      "        [0.],\n",
      "        [1.],\n",
      "        [0.],\n",
      "        [1.],\n",
      "        [1.],\n",
      "        [1.],\n",
      "        [1.],\n",
      "        [0.],\n",
      "        [1.],\n",
      "        [0.],\n",
      "        [0.],\n",
      "        [1.],\n",
      "        [1.],\n",
      "        [1.],\n",
      "        [1.],\n",
      "        [0.],\n",
      "        [0.],\n",
      "        [0.],\n",
      "        [1.],\n",
      "        [0.],\n",
      "        [0.],\n",
      "        [0.],\n",
      "        [0.],\n",
      "        [1.],\n",
      "        [1.],\n",
      "        [1.],\n",
      "        [1.],\n",
      "        [1.],\n",
      "        [0.],\n",
      "        [1.],\n",
      "        [1.],\n",
      "        [0.],\n",
      "        [0.],\n",
      "        [0.],\n",
      "        [1.],\n",
      "        [0.],\n",
      "        [1.],\n",
      "        [0.],\n",
      "        [0.],\n",
      "        [1.],\n",
      "        [1.],\n",
      "        [1.],\n",
      "        [1.],\n",
      "        [0.],\n",
      "        [1.],\n",
      "        [0.],\n",
      "        [0.],\n",
      "        [1.],\n",
      "        [1.],\n",
      "        [0.],\n",
      "        [0.],\n",
      "        [0.],\n",
      "        [0.],\n",
      "        [1.],\n",
      "        [1.],\n",
      "        [1.],\n",
      "        [1.],\n",
      "        [1.],\n",
      "        [1.],\n",
      "        [1.],\n",
      "        [0.],\n",
      "        [0.],\n",
      "        [0.],\n",
      "        [0.]])\n",
      "tensor([[1.],\n",
      "        [1.],\n",
      "        [0.],\n",
      "        [1.],\n",
      "        [0.],\n",
      "        [0.],\n",
      "        [1.],\n",
      "        [1.],\n",
      "        [0.],\n",
      "        [0.],\n",
      "        [0.],\n",
      "        [0.],\n",
      "        [0.],\n",
      "        [0.],\n",
      "        [1.],\n",
      "        [1.],\n",
      "        [1.],\n",
      "        [1.],\n",
      "        [0.],\n",
      "        [1.],\n",
      "        [0.],\n",
      "        [1.],\n",
      "        [0.],\n",
      "        [0.],\n",
      "        [1.],\n",
      "        [1.],\n",
      "        [1.],\n",
      "        [1.],\n",
      "        [0.],\n",
      "        [0.],\n",
      "        [1.],\n",
      "        [1.],\n",
      "        [1.],\n",
      "        [1.],\n",
      "        [0.],\n",
      "        [0.],\n",
      "        [1.],\n",
      "        [1.],\n",
      "        [1.],\n",
      "        [0.],\n",
      "        [1.],\n",
      "        [1.],\n",
      "        [0.],\n",
      "        [1.],\n",
      "        [1.],\n",
      "        [0.],\n",
      "        [0.],\n",
      "        [0.],\n",
      "        [1.],\n",
      "        [1.],\n",
      "        [1.],\n",
      "        [1.],\n",
      "        [1.],\n",
      "        [1.],\n",
      "        [0.],\n",
      "        [1.],\n",
      "        [1.],\n",
      "        [0.],\n",
      "        [0.],\n",
      "        [0.],\n",
      "        [1.],\n",
      "        [0.],\n",
      "        [0.],\n",
      "        [1.],\n",
      "        [0.],\n",
      "        [1.],\n",
      "        [0.],\n",
      "        [0.],\n",
      "        [1.],\n",
      "        [0.],\n",
      "        [0.],\n",
      "        [1.],\n",
      "        [1.],\n",
      "        [1.],\n",
      "        [1.],\n",
      "        [0.],\n",
      "        [0.],\n",
      "        [0.],\n",
      "        [1.],\n",
      "        [0.],\n",
      "        [0.],\n",
      "        [1.],\n",
      "        [0.],\n",
      "        [1.],\n",
      "        [0.],\n",
      "        [0.],\n",
      "        [1.],\n",
      "        [0.],\n",
      "        [0.],\n",
      "        [1.],\n",
      "        [1.],\n",
      "        [0.],\n",
      "        [0.],\n",
      "        [1.],\n",
      "        [0.],\n",
      "        [0.],\n",
      "        [1.],\n",
      "        [0.],\n",
      "        [0.],\n",
      "        [1.]])\n",
      "tensor([[0.],\n",
      "        [1.],\n",
      "        [1.],\n",
      "        [0.],\n",
      "        [0.],\n",
      "        [0.],\n",
      "        [1.],\n",
      "        [1.],\n",
      "        [1.],\n",
      "        [0.],\n",
      "        [0.],\n",
      "        [1.],\n",
      "        [1.],\n",
      "        [1.],\n",
      "        [1.],\n",
      "        [0.],\n",
      "        [0.],\n",
      "        [0.],\n",
      "        [0.],\n",
      "        [1.],\n",
      "        [0.],\n",
      "        [0.],\n",
      "        [0.],\n",
      "        [0.],\n",
      "        [1.],\n",
      "        [1.],\n",
      "        [1.],\n",
      "        [1.],\n",
      "        [0.],\n",
      "        [0.],\n",
      "        [1.],\n",
      "        [0.],\n",
      "        [1.],\n",
      "        [1.],\n",
      "        [0.],\n",
      "        [1.],\n",
      "        [0.],\n",
      "        [1.],\n",
      "        [0.],\n",
      "        [1.],\n",
      "        [1.],\n",
      "        [1.],\n",
      "        [1.],\n",
      "        [0.],\n",
      "        [0.],\n",
      "        [1.],\n",
      "        [1.],\n",
      "        [1.],\n",
      "        [1.],\n",
      "        [0.],\n",
      "        [0.],\n",
      "        [0.],\n",
      "        [0.],\n",
      "        [1.],\n",
      "        [1.],\n",
      "        [1.],\n",
      "        [0.],\n",
      "        [1.],\n",
      "        [1.],\n",
      "        [1.],\n",
      "        [0.],\n",
      "        [0.],\n",
      "        [1.],\n",
      "        [0.],\n",
      "        [0.],\n",
      "        [0.],\n",
      "        [0.],\n",
      "        [1.],\n",
      "        [1.],\n",
      "        [0.],\n",
      "        [1.],\n",
      "        [1.],\n",
      "        [1.],\n",
      "        [1.],\n",
      "        [0.],\n",
      "        [0.],\n",
      "        [0.],\n",
      "        [0.],\n",
      "        [1.],\n",
      "        [1.],\n",
      "        [1.],\n",
      "        [0.],\n",
      "        [0.],\n",
      "        [0.],\n",
      "        [0.],\n",
      "        [0.],\n",
      "        [1.],\n",
      "        [1.],\n",
      "        [0.],\n",
      "        [1.],\n",
      "        [0.],\n",
      "        [1.],\n",
      "        [1.],\n",
      "        [1.],\n",
      "        [1.],\n",
      "        [1.],\n",
      "        [1.],\n",
      "        [1.],\n",
      "        [1.],\n",
      "        [1.]])\n",
      "tensor([[1.],\n",
      "        [0.],\n",
      "        [1.],\n",
      "        [0.],\n",
      "        [1.],\n",
      "        [1.],\n",
      "        [0.],\n",
      "        [0.],\n",
      "        [1.],\n",
      "        [1.],\n",
      "        [1.],\n",
      "        [1.],\n",
      "        [1.],\n",
      "        [0.],\n",
      "        [1.],\n",
      "        [0.],\n",
      "        [1.],\n",
      "        [1.],\n",
      "        [0.],\n",
      "        [0.],\n",
      "        [1.],\n",
      "        [0.]])\n"
     ]
    }
   ],
   "source": [
    "train_dataset = DatasetFromDataframe(train)\n",
    "test_dataset = DatasetFromDataframe(test)\n",
    "train_loader = DataLoader(train_dataset, batch_size = 100, shuffle = True) # sets up a train loader to test next()\n",
    "test_loader = DataLoader(test_dataset, batch_size = 100, shuffle = True) # sets up a train loader to test next()\n",
    "for images, labels in test_loader:\n",
    "    print labels"
   ]
  },
  {
   "cell_type": "code",
   "execution_count": 155,
   "metadata": {},
   "outputs": [],
   "source": [
    "def predict_log10crat(train_dataset,test_dataset, train_loader, test_loader,num_epochs):\n",
    "    train_dataset = DatasetFromDataframe(train)\n",
    "    test_dataset = DatasetFromDataframe(test)\n",
    "    train_loader = DataLoader(train_dataset, batch_size = 100, shuffle = True) # sets up a train loader to test next()\n",
    "    test_loader = DataLoader(test_dataset, batch_size = 100, shuffle = True) # sets up a train loader to test next()\n",
    "\n",
    "    input_dim = len(train_dataset.data.columns) - 1\n",
    "    hidden_dim = 100\n",
    "    output_dim = 1\n",
    "\n",
    "    model = FeedforwardNeuralNetModel(input_dim,hidden_dim,output_dim)\n",
    "    if torch.cuda.is_available():\n",
    "        print 'cuda'\n",
    "        model = model.cuda()\n",
    "\n",
    "    criterion = nn.MSELoss()\n",
    "    learning_rate = 0.01\n",
    "    optimizer = torch.optim.Adam(model.parameters(), lr = learning_rate)\n",
    "\n",
    "    import datetime\n",
    "\n",
    "    totinfos, totmses = [], []\n",
    "\n",
    "    it = 0\n",
    "    for epoch in range(num_epochs):\n",
    "        if epoch % 1 == 0: print \"EPOCH\", epoch\n",
    "        if epoch % 1 == 0: \n",
    "\n",
    "            info = []\n",
    "            mses = []\n",
    "            for images, labels in test_loader:\n",
    "                if torch.cuda.is_available():\n",
    "                    images = Variable(images.view(-1,input_dim).cuda())\n",
    "                else: \n",
    "                    images = Variable(images.view(-1,input_dim))\n",
    "                outputs = model(images)\n",
    "                #print outputs[0], labels[0]\n",
    "                #print 'train', outputs[0]\n",
    "                info.append(abs(float(torch.mean((outputs.cpu() - labels)/labels * 100))))\n",
    "                mses.append(float(nn.functional.mse_loss(outputs.cpu(),labels)))\n",
    "            \n",
    "            correct = 0\n",
    "            total = 0\n",
    "            with torch.no_grad():\n",
    "                for data in test_loader:\n",
    "                    images, labels = data\n",
    "                    outputs = model(images)\n",
    "                    _, predicted = torch.max(outputs.data, 1)\n",
    "                    total += labels.size(0)\n",
    "                    correct += (predicted.float() == labels.float()).sum().item()\n",
    "\n",
    "            print('Accuracy of the network on the 10000 test images: %d %%' % (100 * correct / total))\n",
    "\n",
    "            print datetime.datetime.now()\n",
    "            print it, epoch, datetime.datetime.now(), np.mean(info), np.mean(mses)\n",
    "            totinfos.append(np.mean(info))\n",
    "            totmses.append(np.mean(mses))    \n",
    "        for i, (images,labels) in enumerate(train_loader):\n",
    "\n",
    "            if torch.cuda.is_available():\n",
    "                images = Variable(images.view(-1,input_dim).cuda())\n",
    "                labels = Variable(labels.cuda())\n",
    "            else:\n",
    "                images = Variable(images.view(-1,input_dim))\n",
    "                labels = Variable(labels)\n",
    "\n",
    "            #print 'image length', len(images)\n",
    "\n",
    "            optimizer.zero_grad()\n",
    "\n",
    "            outputs = model(images)\n",
    "            #print 'train', outputs[0]\n",
    "\n",
    "            loss = criterion(outputs,labels)\n",
    "\n",
    "            loss.backward()\n",
    "\n",
    "            optimizer.step()\n",
    "\n",
    "            it += 1\n",
    "    return model\n"
   ]
  },
  {
   "cell_type": "code",
   "execution_count": null,
   "metadata": {
    "collapsed": true
   },
   "outputs": [],
   "source": []
  },
  {
   "cell_type": "code",
   "execution_count": null,
   "metadata": {
    "collapsed": true
   },
   "outputs": [],
   "source": []
  },
  {
   "cell_type": "code",
   "execution_count": null,
   "metadata": {
    "collapsed": true
   },
   "outputs": [],
   "source": []
  },
  {
   "cell_type": "code",
   "execution_count": null,
   "metadata": {
    "collapsed": true
   },
   "outputs": [],
   "source": []
  },
  {
   "cell_type": "code",
   "execution_count": 156,
   "metadata": {
    "collapsed": true
   },
   "outputs": [],
   "source": [
    "# Setup train test split\n",
    "#from sklearn.model_selection import train_test_split\n",
    "#train, test = train_test_split(dataset, test_size=0.1)\n",
    "#train_dataset = DatasetFromDataframe(train)\n",
    "#test_dataset = DatasetFromDataframe(test)\n",
    "#train_loader = DataLoader(train_dataset, batch_size = 100, shuffle = True) # sets up a train loader to test next()\n",
    "#test_loader = DataLoader(test_dataset, batch_size = 100, shuffle = True) # sets up a train loader to test next()\n",
    "#predict_log10crat(train_dataset,test_dataset, train_loader, test_loader,10)"
   ]
  },
  {
   "cell_type": "code",
   "execution_count": 157,
   "metadata": {},
   "outputs": [
    {
     "name": "stdout",
     "output_type": "stream",
     "text": [
      "['name0', 'name1', 'name2', 'name3', 'name4', 'name5', 'name6', 'name7', 'name8', 'name9', 'name10', 'name11', 'name12', 'name13', 'name14', 'name15', 'name16', 'name17', 'name18', 'name19', 'name20', 'name21', 'name22', 'name23', 'name24', 'name25', 'name26', 'name27', 'name28', 'name29', 'name30', 'name31', 'name32', 'name33', 'name34', 'name35']\n"
     ]
    }
   ],
   "source": [
    "newnames = [d for d in dataset]\n",
    "print newnames"
   ]
  },
  {
   "cell_type": "code",
   "execution_count": 158,
   "metadata": {
    "collapsed": true
   },
   "outputs": [],
   "source": [
    "# Setup train test split\n",
    "#from sklearn.model_selection import train_test_split\n",
    "#train, test = train_test_split(dataset.drop(columns=['Ginf', 'Go', 'Graphd', 'Arat', 'Ainfinf', 'Ainfother', 'logVo', 'logweirdrat', 'logweridrat2', 'logV', 'logAngles', 'logCrat']), test_size=0.1)\n",
    "#train_dataset = DatasetFromDataframe(train)\n",
    "#test_dataset = DatasetFromDataframe(test)\n",
    "#train_loader = DataLoader(train_dataset, batch_size = 100, shuffle = True) # sets up a train loader to test next()\n",
    "#test_loader = DataLoader(test_dataset, batch_size = 100, shuffle = True) # sets up a train loader to test next()\n",
    "#predict_log10crat(train_dataset,test_dataset, train_loader, test_loader,10)"
   ]
  },
  {
   "cell_type": "code",
   "execution_count": 159,
   "metadata": {},
   "outputs": [
    {
     "name": "stdout",
     "output_type": "stream",
     "text": [
      "EPOCH 0\n",
      "Accuracy of the network on the 10000 test images: 39 %\n",
      "2019-06-20 15:57:17.242326\n",
      "0 0 2019-06-20 15:57:17.242412 inf 0.2440460979938507\n",
      "EPOCH 1\n",
      "Accuracy of the network on the 10000 test images: 39 %\n",
      "2019-06-20 15:57:19.402602\n",
      "38 1 2019-06-20 15:57:19.402686 inf 0.2431366264820099\n",
      "EPOCH 2\n",
      "Accuracy of the network on the 10000 test images: 39 %\n",
      "2019-06-20 15:57:21.317389\n",
      "76 2 2019-06-20 15:57:21.317490 inf 0.23629097044467925\n",
      "EPOCH 3\n",
      "Accuracy of the network on the 10000 test images: 39 %\n",
      "2019-06-20 15:57:23.324084\n",
      "114 3 2019-06-20 15:57:23.324170 inf 0.23959160447120667\n",
      "EPOCH 4\n",
      "Accuracy of the network on the 10000 test images: 39 %\n",
      "2019-06-20 15:57:25.633064\n",
      "152 4 2019-06-20 15:57:25.633149 inf 0.23932820558547974\n",
      "EPOCH 5\n",
      "Accuracy of the network on the 10000 test images: 39 %\n",
      "2019-06-20 15:57:27.497344\n",
      "190 5 2019-06-20 15:57:27.497488 inf 0.24235759377479554\n",
      "EPOCH 6\n",
      "Accuracy of the network on the 10000 test images: 39 %\n",
      "2019-06-20 15:57:29.524725\n",
      "228 6 2019-06-20 15:57:29.524860 inf 0.2409838020801544\n",
      "EPOCH 7\n",
      "Accuracy of the network on the 10000 test images: 39 %\n",
      "2019-06-20 15:57:31.550078\n",
      "266 7 2019-06-20 15:57:31.550171 inf 0.23976290225982666\n",
      "EPOCH 8\n",
      "Accuracy of the network on the 10000 test images: 39 %\n",
      "2019-06-20 15:57:33.863365\n",
      "304 8 2019-06-20 15:57:33.863451 inf 0.24462416768074036\n",
      "EPOCH 9\n",
      "Accuracy of the network on the 10000 test images: 39 %\n",
      "2019-06-20 15:57:35.644032\n",
      "342 9 2019-06-20 15:57:35.644173 inf 0.2386268764734268\n"
     ]
    }
   ],
   "source": [
    "# Setup train test split\n",
    "from sklearn.model_selection import train_test_split\n",
    "train, test = train_test_split(dataset, test_size=0.1)\n",
    "train_dataset = DatasetFromDataframe(train)\n",
    "test_dataset = DatasetFromDataframe(test)\n",
    "train_loader = DataLoader(train_dataset, batch_size = 100, shuffle = True) # sets up a train loader to test next()\n",
    "test_loader = DataLoader(test_dataset, batch_size = 100, shuffle = True) # sets up a train loader to test next()\n",
    "nn1 = predict_log10crat(train_dataset,test_dataset, train_loader, test_loader,10)"
   ]
  },
  {
   "cell_type": "code",
   "execution_count": null,
   "metadata": {},
   "outputs": [],
   "source": [
    "ds1 = dataset.drop(columns=['logAinfother','logAinfinf','logArat','Ginf',\n",
    "                            'Go','logweirdrat','logweridrat2','logAngles'])\n",
    "ds1new = ds1.values.tolist()\n",
    "#print ds1[0:1]\n",
    "params= list(nn1.parameters())\n",
    "print(len(params))\n",
    "print ds1[0:1]\n",
    "#print(params[0].size())\n",
    "#print torch.randn(1, 1, 32, 32)\n",
    "print ds1new[0]\n",
    "tot = 0\n",
    "for ii in range(len(ds1new)):\n",
    "    pval =  nn1(torch.Tensor([ds1new[ii][p] for p in range(0,6)]))[0].item()\n",
    "    actual  = abs(ds1new[ii][6])\n",
    "    if actual >1e-1:\n",
    "        tot += abs((abs(pval)-abs(actual))/(abs(actual) + abs(pval))*2)\n",
    "mape = tot/len(ds1new)\n",
    "print mape*100\n"
   ]
  },
  {
   "cell_type": "code",
   "execution_count": null,
   "metadata": {},
   "outputs": [],
   "source": [
    "# Setup train test split\n",
    "from sklearn.model_selection import train_test_split\n",
    "train, test = train_test_split(dataset.drop(columns=['Ginf','Go', 'share2cone', 'Graphd' ,'logVinf', 'logVo', 'logVrat',\n",
    "                                                     'logweirdrat', 'logweridrat2', 'logV', 'logAngles']), test_size=0.1)\n",
    "train_dataset = DatasetFromDataframe(train)\n",
    "test_dataset = DatasetFromDataframe(test)\n",
    "train_loader = DataLoader(train_dataset, batch_size = 100, shuffle = True) # sets up a train loader to test next()\n",
    "test_loader = DataLoader(test_dataset, batch_size = 100, shuffle = True) # sets up a train loader to test next()\n",
    "nn2 = predict_log10crat(train_dataset,test_dataset, train_loader, test_loader,10)\n",
    "\n"
   ]
  },
  {
   "cell_type": "code",
   "execution_count": null,
   "metadata": {},
   "outputs": [],
   "source": [
    "params= list(nn2.parameters())\n",
    "print(len(params))"
   ]
  },
  {
   "cell_type": "code",
   "execution_count": 215,
   "metadata": {},
   "outputs": [
    {
     "name": "stdout",
     "output_type": "stream",
     "text": [
      "4\n",
      "     logArat    logAinfinf  logAinfother   logCrat\n",
      "0  -0.888814 -2.950483e+00     -3.839297 -0.888815\n",
      "1  -1.196295 -8.813615e-02     -1.284431 -1.196295\n",
      "2  -2.438543  2.761142e-07     -2.438543 -2.438543\n",
      "3  -2.256127 -6.661971e+00     -8.918098 -2.309227\n",
      "4  -0.714905 -4.755820e+00     -5.470724 -0.714917\n",
      "5   2.394633 -8.625106e+00     -6.230472  2.392370\n",
      "6   0.710803 -3.345980e+00     -2.635176  0.710803\n",
      "7  -1.544740 -2.508312e+00     -4.053052 -1.544740\n",
      "8  -0.698978 -8.813609e-02     -0.787114 -0.698978\n",
      "9   0.865633 -6.002079e+00     -5.136445  0.865633\n",
      "10 -0.357935 -9.150664e-01     -1.273001 -0.357935\n",
      "11  0.999580 -3.418302e+00     -2.418722  0.999580\n",
      "12 -1.743721 -6.684531e+00     -8.428252 -1.750306\n",
      "13 -1.880814  1.204120e+00     -0.676694 -1.880814\n",
      "14 -1.367718 -3.297651e+00     -4.665369 -1.367718\n",
      "15 -5.288534  9.030900e-01     -4.385444 -5.288535\n",
      "16 -0.684129 -1.080106e+01    -11.485189 -0.830546\n",
      "17 -1.340809 -7.775441e+00     -9.116251 -1.349924\n",
      "18 -0.052388 -1.237647e+00     -1.290034 -0.052388\n",
      "19 -0.915707 -1.250750e+01    -13.423208 -0.940251\n",
      "20 -1.251601 -1.457244e+00     -2.708846 -1.251601\n",
      "21 -5.946475 -1.439471e+00     -7.385946 -5.946549\n",
      "22 -2.058023 -7.123735e+00     -9.181758 -2.073228\n",
      "23  2.788082 -8.502433e+00     -5.714352  2.775279\n",
      "24 -9.400775  1.760913e-01     -9.224683 -9.400776\n",
      "25 -1.586829 -6.489640e+00     -8.076469 -1.589371\n",
      "26 -0.949695 -5.274264e-01     -1.477121 -0.949695\n",
      "27 -2.256084 -5.343534e+00     -7.599618 -2.259043\n",
      "28 -1.380211  1.760913e-01     -1.204120 -1.380211\n",
      "29 -2.514925 -2.682670e+00     -5.197595 -2.514926\n",
      "..       ...           ...           ...       ...\n",
      "70 -3.771263 -6.464458e+00    -10.235722 -3.788667\n",
      "71 -0.347046 -6.688491e+00     -7.035537 -0.347078\n",
      "72  0.396887 -9.453412e+00     -9.056525  0.391253\n",
      "73 -2.293061 -1.179695e+00     -3.472756 -2.293061\n",
      "74 -4.676581 -7.623574e-01     -5.438938 -4.676581\n",
      "75 -0.734216 -7.439515e+00     -8.173731 -0.734434\n",
      "76 -6.171242 -3.871708e+00    -10.042951 -6.171251\n",
      "77 -4.103706 -7.819098e+00    -11.922804 -2.630992\n",
      "78 -1.120574 -3.187588e-01     -1.439333 -1.120574\n",
      "79  1.010463 -9.810084e+00     -8.799621  0.934988\n",
      "80 -1.888602 -7.241294e+00     -9.129896 -1.895984\n",
      "81 -0.674610 -3.667820e-01     -1.041392 -0.674610\n",
      "82 -3.304491  1.204120e+00     -2.100371 -3.304491\n",
      "83  1.262654 -1.135064e+01    -10.087990  1.262585\n",
      "84 -2.030735  4.929155e-01     -1.537819 -2.030735\n",
      "85 -3.336086  4.929155e-01     -2.843170 -3.336086\n",
      "86 -1.173298 -1.432007e+00     -2.605305 -1.173298\n",
      "87 -0.176090  5.522454e-07     -0.176089 -0.176090\n",
      "88 -0.258270 -7.995875e+00     -8.254145 -0.271791\n",
      "89 -1.553057 -7.513271e-01     -2.304385 -1.553057\n",
      "90 -6.166750 -1.338936e-01     -6.300643 -6.166806\n",
      "91  2.541247 -9.755505e+00     -7.214258  2.539302\n",
      "92 -0.414974 -6.361791e-01     -1.051153 -0.414974\n",
      "93 -4.338058 -8.182843e+00    -12.520901 -4.447890\n",
      "94 -0.301880 -1.013920e+01    -10.441085 -0.336046\n",
      "95 -0.963788 -1.215908e+00     -2.179695 -0.963788\n",
      "96 -1.621614 -7.793559e-01     -2.400969 -1.621614\n",
      "97 -6.258380 -1.636043e+00     -7.894423 -6.258492\n",
      "98 -5.235490 -4.228332e+00     -9.463822 -5.235756\n",
      "99 -0.036124 -2.927074e+00     -2.963197 -0.036124\n",
      "\n",
      "[100 rows x 4 columns]\n",
      "[-0.8888143913969762, -2.9504829242185076, -3.8392973156154855, -0.8888147497433128]\n",
      "15.1901679171\n"
     ]
    }
   ],
   "source": [
    "ds2 = dataset.drop(columns=['Ginf','Go', 'share2cone', 'Graphd', 'logVinf', 'logVo', \n",
    "                            'logVrat', 'logweirdrat', 'logweridrat2', 'logV', 'logAngles'])\n",
    "ds2new = ds2.values.tolist()\n",
    "#print ds1[0:1]\n",
    "params= list(nn2.parameters())\n",
    "print(len(params))\n",
    "print ds2[0:100]\n",
    "#print(params[0].size())\n",
    "#print torch.randn(1, 1, 32, 32)\n",
    "print ds2new[0]\n",
    "tot = 0\n",
    "actuals = []\n",
    "for ii in range(len(ds2new)):\n",
    "    pval =  nn2(torch.Tensor([ds2new[ii][p] for p in range(0,3)]))[0].item()\n",
    "    actual  = abs(ds2new[ii][3])\n",
    "    \n",
    "    if actual > 1e-100000:\n",
    "        tot += abs((abs(pval)-abs(actual))/((abs(actual) + abs(pval))/2))\n",
    "        actuals.append(abs(actual))\n",
    "mape = tot/len(ds2new)\n",
    "print mape*100\n"
   ]
  },
  {
   "cell_type": "code",
   "execution_count": 216,
   "metadata": {},
   "outputs": [
    {
     "name": "stdout",
     "output_type": "stream",
     "text": [
      "3.16485857964\n",
      "3.46449930134\n"
     ]
    },
    {
     "data": {
      "text/plain": [
       "[-1.1962946155593734, -0.08813614786594898, -1.284430763425323]"
      ]
     },
     "execution_count": 216,
     "metadata": {},
     "output_type": "execute_result"
    }
   ],
   "source": [
    "print pval\n",
    "print actual\n",
    "[ds2new[1][p] for p in range(0,3)]"
   ]
  },
  {
   "cell_type": "code",
   "execution_count": 218,
   "metadata": {},
   "outputs": [
    {
     "name": "stdout",
     "output_type": "stream",
     "text": [
      "2654\n"
     ]
    },
    {
     "data": {
      "text/html": [
       "<div>\n",
       "<style scoped>\n",
       "    .dataframe tbody tr th:only-of-type {\n",
       "        vertical-align: middle;\n",
       "    }\n",
       "\n",
       "    .dataframe tbody tr th {\n",
       "        vertical-align: top;\n",
       "    }\n",
       "\n",
       "    .dataframe thead th {\n",
       "        text-align: right;\n",
       "    }\n",
       "</style>\n",
       "<table border=\"1\" class=\"dataframe\">\n",
       "  <thead>\n",
       "    <tr style=\"text-align: right;\">\n",
       "      <th></th>\n",
       "      <th>Ginf</th>\n",
       "      <th>Go</th>\n",
       "      <th>share2cone</th>\n",
       "      <th>Graphd</th>\n",
       "      <th>logVinf</th>\n",
       "      <th>logVo</th>\n",
       "      <th>logVrat</th>\n",
       "      <th>logweirdrat</th>\n",
       "      <th>logweridrat2</th>\n",
       "      <th>logArat</th>\n",
       "      <th>logV</th>\n",
       "      <th>logAinfinf</th>\n",
       "      <th>logAinfother</th>\n",
       "      <th>logAngles</th>\n",
       "      <th>logCrat</th>\n",
       "    </tr>\n",
       "  </thead>\n",
       "  <tbody>\n",
       "    <tr>\n",
       "      <th>2654</th>\n",
       "      <td>G2</td>\n",
       "      <td>S2</td>\n",
       "      <td>True</td>\n",
       "      <td>1</td>\n",
       "      <td>1.380211</td>\n",
       "      <td>3.106315e-07</td>\n",
       "      <td>1.380211</td>\n",
       "      <td>-9.730821</td>\n",
       "      <td>-9.730821</td>\n",
       "      <td>-3.192357e-07</td>\n",
       "      <td>11.111032</td>\n",
       "      <td>-1.380211</td>\n",
       "      <td>-1.380212</td>\n",
       "      <td>-1.039591</td>\n",
       "      <td>-3.193971e-07</td>\n",
       "    </tr>\n",
       "  </tbody>\n",
       "</table>\n",
       "</div>"
      ],
      "text/plain": [
       "     Ginf  Go  share2cone  Graphd   logVinf         logVo   logVrat  \\\n",
       "2654   G2  S2        True       1  1.380211  3.106315e-07  1.380211   \n",
       "\n",
       "      logweirdrat  logweridrat2       logArat       logV  logAinfinf  \\\n",
       "2654    -9.730821     -9.730821 -3.192357e-07  11.111032   -1.380211   \n",
       "\n",
       "      logAinfother  logAngles       logCrat  \n",
       "2654     -1.380212  -1.039591 -3.193971e-07  "
      ]
     },
     "execution_count": 218,
     "metadata": {},
     "output_type": "execute_result"
    }
   ],
   "source": [
    "print actuals.index(min(actuals))\n",
    "dataset[2654:2655]"
   ]
  },
  {
   "cell_type": "code",
   "execution_count": 196,
   "metadata": {
    "collapsed": true
   },
   "outputs": [],
   "source": [
    "dd = [np.log10(1/(np.abs(data2['Ainfother'][ii]))/np.abs(data2['V'][ii])) for ii in range(len(data2))]"
   ]
  },
  {
   "cell_type": "code",
   "execution_count": 25,
   "metadata": {
    "collapsed": true
   },
   "outputs": [],
   "source": [
    "import matplotlib\n",
    "from matplotlib import pyplot"
   ]
  },
  {
   "cell_type": "code",
   "execution_count": 21,
   "metadata": {},
   "outputs": [
    {
     "ename": "NameError",
     "evalue": "name 'pyplot' is not defined",
     "output_type": "error",
     "traceback": [
      "\u001b[0;31m---------------------------------------------------------------------------\u001b[0m",
      "\u001b[0;31mNameError\u001b[0m                                 Traceback (most recent call last)",
      "\u001b[0;32m<ipython-input-21-62e0e1ad0d2f>\u001b[0m in \u001b[0;36m<module>\u001b[0;34m()\u001b[0m\n\u001b[1;32m      1\u001b[0m \u001b[0;32mimport\u001b[0m \u001b[0mpandas\u001b[0m \u001b[0;32mas\u001b[0m \u001b[0mpandas\u001b[0m\u001b[0;34m\u001b[0m\u001b[0m\n\u001b[1;32m      2\u001b[0m \u001b[0;32mfrom\u001b[0m \u001b[0mcollections\u001b[0m \u001b[0;32mimport\u001b[0m \u001b[0mCounter\u001b[0m\u001b[0;34m\u001b[0m\u001b[0m\n\u001b[0;32m----> 3\u001b[0;31m \u001b[0mpyplot\u001b[0m\u001b[0;34m.\u001b[0m\u001b[0mrc\u001b[0m\u001b[0;34m(\u001b[0m\u001b[0;34m'text'\u001b[0m\u001b[0;34m,\u001b[0m \u001b[0musetex\u001b[0m\u001b[0;34m=\u001b[0m\u001b[0mTrue\u001b[0m\u001b[0;34m)\u001b[0m\u001b[0;34m\u001b[0m\u001b[0m\n\u001b[0m\u001b[1;32m      4\u001b[0m \u001b[0mpyplot\u001b[0m\u001b[0;34m.\u001b[0m\u001b[0mrc\u001b[0m\u001b[0;34m(\u001b[0m\u001b[0;34m'font'\u001b[0m\u001b[0;34m,\u001b[0m \u001b[0mfamily\u001b[0m\u001b[0;34m=\u001b[0m\u001b[0;34m'serif'\u001b[0m\u001b[0;34m)\u001b[0m\u001b[0;34m\u001b[0m\u001b[0m\n\u001b[1;32m      5\u001b[0m \u001b[0mpyplot\u001b[0m\u001b[0;34m.\u001b[0m\u001b[0mtick_params\u001b[0m\u001b[0;34m(\u001b[0m\u001b[0mlabelsize\u001b[0m\u001b[0;34m=\u001b[0m\u001b[0;36m15\u001b[0m\u001b[0;34m)\u001b[0m\u001b[0;34m\u001b[0m\u001b[0m\n",
      "\u001b[0;31mNameError\u001b[0m: name 'pyplot' is not defined"
     ]
    }
   ],
   "source": [
    "import pandas as pandas\n",
    "from collections import Counter\n",
    "pyplot.rc('text', usetex=True)\n",
    "pyplot.rc('font', family='serif')\n",
    "pyplot.tick_params(labelsize=15)\n",
    "pyplot.gcf().subplots_adjust(bottom=0.20)\n",
    "pyplot.hist(onedat,color = 'C0')\n",
    "pyplot.xlabel(r'$R^{\\alpha}_{\\check{\\alpha}}$',fontsize = 20)\n",
    "pyplot.ylabel(r'Frequency',fontsize = 20)"
   ]
  },
  {
   "cell_type": "code",
   "execution_count": 24,
   "metadata": {},
   "outputs": [
    {
     "ename": "NameError",
     "evalue": "name 'dd' is not defined",
     "output_type": "error",
     "traceback": [
      "\u001b[0;31m---------------------------------------------------------------------------\u001b[0m",
      "\u001b[0;31mNameError\u001b[0m                                 Traceback (most recent call last)",
      "\u001b[0;32m<ipython-input-24-656939f2b361>\u001b[0m in \u001b[0;36m<module>\u001b[0;34m()\u001b[0m\n\u001b[0;32m----> 1\u001b[0;31m \u001b[0mpyplot\u001b[0m\u001b[0;34m.\u001b[0m\u001b[0mhist\u001b[0m\u001b[0;34m(\u001b[0m\u001b[0mdd\u001b[0m\u001b[0;34m)\u001b[0m\u001b[0;34m\u001b[0m\u001b[0m\n\u001b[0m",
      "\u001b[0;31mNameError\u001b[0m: name 'dd' is not defined"
     ]
    }
   ],
   "source": [
    "pyplot.hist(dd)"
   ]
  },
  {
   "cell_type": "code",
   "execution_count": 199,
   "metadata": {},
   "outputs": [
    {
     "data": {
      "image/png": "[encoded data removed]",
      "text/plain": [
       "<Figure size 432x288 with 1 Axes>"
      ]
     },
     "metadata": {},
     "output_type": "display_data"
    }
   ],
   "source": [
    "\n",
    "pyplot.show()"
   ]
  },
  {
   "cell_type": "code",
   "execution_count": 22,
   "metadata": {
    "collapsed": true,
    "scrolled": true
   },
   "outputs": [],
   "source": [
    "curvevols =  [np.log10((np.abs(data2['Ainfother'][ii]))*np.abs(data2['Vinf'][ii])*np.abs(data2['Vo'][ii])) for ii in range(len(data2))]"
   ]
  },
  {
   "cell_type": "raw",
   "metadata": {},
   "source": []
  },
  {
   "cell_type": "code",
   "execution_count": 23,
   "metadata": {
    "collapsed": true
   },
   "outputs": [],
   "source": [
    "curvevolratios =  [np.log10((np.abs(data2['Ainfother'][ii]))*np.abs(data2['Vinf'][ii])*np.abs(data2['Vo'][ii])/((np.abs(data2['Ainfinf'][ii]))*np.abs(data2['Vinf'][ii])*np.abs(data2['Vinf'][ii]))) for ii in range(len(data2))]"
   ]
  },
  {
   "cell_type": "code",
   "execution_count": 26,
   "metadata": {},
   "outputs": [
    {
     "data": {
      "text/plain": [
       "Text(0,0.5,'Frequency')"
      ]
     },
     "execution_count": 26,
     "metadata": {},
     "output_type": "execute_result"
    }
   ],
   "source": [
    "pyplot.rc('text', usetex=True)\n",
    "pyplot.rc('font', family='serif')\n",
    "pyplot.tick_params(labelsize=20)\n",
    "pyplot.gcf().subplots_adjust(bottom=0.20)\n",
    "pyplot.hist(curvevolratios,log = True,color = 'C0')\n",
    "pyplot.xlabel(r'log10$(A^{\\check{\\alpha}\\alpha}/|A^{\\check{\\alpha}\\check{\\alpha}}|)$',fontsize = 20)\n",
    "pyplot.ylabel(r'Frequency',fontsize = 20)"
   ]
  },
  {
   "cell_type": "code",
   "execution_count": 27,
   "metadata": {},
   "outputs": [
    {
     "data": {
      "image/png": "[encoded data removed]",
      "text/plain": [
       "<Figure size 432x288 with 1 Axes>"
      ]
     },
     "metadata": {},
     "output_type": "display_data"
    }
   ],
   "source": [
    "pyplot.show()"
   ]
  },
  {
   "cell_type": "code",
   "execution_count": 97,
   "metadata": {
    "collapsed": true
   },
   "outputs": [],
   "source": [
    "pyplot.savefig('/Users/cody/Dropbox/axionmixing/Draft/volratios.pdf')"
   ]
  },
  {
   "cell_type": "code",
   "execution_count": null,
   "metadata": {
    "collapsed": true
   },
   "outputs": [],
   "source": [
    "#sanity: are theses x's or A's?\n",
    "curvevolratios =  [np.log10((np.abs(data2['Ainfother'][ii]))*np.abs(data2['Vinf'][ii])*np.abs(data2['Vo'][ii])/((np.abs(data2['Ainfinf'][ii]))*np.abs(data2['Vinf'][ii])*np.abs(data2['Vinf'][ii]))) for ii in range(len(data2))]"
   ]
  },
  {
   "cell_type": "code",
   "execution_count": 26,
   "metadata": {},
   "outputs": [
    {
     "data": {
      "text/plain": [
       "Text(0,0.5,'Frequency')"
      ]
     },
     "execution_count": 26,
     "metadata": {},
     "output_type": "execute_result"
    }
   ],
   "source": [
    "newdat = [-(1/2), 3/2, -3, -1, 1, 0, 2, -(3/2), -(1/2), -1, -(3/2), 0, -(1/2), \n",
    "-2, 1/2, -(1/2), 1/2, 3/2, 5/2, 1, -1, 3/2, -(1/2), -(3/2), 0, 1, 0, \n",
    "-2, 1/2, 2, 1, -(5/2), 3, 1/2, 1/2, -(3/4), 1/4, 1/2, 1/2, -(1/2), \n",
    "1/2, 1/2, 1/4, 1/4, 0, 1/4, -(1/2), -(1/4), 1/2, -(1/4), -(1/4), \n",
    "-(1/4), 1/4, 1/4, 1/2, -(1/2), -(1/4), 1/4, -(1/4), -(1/2), 0, 0, 0, \n",
    "1/4, 0, 0, 1/4, 1/2, 1/4, -(3/4), 1/4, 5/4, 3/2, 3/2, 1/2, 3/2, 3/2, \n",
    "1/4, 1/4, 1, 5/4, 1/2, 3/4, 3/2, -(1/4), -(1/4), 3/4, 1/4, 5/4, 3/2, \n",
    "1/2, 3/4, 5/4, 3/4, -(1/2), 1, 1, 1, 5/4, 1, 0, 5/4, 3/2, 1/4, 1/4]\n",
    "pyplot.rc('text', usetex=True)\n",
    "pyplot.rc('font', family='serif')\n",
    "pyplot.tick_params(labelsize=15)\n",
    "pyplot.gcf().subplots_adjust(bottom=0.20)\n",
    "pyplot.hist(newdat,color = 'C0')\n",
    "pyplot.xlabel(r'$a^{A,B,C}_i$',fontsize = 20)\n",
    "pyplot.ylabel(r'Frequency',fontsize = 20)"
   ]
  },
  {
   "cell_type": "code",
   "execution_count": 27,
   "metadata": {},
   "outputs": [
    {
     "data": {
      "image/png": "[encoded data removed]",
      "text/plain": [
       "<Figure size 432x288 with 1 Axes>"
      ]
     },
     "metadata": {},
     "output_type": "display_data"
    }
   ],
   "source": [
    "pyplot.show()"
   ]
  },
  {
   "cell_type": "code",
   "execution_count": 28,
   "metadata": {},
   "outputs": [
    {
     "ename": "NameError",
     "evalue": "name 'curvevolratios' is not defined",
     "output_type": "error",
     "traceback": [
      "\u001b[0;31m---------------------------------------------------------------------------\u001b[0m",
      "\u001b[0;31mNameError\u001b[0m                                 Traceback (most recent call last)",
      "\u001b[0;32m<ipython-input-28-740e57d45bee>\u001b[0m in \u001b[0;36m<module>\u001b[0;34m()\u001b[0m\n\u001b[0;32m----> 1\u001b[0;31m \u001b[0mlen\u001b[0m\u001b[0;34m(\u001b[0m\u001b[0mcurvevolratios\u001b[0m\u001b[0;34m)\u001b[0m\u001b[0;34m\u001b[0m\u001b[0m\n\u001b[0m",
      "\u001b[0;31mNameError\u001b[0m: name 'curvevolratios' is not defined"
     ]
    }
   ],
   "source": [
    "len(curvevolratios)"
   ]
  },
  {
   "cell_type": "code",
   "execution_count": 136,
   "metadata": {},
   "outputs": [
    {
     "name": "stdout",
     "output_type": "stream",
     "text": [
      "EPOCH 0\n",
      "2018-11-20 14:58:18.117504\n",
      "0 0 2018-11-20 14:58:18.117710 85792280371.2 4.1932056863726056e+21\n",
      "EPOCH 1\n",
      "2018-11-20 14:58:23.875567\n",
      "180 1 2018-11-20 14:58:23.875771 85926805708.8 4.2066663228954305e+21\n",
      "EPOCH 2\n",
      "2018-11-20 14:58:29.671036\n",
      "360 2 2018-11-20 14:58:29.671236 85908681728.0 4.205151507254048e+21\n",
      "EPOCH 3\n",
      "2018-11-20 14:58:36.035615\n",
      "540 3 2018-11-20 14:58:36.035899 85889793638.4 4.2035650615087485e+21\n",
      "EPOCH 4\n",
      "2018-11-20 14:58:42.004199\n",
      "720 4 2018-11-20 14:58:42.004410 85871352985.6 4.2020299583385177e+21\n",
      "EPOCH 5\n",
      "2018-11-20 14:58:47.877497\n",
      "900 5 2018-11-20 14:58:47.877668 85851597158.4 4.200419232077942e+21\n",
      "EPOCH 6\n",
      "2018-11-20 14:58:55.355637\n",
      "1080 6 2018-11-20 14:58:55.355832 85831736320.0 4.1988158380206074e+21\n",
      "EPOCH 7\n",
      "2018-11-20 14:59:02.443396\n",
      "1260 7 2018-11-20 14:59:02.443648 85812307148.8 4.197282730024176e+21\n",
      "EPOCH 8\n",
      "2018-11-20 14:59:08.890475\n",
      "1440 8 2018-11-20 14:59:08.890680 85792047206.4 4.195733048429272e+21\n",
      "EPOCH 9\n",
      "2018-11-20 14:59:15.295217\n",
      "1620 9 2018-11-20 14:59:15.295401 85771060838.4 4.194181995523466e+21\n"
     ]
    }
   ],
   "source": [
    "# Setup train test split\n",
    "from sklearn.model_selection import train_test_split\n",
    "train, test = train_test_split(dataset.drop(columns=['Ginf', 'Go', 'share2cone', 'Graphd', 'logweirdrat', 'logweridrat2', 'logArat', 'logAinfinf', 'logAinfother', 'logAngles', 'logCrat']), test_size=0.1)\n",
    "train_dataset = DatasetFromDataframe(train)\n",
    "test_dataset = DatasetFromDataframe(test)\n",
    "train_loader = DataLoader(train_dataset, batch_size = 100, shuffle = True) # sets up a train loader to test next()\n",
    "test_loader = DataLoader(test_dataset, batch_size = 100, shuffle = True) # sets up a train loader to test next()\n",
    "predict_log10crat(train_dataset,test_dataset, train_loader, test_loader,10)"
   ]
  },
  {
   "cell_type": "code",
   "execution_count": 38,
   "metadata": {
    "collapsed": true
   },
   "outputs": [],
   "source": [
    "#make the error for the estimation plot that jim suggested:\n",
    "edat =  [np.log10((1/np.abs(data2['V'][ii]/data2['Ainfinf'][ii]))) for ii in range(len(data2))] \n"
   ]
  },
  {
   "cell_type": "code",
   "execution_count": 31,
   "metadata": {},
   "outputs": [
    {
     "data": {
      "text/plain": [
       "-7.945672238702856"
      ]
     },
     "execution_count": 31,
     "metadata": {},
     "output_type": "execute_result"
    }
   ],
   "source": [
    "max(edat)"
   ]
  },
  {
   "cell_type": "code",
   "execution_count": 32,
   "metadata": {},
   "outputs": [
    {
     "data": {
      "image/png": "[encoded data removed]",
      "text/plain": [
       "<Figure size 432x288 with 1 Axes>"
      ]
     },
     "metadata": {},
     "output_type": "display_data"
    }
   ],
   "source": [
    "import pandas as pandas\n",
    "from collections import Counter\n",
    "import matplotlib\n",
    "from matplotlib import pyplot\n",
    "pyplot.rc('text', usetex=True)\n",
    "pyplot.rc('font', family='serif')\n",
    "pyplot.tick_params(labelsize=15)\n",
    "pyplot.gcf().subplots_adjust(bottom=0.20)\n",
    "pyplot.hist(edat,color = 'C0',log = True,bins = 30)\n",
    "pyplot.xlabel(r'$1/(\\mathcal{V}A^{\\check{\\alpha}\\check{\\alpha}})$',fontsize = 20)\n",
    "pyplot.ylabel(r'Frequency',fontsize = 20)\n",
    "pyplot.show()"
   ]
  },
  {
   "cell_type": "code",
   "execution_count": 39,
   "metadata": {
    "collapsed": true
   },
   "outputs": [],
   "source": [
    "#make the error for the estimation plot that jim suggested:\n",
    "edat2 =  [np.log10((1/np.abs(data2['V'][ii]/data2['Ainfother'][ii]))) for ii in range(len(data2))] "
   ]
  },
  {
   "cell_type": "code",
   "execution_count": 34,
   "metadata": {},
   "outputs": [
    {
     "data": {
      "image/png": "[encoded data removed]",
      "text/plain": [
       "<Figure size 432x288 with 1 Axes>"
      ]
     },
     "metadata": {},
     "output_type": "display_data"
    }
   ],
   "source": [
    "import pandas as pandas\n",
    "from collections import Counter\n",
    "import matplotlib\n",
    "from matplotlib import pyplot\n",
    "pyplot.rc('text', usetex=True)\n",
    "pyplot.rc('font', family='serif')\n",
    "pyplot.tick_params(labelsize=15)\n",
    "pyplot.gcf().subplots_adjust(bottom=0.20)\n",
    "pyplot.hist(edat2,color = 'C0',log = True,bins = 30)\n",
    "pyplot.xlabel(r'$1/(\\mathcal{V}X^{\\check{\\alpha}\\alpha})$',fontsize = 20)\n",
    "pyplot.ylabel(r'Frequency',fontsize = 20)\n",
    "pyplot.show()"
   ]
  },
  {
   "cell_type": "code",
   "execution_count": 35,
   "metadata": {},
   "outputs": [
    {
     "data": {
      "text/plain": [
       "-9.32588347299921"
      ]
     },
     "execution_count": 35,
     "metadata": {},
     "output_type": "execute_result"
    }
   ],
   "source": [
    "max(edat2)"
   ]
  },
  {
   "cell_type": "code",
   "execution_count": 40,
   "metadata": {
    "collapsed": true
   },
   "outputs": [],
   "source": [
    "edat3 = edat + edat2"
   ]
  },
  {
   "cell_type": "code",
   "execution_count": 44,
   "metadata": {
    "collapsed": true
   },
   "outputs": [],
   "source": [
    "import pandas as pandas\n",
    "from collections import Counter\n",
    "import matplotlib\n",
    "from matplotlib import pyplot\n",
    "pyplot.rc('text', usetex=True)\n",
    "pyplot.rc('font', family='serif')\n",
    "pyplot.tick_params(labelsize=15)\n",
    "pyplot.gcf().subplots_adjust(bottom=0.20)\n",
    "pyplot.hist(edat3,color = 'C0',log = True,bins = 30)\n",
    "pyplot.xlabel(r'$1/(\\mathcal{V}x^{\\alpha\\beta})$',fontsize = 20)\n",
    "pyplot.ylabel(r'Number',fontsize = 20)\n",
    "#pyplot.show()\n",
    "pyplot.savefig('/Users/cody/Dropbox/axionmixing/Draft/plots/volvscurves.pdf')"
   ]
  },
  {
   "cell_type": "code",
   "execution_count": 36,
   "metadata": {},
   "outputs": [
    {
     "data": {
      "image/png": "[encoded data removed]",
      "text/plain": [
       "<Figure size 432x288 with 1 Axes>"
      ]
     },
     "metadata": {},
     "output_type": "display_data"
    }
   ],
   "source": [
    "selfvols =  [np.log10((np.abs(data2['Ainfinf'][ii]))*np.abs(data2['Vinf'][ii])*np.abs(data2['Vinf'][ii])) for ii in range(len(data2))]\n",
    "pyplot.hist(selfvols)\n",
    "pyplot.show()\n",
    "\n",
    "\n"
   ]
  },
  {
   "cell_type": "code",
   "execution_count": 29,
   "metadata": {},
   "outputs": [
    {
     "data": {
      "image/png": "[encoded data removed]",
      "text/plain": [
       "<Figure size 432x288 with 1 Axes>"
      ]
     },
     "metadata": {},
     "output_type": "display_data"
    }
   ],
   "source": [
    "import matplotlib\n",
    "from matplotlib import pyplot\n",
    "ratiovols =  [np.log10((np.abs(data2['Ainfinf'][ii]))*np.abs(data2['Vinf'][ii])*np.abs(data2['Vinf'][ii])/((np.abs(data2['Ainfother'][ii]))*np.abs(data2['Vinf'][ii])*np.abs(data2['Vo'][ii]))) for ii in range(len(data2))]\n",
    "pyplot.hist(ratiovols)\n",
    "pyplot.show()"
   ]
  },
  {
   "cell_type": "code",
   "execution_count": 182,
   "metadata": {},
   "outputs": [
    {
     "data": {
      "image/png": "[encoded data removed]",
      "text/plain": [
       "<Figure size 432x288 with 1 Axes>"
      ]
     },
     "metadata": {},
     "output_type": "display_data"
    }
   ],
   "source": [
    "#now we should think about the divisor volumes a bit. \n",
    "import matplotlib\n",
    "from matplotlib import pyplot\n",
    "aiiovertaui =  [np.log10((np.abs(data2['Ainfinf'][ii]))*np.abs(data2['Vinf'][ii])) for ii in range(len(data2))]\n",
    "pyplot.hist(aiiovertaui)\n",
    "pyplot.show()"
   ]
  },
  {
   "cell_type": "code",
   "execution_count": 179,
   "metadata": {},
   "outputs": [
    {
     "data": {
      "image/png": "[encoded data removed]",
      "text/plain": [
       "<Figure size 432x288 with 1 Axes>"
      ]
     },
     "metadata": {},
     "output_type": "display_data"
    }
   ],
   "source": [
    "#now we should think about the divisor volumes a bit. \n",
    "import matplotlib\n",
    "from matplotlib import pyplot\n",
    "aioovertauo =  [np.log10((np.abs(data2['Ainfother'][ii]))*np.abs(data2['Vinf'][ii])) for ii in range(len(data2))]\n",
    "pyplot.hist(aioovertauo)\n",
    "pyplot.show()"
   ]
  },
  {
   "cell_type": "code",
   "execution_count": 105,
   "metadata": {},
   "outputs": [
    {
     "data": {
      "image/png": "[encoded data removed]",
      "text/plain": [
       "<Figure size 432x288 with 1 Axes>"
      ]
     },
     "metadata": {},
     "output_type": "display_data"
    }
   ],
   "source": [
    "#let's look at some gauge group specific stuff. there are 9 possible gauge groups. let's start with gauge group 1,\n",
    "#which is E8\n",
    "#first look at how much E8 reheats into other stuff:\n",
    "import matplotlib\n",
    "from matplotlib import pyplot\n",
    "E8out = [dataset['logCrat'][ii] for ii in range(len(dataset)) if dataset['Ginf'][ii] == 1]\n",
    "pyplot.hist(E8out)\n",
    "pyplot.show()"
   ]
  },
  {
   "cell_type": "code",
   "execution_count": 106,
   "metadata": {},
   "outputs": [
    {
     "data": {
      "image/png": "[encoded data removed]",
      "text/plain": [
       "<Figure size 432x288 with 1 Axes>"
      ]
     },
     "metadata": {},
     "output_type": "display_data"
    }
   ],
   "source": [
    "#now look at how much other stuff into E8\n",
    "E8in = [dataset['logCrat'][ii] for ii in range(len(dataset)) if dataset['Go'][ii] == 1]\n",
    "pyplot.hist(E8in)\n",
    "pyplot.show()"
   ]
  },
  {
   "cell_type": "code",
   "execution_count": 107,
   "metadata": {},
   "outputs": [
    {
     "data": {
      "image/png": "[encoded data removed]",
      "text/plain": [
       "<Figure size 432x288 with 1 Axes>"
      ]
     },
     "metadata": {},
     "output_type": "display_data"
    }
   ],
   "source": [
    "#E7\n",
    "E7out = [dataset['logCrat'][ii] for ii in range(len(dataset)) if dataset['Ginf'][ii] == 2]\n",
    "pyplot.hist(E7out)\n",
    "pyplot.show()"
   ]
  },
  {
   "cell_type": "code",
   "execution_count": 108,
   "metadata": {},
   "outputs": [
    {
     "data": {
      "image/png": "[encoded data removed]",
      "text/plain": [
       "<Figure size 432x288 with 1 Axes>"
      ]
     },
     "metadata": {},
     "output_type": "display_data"
    }
   ],
   "source": [
    "#now look at how much other stuff into E7\n",
    "E7in = [dataset['logCrat'][ii] for ii in range(len(dataset)) if dataset['Go'][ii] == 2]\n",
    "pyplot.hist(E7in)\n",
    "pyplot.show()"
   ]
  },
  {
   "cell_type": "code",
   "execution_count": 109,
   "metadata": {},
   "outputs": [
    {
     "data": {
      "image/png": "[encoded data removed]",
      "text/plain": [
       "<Figure size 432x288 with 1 Axes>"
      ]
     },
     "metadata": {},
     "output_type": "display_data"
    }
   ],
   "source": [
    "#E6\n",
    "E6out = [dataset['logCrat'][ii] for ii in range(len(dataset)) if dataset['Ginf'][ii] == 3]\n",
    "pyplot.hist(E6out)\n",
    "pyplot.show()"
   ]
  },
  {
   "cell_type": "code",
   "execution_count": 110,
   "metadata": {},
   "outputs": [
    {
     "data": {
      "image/png": "[encoded data removed]",
      "text/plain": [
       "<Figure size 432x288 with 1 Axes>"
      ]
     },
     "metadata": {},
     "output_type": "display_data"
    }
   ],
   "source": [
    "E6in = [dataset['logCrat'][ii] for ii in range(len(dataset)) if dataset['Go'][ii] == 3]\n",
    "pyplot.hist(E6in)\n",
    "pyplot.show()"
   ]
  },
  {
   "cell_type": "code",
   "execution_count": 111,
   "metadata": {},
   "outputs": [
    {
     "data": {
      "image/png": "[encoded data removed]",
      "text/plain": [
       "<Figure size 432x288 with 1 Axes>"
      ]
     },
     "metadata": {},
     "output_type": "display_data"
    }
   ],
   "source": [
    "#F4\n",
    "F4out = [dataset['logCrat'][ii] for ii in range(len(dataset)) if dataset['Ginf'][ii] == 4]\n",
    "pyplot.hist(F4out)\n",
    "pyplot.show()"
   ]
  },
  {
   "cell_type": "code",
   "execution_count": 112,
   "metadata": {},
   "outputs": [
    {
     "data": {
      "image/png": "[encoded data removed]",
      "text/plain": [
       "<Figure size 432x288 with 1 Axes>"
      ]
     },
     "metadata": {},
     "output_type": "display_data"
    }
   ],
   "source": [
    "F4in = [dataset['logCrat'][ii] for ii in range(len(dataset)) if dataset['Go'][ii] == 4]\n",
    "pyplot.hist(F4in)\n",
    "pyplot.show()"
   ]
  },
  {
   "cell_type": "code",
   "execution_count": 114,
   "metadata": {},
   "outputs": [
    {
     "data": {
      "image/png": "[encoded data removed]",
      "text/plain": [
       "<Figure size 432x288 with 1 Axes>"
      ]
     },
     "metadata": {},
     "output_type": "display_data"
    }
   ],
   "source": [
    "#G2\n",
    "G2out = [dataset['logCrat'][ii] for ii in range(len(dataset)) if dataset['Ginf'][ii] == 5]\n",
    "pyplot.hist(G2out)\n",
    "pyplot.show()"
   ]
  },
  {
   "cell_type": "code",
   "execution_count": 116,
   "metadata": {},
   "outputs": [
    {
     "data": {
      "image/png": "[encoded data removed]",
      "text/plain": [
       "<Figure size 432x288 with 1 Axes>"
      ]
     },
     "metadata": {},
     "output_type": "display_data"
    }
   ],
   "source": [
    "G2in = [dataset['logCrat'][ii] for ii in range(len(dataset)) if dataset['Go'][ii] == 5]\n",
    "pyplot.hist(G2in)\n",
    "pyplot.show()"
   ]
  },
  {
   "cell_type": "code",
   "execution_count": 117,
   "metadata": {},
   "outputs": [
    {
     "data": {
      "image/png": "[encoded data removed]",
      "text/plain": [
       "<Figure size 432x288 with 1 Axes>"
      ]
     },
     "metadata": {},
     "output_type": "display_data"
    }
   ],
   "source": [
    "#SO8\n",
    "SO8out = [dataset['logCrat'][ii] for ii in range(len(dataset)) if dataset['Ginf'][ii] == 6]\n",
    "pyplot.hist(SO8out)\n",
    "pyplot.show()"
   ]
  },
  {
   "cell_type": "code",
   "execution_count": 119,
   "metadata": {},
   "outputs": [
    {
     "data": {
      "image/png": "[encoded data removed]",
      "text/plain": [
       "<Figure size 432x288 with 1 Axes>"
      ]
     },
     "metadata": {},
     "output_type": "display_data"
    }
   ],
   "source": [
    "#SO7\n",
    "SO7out = [dataset['logCrat'][ii] for ii in range(len(dataset)) if dataset['Ginf'][ii] == 7]\n",
    "pyplot.hist(SO7out)\n",
    "pyplot.show()"
   ]
  },
  {
   "cell_type": "code",
   "execution_count": 120,
   "metadata": {},
   "outputs": [
    {
     "data": {
      "image/png": "[encoded data removed]",
      "text/plain": [
       "<Figure size 432x288 with 1 Axes>"
      ]
     },
     "metadata": {},
     "output_type": "display_data"
    }
   ],
   "source": [
    "SO7in = [dataset['logCrat'][ii] for ii in range(len(dataset)) if dataset['Go'][ii] == 7]\n",
    "pyplot.hist(SO7in)\n",
    "pyplot.show()"
   ]
  },
  {
   "cell_type": "code",
   "execution_count": 121,
   "metadata": {},
   "outputs": [
    {
     "data": {
      "image/png": "[encoded data removed]",
      "text/plain": [
       "<Figure size 432x288 with 1 Axes>"
      ]
     },
     "metadata": {},
     "output_type": "display_data"
    }
   ],
   "source": [
    "S3in = [dataset['logCrat'][ii] for ii in range(len(dataset)) if dataset['Go'][ii] == 8]\n",
    "pyplot.hist(S3in)\n",
    "pyplot.show()"
   ]
  },
  {
   "cell_type": "code",
   "execution_count": 122,
   "metadata": {},
   "outputs": [
    {
     "data": {
      "image/png": "[encoded data removed]",
      "text/plain": [
       "<Figure size 432x288 with 1 Axes>"
      ]
     },
     "metadata": {},
     "output_type": "display_data"
    }
   ],
   "source": [
    "S3out = [dataset['logCrat'][ii] for ii in range(len(dataset)) if dataset['Ginf'][ii] == 8]\n",
    "pyplot.hist(S3out)\n",
    "pyplot.show()"
   ]
  },
  {
   "cell_type": "code",
   "execution_count": 123,
   "metadata": {},
   "outputs": [
    {
     "data": {
      "image/png": "[encoded data removed]",
      "text/plain": [
       "<Figure size 432x288 with 1 Axes>"
      ]
     },
     "metadata": {},
     "output_type": "display_data"
    }
   ],
   "source": [
    "S2out = [dataset['logCrat'][ii] for ii in range(len(dataset)) if dataset['Ginf'][ii] == 9]\n",
    "pyplot.hist(S2out)\n",
    "pyplot.show()"
   ]
  },
  {
   "cell_type": "code",
   "execution_count": 124,
   "metadata": {},
   "outputs": [
    {
     "data": {
      "image/png": "[encoded data removed]",
      "text/plain": [
       "<Figure size 432x288 with 1 Axes>"
      ]
     },
     "metadata": {},
     "output_type": "display_data"
    }
   ],
   "source": [
    "S2in = [dataset['logCrat'][ii] for ii in range(len(dataset)) if dataset['Go'][ii] == 9]\n",
    "pyplot.hist(S2in)\n",
    "pyplot.show()"
   ]
  },
  {
   "cell_type": "code",
   "execution_count": 45,
   "metadata": {
    "collapsed": true
   },
   "outputs": [],
   "source": [
    "#all\n",
    "logCrat = [(dataset['logCrat'][ii]) for ii in range(len(dataset))]\n"
   ]
  },
  {
   "cell_type": "code",
   "execution_count": 48,
   "metadata": {},
   "outputs": [
    {
     "data": {
      "image/png": "[encoded data removed]",
      "text/plain": [
       "<Figure size 432x288 with 1 Axes>"
      ]
     },
     "metadata": {},
     "output_type": "display_data"
    }
   ],
   "source": [
    "import matplotlib\n",
    "from matplotlib import pyplot\n",
    "pyplot.hist(logCrat)\n",
    "pyplot.show()"
   ]
  },
  {
   "cell_type": "code",
   "execution_count": 144,
   "metadata": {},
   "outputs": [
    {
     "name": "stdout",
     "output_type": "stream",
     "text": [
      "100000\n",
      "1000\n"
     ]
    }
   ],
   "source": [
    "print len(logCrat)\n",
    "print len(randomdats)"
   ]
  },
  {
   "cell_type": "code",
   "execution_count": 145,
   "metadata": {},
   "outputs": [
    {
     "data": {
      "image/png": "[encoded data removed]",
      "text/plain": [
       "<Figure size 432x288 with 1 Axes>"
      ]
     },
     "metadata": {},
     "output_type": "display_data"
    }
   ],
   "source": [
    "import numpy as np\n",
    "def rw(): # pos def metric\n",
    "            A = [[np.random.normal(loc = 0,scale = 1/np.sqrt(10)) for mm in range(10)] for pp in range(10)]\n",
    "            A = np.array(A)\n",
    "            #A = [[np.random.normal(size=(self.nmod,self.nmod), scale = self.sigma)]]\n",
    "            #A = np.array([[self.sigma*mpm.sqrt(mpf(2))*mpm.erfinv(mpf(2)*mpm.rand()-mpf(1)) for i in range(self.nmod)] for j in range(self.nmod)])\n",
    "            #mpm addition\n",
    "            #A = np.array([[mpm.npdf(0,self.sigma) for i in range(self.nmod)] for j in range(self.nmod)])\n",
    "            #print \"metric test\\n\", A\n",
    "            return np.dot(A,A.transpose())\n",
    "def rv():\n",
    "            A = [np.random.normal(loc = 0,scale = 1/np.sqrt(10)) for mm in range(10)]\n",
    "            return np.array(A)\n",
    "randomdats = []\n",
    "for i in range(100000):\n",
    "    met = rw()\n",
    "    rvi = rv()\n",
    "    rvo = rv()\n",
    "    randomdats.append(np.log10(np.abs(np.dot(rvo,np.dot(rvi,met)))))\n",
    "pyplot.hist(randomdats)\n",
    "pyplot.show()"
   ]
  },
  {
   "cell_type": "code",
   "execution_count": 146,
   "metadata": {},
   "outputs": [
    {
     "data": {
      "image/png": "[encoded data removed]",
      "text/plain": [
       "<Figure size 432x288 with 1 Axes>"
      ]
     },
     "metadata": {},
     "output_type": "display_data"
    }
   ],
   "source": [
    "pyplot.hist(randomdats, color = \"orange\")\n",
    "pyplot.show()"
   ]
  },
  {
   "cell_type": "code",
   "execution_count": 115,
   "metadata": {},
   "outputs": [
    {
     "ename": "TypeError",
     "evalue": "cannot perform reduce with flexible type",
     "output_type": "error",
     "traceback": [
      "\u001b[0;31m---------------------------------------------------------------------------\u001b[0m",
      "\u001b[0;31mTypeError\u001b[0m                                 Traceback (most recent call last)",
      "\u001b[0;32m<ipython-input-115-78dd41bbdd01>\u001b[0m in \u001b[0;36m<module>\u001b[0;34m()\u001b[0m\n\u001b[1;32m      6\u001b[0m \u001b[0;31m#x = np.random.randn(10000)\u001b[0m\u001b[0;34m\u001b[0m\u001b[0;34m\u001b[0m\u001b[0m\n\u001b[1;32m      7\u001b[0m \u001b[0;31m#counts,bin_edges = np.histogram(x,20)\u001b[0m\u001b[0;34m\u001b[0m\u001b[0;34m\u001b[0m\u001b[0m\n\u001b[0;32m----> 8\u001b[0;31m \u001b[0mcounts\u001b[0m\u001b[0;34m,\u001b[0m\u001b[0mbin_edges\u001b[0m \u001b[0;34m=\u001b[0m \u001b[0mnp\u001b[0m\u001b[0;34m.\u001b[0m\u001b[0mhistogram\u001b[0m\u001b[0;34m(\u001b[0m\u001b[0mS2outgroups\u001b[0m\u001b[0;34m,\u001b[0m\u001b[0;36m9\u001b[0m\u001b[0;34m)\u001b[0m\u001b[0;34m\u001b[0m\u001b[0m\n\u001b[0m\u001b[1;32m      9\u001b[0m \u001b[0mbin_centres\u001b[0m \u001b[0;34m=\u001b[0m \u001b[0;34m(\u001b[0m\u001b[0mbin_edges\u001b[0m\u001b[0;34m[\u001b[0m\u001b[0;34m:\u001b[0m\u001b[0;34m-\u001b[0m\u001b[0;36m1\u001b[0m\u001b[0;34m]\u001b[0m \u001b[0;34m+\u001b[0m \u001b[0mbin_edges\u001b[0m\u001b[0;34m[\u001b[0m\u001b[0;36m1\u001b[0m\u001b[0;34m:\u001b[0m\u001b[0;34m]\u001b[0m\u001b[0;34m)\u001b[0m\u001b[0;34m/\u001b[0m\u001b[0;36m2.\u001b[0m\u001b[0;34m\u001b[0m\u001b[0m\n\u001b[1;32m     10\u001b[0m \u001b[0;31m#err = np.random.rand(bin_centres.size)*100\u001b[0m\u001b[0;34m\u001b[0m\u001b[0;34m\u001b[0m\u001b[0m\n",
      "\u001b[0;32m/Users/cody/anaconda2/lib/python2.7/site-packages/numpy/lib/histograms.pyc\u001b[0m in \u001b[0;36mhistogram\u001b[0;34m(a, bins, range, normed, weights, density)\u001b[0m\n\u001b[1;32m    708\u001b[0m     \u001b[0ma\u001b[0m\u001b[0;34m,\u001b[0m \u001b[0mweights\u001b[0m \u001b[0;34m=\u001b[0m \u001b[0m_ravel_and_check_weights\u001b[0m\u001b[0;34m(\u001b[0m\u001b[0ma\u001b[0m\u001b[0;34m,\u001b[0m \u001b[0mweights\u001b[0m\u001b[0;34m)\u001b[0m\u001b[0;34m\u001b[0m\u001b[0m\n\u001b[1;32m    709\u001b[0m \u001b[0;34m\u001b[0m\u001b[0m\n\u001b[0;32m--> 710\u001b[0;31m     \u001b[0mbin_edges\u001b[0m\u001b[0;34m,\u001b[0m \u001b[0muniform_bins\u001b[0m \u001b[0;34m=\u001b[0m \u001b[0m_get_bin_edges\u001b[0m\u001b[0;34m(\u001b[0m\u001b[0ma\u001b[0m\u001b[0;34m,\u001b[0m \u001b[0mbins\u001b[0m\u001b[0;34m,\u001b[0m \u001b[0mrange\u001b[0m\u001b[0;34m,\u001b[0m \u001b[0mweights\u001b[0m\u001b[0;34m)\u001b[0m\u001b[0;34m\u001b[0m\u001b[0m\n\u001b[0m\u001b[1;32m    711\u001b[0m \u001b[0;34m\u001b[0m\u001b[0m\n\u001b[1;32m    712\u001b[0m     \u001b[0;31m# Histogram is an integer or a float array depending on the weights.\u001b[0m\u001b[0;34m\u001b[0m\u001b[0;34m\u001b[0m\u001b[0m\n",
      "\u001b[0;32m/Users/cody/anaconda2/lib/python2.7/site-packages/numpy/lib/histograms.pyc\u001b[0m in \u001b[0;36m_get_bin_edges\u001b[0;34m(a, bins, range, weights)\u001b[0m\n\u001b[1;32m    361\u001b[0m             \u001b[0;32mraise\u001b[0m \u001b[0mValueError\u001b[0m\u001b[0;34m(\u001b[0m\u001b[0;34m'`bins` must be positive, when an integer'\u001b[0m\u001b[0;34m)\u001b[0m\u001b[0;34m\u001b[0m\u001b[0m\n\u001b[1;32m    362\u001b[0m \u001b[0;34m\u001b[0m\u001b[0m\n\u001b[0;32m--> 363\u001b[0;31m         \u001b[0mfirst_edge\u001b[0m\u001b[0;34m,\u001b[0m \u001b[0mlast_edge\u001b[0m \u001b[0;34m=\u001b[0m \u001b[0m_get_outer_edges\u001b[0m\u001b[0;34m(\u001b[0m\u001b[0ma\u001b[0m\u001b[0;34m,\u001b[0m \u001b[0mrange\u001b[0m\u001b[0;34m)\u001b[0m\u001b[0;34m\u001b[0m\u001b[0m\n\u001b[0m\u001b[1;32m    364\u001b[0m \u001b[0;34m\u001b[0m\u001b[0m\n\u001b[1;32m    365\u001b[0m     \u001b[0;32melif\u001b[0m \u001b[0mnp\u001b[0m\u001b[0;34m.\u001b[0m\u001b[0mndim\u001b[0m\u001b[0;34m(\u001b[0m\u001b[0mbins\u001b[0m\u001b[0;34m)\u001b[0m \u001b[0;34m==\u001b[0m \u001b[0;36m1\u001b[0m\u001b[0;34m:\u001b[0m\u001b[0;34m\u001b[0m\u001b[0m\n",
      "\u001b[0;32m/Users/cody/anaconda2/lib/python2.7/site-packages/numpy/lib/histograms.pyc\u001b[0m in \u001b[0;36m_get_outer_edges\u001b[0;34m(a, range)\u001b[0m\n\u001b[1;32m    256\u001b[0m         \u001b[0mfirst_edge\u001b[0m\u001b[0;34m,\u001b[0m \u001b[0mlast_edge\u001b[0m \u001b[0;34m=\u001b[0m \u001b[0;36m0\u001b[0m\u001b[0;34m,\u001b[0m \u001b[0;36m1\u001b[0m\u001b[0;34m\u001b[0m\u001b[0m\n\u001b[1;32m    257\u001b[0m     \u001b[0;32melse\u001b[0m\u001b[0;34m:\u001b[0m\u001b[0;34m\u001b[0m\u001b[0m\n\u001b[0;32m--> 258\u001b[0;31m         \u001b[0mfirst_edge\u001b[0m\u001b[0;34m,\u001b[0m \u001b[0mlast_edge\u001b[0m \u001b[0;34m=\u001b[0m \u001b[0ma\u001b[0m\u001b[0;34m.\u001b[0m\u001b[0mmin\u001b[0m\u001b[0;34m(\u001b[0m\u001b[0;34m)\u001b[0m\u001b[0;34m,\u001b[0m \u001b[0ma\u001b[0m\u001b[0;34m.\u001b[0m\u001b[0mmax\u001b[0m\u001b[0;34m(\u001b[0m\u001b[0;34m)\u001b[0m\u001b[0;34m\u001b[0m\u001b[0m\n\u001b[0m\u001b[1;32m    259\u001b[0m         \u001b[0;32mif\u001b[0m \u001b[0;32mnot\u001b[0m \u001b[0;34m(\u001b[0m\u001b[0mnp\u001b[0m\u001b[0;34m.\u001b[0m\u001b[0misfinite\u001b[0m\u001b[0;34m(\u001b[0m\u001b[0mfirst_edge\u001b[0m\u001b[0;34m)\u001b[0m \u001b[0;32mand\u001b[0m \u001b[0mnp\u001b[0m\u001b[0;34m.\u001b[0m\u001b[0misfinite\u001b[0m\u001b[0;34m(\u001b[0m\u001b[0mlast_edge\u001b[0m\u001b[0;34m)\u001b[0m\u001b[0;34m)\u001b[0m\u001b[0;34m:\u001b[0m\u001b[0;34m\u001b[0m\u001b[0m\n\u001b[1;32m    260\u001b[0m             raise ValueError(\n",
      "\u001b[0;32m/Users/cody/anaconda2/lib/python2.7/site-packages/numpy/core/_methods.pyc\u001b[0m in \u001b[0;36m_amin\u001b[0;34m(a, axis, out, keepdims, initial)\u001b[0m\n\u001b[1;32m     30\u001b[0m def _amin(a, axis=None, out=None, keepdims=False,\n\u001b[1;32m     31\u001b[0m           initial=_NoValue):\n\u001b[0;32m---> 32\u001b[0;31m     \u001b[0;32mreturn\u001b[0m \u001b[0mumr_minimum\u001b[0m\u001b[0;34m(\u001b[0m\u001b[0ma\u001b[0m\u001b[0;34m,\u001b[0m \u001b[0maxis\u001b[0m\u001b[0;34m,\u001b[0m \u001b[0mNone\u001b[0m\u001b[0;34m,\u001b[0m \u001b[0mout\u001b[0m\u001b[0;34m,\u001b[0m \u001b[0mkeepdims\u001b[0m\u001b[0;34m,\u001b[0m \u001b[0minitial\u001b[0m\u001b[0;34m)\u001b[0m\u001b[0;34m\u001b[0m\u001b[0m\n\u001b[0m\u001b[1;32m     33\u001b[0m \u001b[0;34m\u001b[0m\u001b[0m\n\u001b[1;32m     34\u001b[0m def _sum(a, axis=None, dtype=None, out=None, keepdims=False,\n",
      "\u001b[0;31mTypeError\u001b[0m: cannot perform reduce with flexible type"
     ]
    }
   ],
   "source": [
    "\n",
    "\n",
    "S2outgroups = [dataset['Go'][ii] for ii in range(len(dataset)) if dataset['Ginf'][ii] == 9 \n",
    "               and dataset['logCrat'][ii] > -1]\n",
    "#pyplot.hist(S2outgroups)\n",
    "#x = np.random.randn(10000)\n",
    "#counts,bin_edges = np.histogram(x,20)\n",
    "counts,bin_edges = np.histogram(S2outgroups,9)\n",
    "bin_centres = (bin_edges[:-1] + bin_edges[1:])/2.\n",
    "#err = np.random.rand(bin_centres.size)*100\n",
    "#pyplot.errorbar(bin_centres, counts, yerr=err, fmt='o')\n",
    "pyplot.errorbar(bin_centres, counts, fmt='o')\n",
    "\n",
    "#pp.show()\n",
    "\n",
    "pyplot.show()\n"
   ]
  },
  {
   "cell_type": "code",
   "execution_count": 148,
   "metadata": {},
   "outputs": [
    {
     "data": {
      "text/plain": [
       "([<matplotlib.axis.XTick at 0x1251110d0>,\n",
       "  <matplotlib.axis.XTick at 0x11bc43850>,\n",
       "  <matplotlib.axis.XTick at 0x12510c4d0>,\n",
       "  <matplotlib.axis.XTick at 0x125eec650>,\n",
       "  <matplotlib.axis.XTick at 0x125eecb90>,\n",
       "  <matplotlib.axis.XTick at 0x125eda110>,\n",
       "  <matplotlib.axis.XTick at 0x11ed8e4d0>,\n",
       "  <matplotlib.axis.XTick at 0x125eda2d0>],\n",
       " <a list of 8 Text xticklabel objects>)"
      ]
     },
     "execution_count": 148,
     "metadata": {},
     "output_type": "execute_result"
    }
   ],
   "source": [
    "import pandas as pandas\n",
    "from collections import Counter\n",
    "pyplot.rc('text', usetex=True)\n",
    "pyplot.rc('font', family='serif')\n",
    "pyplot.tick_params(labelsize=15)\n",
    "pyplot.gcf().subplots_adjust(bottom=0.25)\n",
    "pyplot.gcf().subplots_adjust(left=0.25)\n",
    "pyplot.xlabel(r'Gauge Group',fontsize = 20)\n",
    "pyplot.ylabel(r'Frequency',fontsize = 20)\n",
    "\n",
    "\n",
    "#df = pandas.DataFrame.from_dict(letter_counts, orient='index')\n",
    "pandas.Series(Counter(S2outgroups)).plot(kind='bar')\n",
    "locs, labels = pyplot.xticks()\n",
    "pyplot.xticks(locs, ['$E_6$','$E_7$','$E_8$','$F_4$','$G_2$','$SU(2)$','$SU(3)$','$SO(7)$'])\n",
    "#df.plot(kind='bar')\n",
    "#pyplot.show()"
   ]
  },
  {
   "cell_type": "code",
   "execution_count": 149,
   "metadata": {
    "collapsed": true
   },
   "outputs": [],
   "source": [
    "pyplot.savefig('/Users/cody/Dropbox/axionmixing/Draft/gaugegroups.pdf')"
   ]
  },
  {
   "cell_type": "code",
   "execution_count": 135,
   "metadata": {},
   "outputs": [
    {
     "ename": "ValueError",
     "evalue": "'1' is not in list",
     "output_type": "error",
     "traceback": [
      "\u001b[0;31m---------------------------------------------------------------------------\u001b[0m",
      "\u001b[0;31mValueError\u001b[0m                                Traceback (most recent call last)",
      "\u001b[0;32m<ipython-input-135-c6b12ffc632a>\u001b[0m in \u001b[0;36m<module>\u001b[0;34m()\u001b[0m\n\u001b[1;32m      1\u001b[0m \u001b[0mcounts\u001b[0m\u001b[0;34m\u001b[0m\u001b[0m\n\u001b[1;32m      2\u001b[0m \u001b[0mS2outgroups\u001b[0m\u001b[0;34m[\u001b[0m\u001b[0;36m17716\u001b[0m\u001b[0;34m]\u001b[0m \u001b[0;34m=\u001b[0m \u001b[0;34m'E8'\u001b[0m\u001b[0;34m\u001b[0m\u001b[0m\n\u001b[0;32m----> 3\u001b[0;31m \u001b[0;32mprint\u001b[0m \u001b[0mS2outgroups\u001b[0m\u001b[0;34m.\u001b[0m\u001b[0mindex\u001b[0m\u001b[0;34m(\u001b[0m\u001b[0;34m'1'\u001b[0m\u001b[0;34m)\u001b[0m\u001b[0;34m\u001b[0m\u001b[0m\n\u001b[0m\u001b[1;32m      4\u001b[0m \u001b[0;32mprint\u001b[0m \u001b[0mlen\u001b[0m\u001b[0;34m(\u001b[0m\u001b[0mS2outgroups\u001b[0m\u001b[0;34m)\u001b[0m\u001b[0;34m\u001b[0m\u001b[0m\n",
      "\u001b[0;31mValueError\u001b[0m: '1' is not in list"
     ]
    }
   ],
   "source": [
    "counts\n",
    "S2outgroups[17716] = 'E8'\n",
    "print S2outgroups.index('1')\n",
    "print len(S2outgroups)"
   ]
  },
  {
   "cell_type": "code",
   "execution_count": 115,
   "metadata": {},
   "outputs": [
    {
     "data": {
      "image/png": "[encoded data removed]",
      "text/plain": [
       "<Figure size 432x288 with 1 Axes>"
      ]
     },
     "metadata": {},
     "output_type": "display_data"
    }
   ],
   "source": [
    "#what does s2 reheat into?\n",
    "import numpy as np\n",
    "\n",
    "def bins_labels(bins, **kwargs):\n",
    "    bin_w = (max(bins) - min(bins)) / (len(bins) - 1)\n",
    "    plt.xticks(np.arange(min(bins)+bin_w/2, max(bins), bin_w), bins, **kwargs)\n",
    "    plt.xlim(bins[0], bins[-1])\n",
    "    \n",
    "import matplotlib.pyplot as plt\n",
    "bins = range(1,11)\n",
    "plt.hist(S2outgroups, bins=bins)\n",
    "bins_labels(bins, fontsize=20)\n",
    "plt.show()"
   ]
  },
  {
   "cell_type": "markdown",
   "metadata": {},
   "source": [
    "S2outgroups"
   ]
  },
  {
   "cell_type": "code",
   "execution_count": 34,
   "metadata": {},
   "outputs": [
    {
     "ename": "NameError",
     "evalue": "name 'S2outgroups' is not defined",
     "output_type": "error",
     "traceback": [
      "\u001b[0;31m---------------------------------------------------------------------------\u001b[0m",
      "\u001b[0;31mNameError\u001b[0m                                 Traceback (most recent call last)",
      "\u001b[0;32m<ipython-input-34-b5678d675be6>\u001b[0m in \u001b[0;36m<module>\u001b[0;34m()\u001b[0m\n\u001b[0;32m----> 1\u001b[0;31m \u001b[0;32mprint\u001b[0m \u001b[0mS2outgroups\u001b[0m\u001b[0;34m\u001b[0m\u001b[0m\n\u001b[0m",
      "\u001b[0;31mNameError\u001b[0m: name 'S2outgroups' is not defined"
     ]
    }
   ],
   "source": [
    "print S2outgroups"
   ]
  },
  {
   "cell_type": "code",
   "execution_count": 163,
   "metadata": {},
   "outputs": [
    {
     "data": {
      "image/png": "[encoded data removed]",
      "text/plain": [
       "<Figure size 432x288 with 1 Axes>"
      ]
     },
     "metadata": {},
     "output_type": "display_data"
    }
   ],
   "source": [
    "#what does s3 reheat into?\n",
    "S3outgroups = [dataset['Go'][ii] for ii in range(len(dataset)) if dataset['Ginf'][ii] == 8 \n",
    "               and dataset['logCrat'][ii] > -1]\n",
    "pyplot.hist(S3outgroups)\n",
    "pyplot.show()\n"
   ]
  },
  {
   "cell_type": "code",
   "execution_count": 164,
   "metadata": {},
   "outputs": [
    {
     "data": {
      "image/png": "[encoded data removed]",
      "text/plain": [
       "<Figure size 432x288 with 1 Axes>"
      ]
     },
     "metadata": {},
     "output_type": "display_data"
    }
   ],
   "source": [
    "#volumes of su2 cycles:\n",
    "S2taus = [dataset['logVinf'][ii] for ii in range(len(dataset)) if dataset['Ginf'][ii] == 9]\n",
    "#pyplot.hist(S2outgroups)\n",
    "#x = np.random.randn(10000)\n",
    "#counts,bin_edges = np.histogram(x,20)\n",
    "pyplot.hist(S2taus)\n",
    "pyplot.show()"
   ]
  },
  {
   "cell_type": "code",
   "execution_count": 41,
   "metadata": {
    "collapsed": true
   },
   "outputs": [],
   "source": [
    "#make the single geometriy plit\n",
    "onedat = [-0.971392, -10.8897, -10.0421, 0., -6.85554, -11.3669, -8.1478, \n",
    "-10.8897, -10.6399, -9.82759, -8.93059, -10.7068, -9.88804, -5.82429, \n",
    "-0.368086, -9.42553, -4.93968, -7.09976, -8.52052, -7.30239, \n",
    "-10.2365, -2.61822, -10.8897, -8.98126, -10.145, -1.64038, -10.6399, -0.826784, -2.84291, -10.9567, -9.01909, -10.1072, -9.48186, \\\n",
    "-9.57282, -4.48091, -1.7823, -10.7068, -8.91659, -9.91777, -9.65445, \n",
    "-1.07686, -5.22656, -5.60034, -10.5607, -3.0678, -4.72534, -10.6399, \n",
    "-10.8106, -5.8751, -10.0244, -2.48639, -10.6399, 0.0366211, -9.94967, \n",
    "-10.7068, -3.75377, -9.4815, -7.93207, -4.86188, -9.18502, -8.68145, \n",
    "-4.63676, -8.44292, -10.097, -10.3756, -8.49064, -6.57745, -1.746, \n",
    "0.87925]"
   ]
  },
  {
   "cell_type": "code",
   "execution_count": 50,
   "metadata": {},
   "outputs": [
    {
     "data": {
      "text/plain": [
       "Text(0,0.5,'Frequency')"
      ]
     },
     "execution_count": 50,
     "metadata": {},
     "output_type": "execute_result"
    }
   ],
   "source": [
    "import pandas as pandas\n",
    "from collections import Counter\n",
    "pyplot.rc('text', usetex=True)\n",
    "pyplot.rc('font', family='serif')\n",
    "pyplot.tick_params(labelsize=15)\n",
    "pyplot.gcf().subplots_adjust(bottom=0.20)\n",
    "pyplot.hist(onedat,color = 'C0')\n",
    "pyplot.xlabel(r'$R^{\\alpha}_{\\check{\\alpha}}$',fontsize = 20)\n",
    "pyplot.ylabel(r'Frequency',fontsize = 20)"
   ]
  },
  {
   "cell_type": "code",
   "execution_count": 51,
   "metadata": {
    "collapsed": true
   },
   "outputs": [],
   "source": [
    "#pyplot.show()\n",
    "pyplot.savefig('/Users/cody/Dropbox/axionmixing/Draft/singlegeom.pdf')"
   ]
  },
  {
   "cell_type": "code",
   "execution_count": 38,
   "metadata": {},
   "outputs": [
    {
     "data": {
      "text/plain": [
       "[0.106809,\n",
       " 1.28901e-11,\n",
       " 9.07686e-11,\n",
       " 1.0,\n",
       " 1.39463e-07,\n",
       " 4.29674e-12,\n",
       " 7.11539e-09,\n",
       " 1.28902e-11,\n",
       " 2.29159e-11,\n",
       " 1.48733e-10,\n",
       " 1.1733e-09,\n",
       " 1.96422e-11,\n",
       " 1.29408e-10,\n",
       " 1.49869e-06,\n",
       " 0.428464,\n",
       " 3.75378e-10,\n",
       " 1.149e-05,\n",
       " 7.94774e-08,\n",
       " 3.01633e-09,\n",
       " 4.9844e-08,\n",
       " 5.80059e-11,\n",
       " 0.00240868,\n",
       " 1.28902e-11,\n",
       " 1.04411e-09,\n",
       " 7.16123e-11,\n",
       " 0.0228886,\n",
       " 2.29159e-11,\n",
       " 0.14901,\n",
       " 0.0014358,\n",
       " 1.10488e-11,\n",
       " 9.57e-10,\n",
       " 7.81225e-11,\n",
       " 3.29718e-10,\n",
       " 2.67409e-10,\n",
       " 3.30436e-05,\n",
       " 0.0165081,\n",
       " 1.96422e-11,\n",
       " 1.21174e-09,\n",
       " 1.20846e-10,\n",
       " 2.21589e-10,\n",
       " 0.0837805,\n",
       " 5.93524e-06,\n",
       " 2.50993e-06,\n",
       " 2.74991e-11,\n",
       " 0.000855465,\n",
       " 1.88216e-05,\n",
       " 2.29159e-11,\n",
       " 1.54683e-11,\n",
       " 1.33321e-06,\n",
       " 9.45282e-11,\n",
       " 0.00326295,\n",
       " 2.29159e-11,\n",
       " 1.08798,\n",
       " 1.12288e-10,\n",
       " 1.96422e-11,\n",
       " 0.00017629,\n",
       " 3.29989e-10,\n",
       " 1.16931e-08,\n",
       " 1.37442e-05,\n",
       " 6.53104e-10,\n",
       " 2.08233e-09,\n",
       " 2.30803e-05,\n",
       " 3.60644e-09,\n",
       " 7.99854e-11,\n",
       " 4.2108e-11,\n",
       " 3.23117e-09,\n",
       " 2.64577e-07,\n",
       " 0.0179474,\n",
       " 7.57268]"
      ]
     },
     "execution_count": 38,
     "metadata": {},
     "output_type": "execute_result"
    }
   ],
   "source": [
    "onedat"
   ]
  },
  {
   "cell_type": "code",
   "execution_count": 76,
   "metadata": {
    "collapsed": true
   },
   "outputs": [],
   "source": [
    "#heat map for all of the gauge group\n",
    "outgroups = [[0 for i in range(8)] for j in range(8)]\n",
    "for ii in range(len(dataset)):\n",
    "    if  dataset['logCrat'][ii] >= -1 and dataset['Ginf'][ii] != '1' and dataset['Go'][ii] != '1':\n",
    "        outgroups[int(group_map[dataset['Ginf'][ii]]) - 1][int(group_map[dataset['Go'][ii]]) - 1] += 1\n",
    "        \n",
    "#outgroups = [[dataset['Ginf'][ii], dataset['Go'][ii],dataset['logCrat'][ii] ] for ii in range(len(dataset)) if \n",
    "              #dataset['logCrat'][ii] > -1]\n",
    "#pyplot.hist(S2outgroups)\n",
    "#x = np.random.randn(10000)\n",
    "#counts,bin_edges = np.histogram(x,20)\n",
    "#counts,bin_edges = np.histogram(S2outgroups,9)\n",
    "#bin_centres = (bin_edges[:-1] + bin_edges[1:])/2.\n",
    "#err = np.random.rand(bin_centres.size)*100\n",
    "#pyplot.errorbar(bin_centres, counts, yerr=err, fmt='o')\n",
    "#pyplot.errorbar(bin_centres, counts, fmt='o')\n",
    "\n",
    "#pp.show()\n",
    "\n",
    "#pyplot.show()\n"
   ]
  },
  {
   "cell_type": "code",
   "execution_count": null,
   "metadata": {
    "collapsed": true
   },
   "outputs": [],
   "source": [
    "uniform_data = np.random.rand(10, 12)"
   ]
  },
  {
   "cell_type": "code",
   "execution_count": 77,
   "metadata": {},
   "outputs": [
    {
     "data": {
      "text/plain": [
       "[[33410, 715, 168, 1327, 399, 32, 41, 1118],\n",
       " [578, 397, 10, 108, 172, 104, 12, 100],\n",
       " [2424, 49, 76, 111, 32, 8, 34, 51],\n",
       " [3501, 115, 44, 646, 450, 13, 54, 180],\n",
       " [1530, 187, 5, 515, 225, 11, 11, 4473],\n",
       " [442, 181, 2, 50, 32, 37, 8, 72],\n",
       " [336, 32, 92, 87, 20, 4, 59, 34],\n",
       " [641, 77, 20, 142, 11968, 54, 23, 8443]]"
      ]
     },
     "execution_count": 77,
     "metadata": {},
     "output_type": "execute_result"
    }
   ],
   "source": [
    "outgroups"
   ]
  },
  {
   "cell_type": "code",
   "execution_count": 75,
   "metadata": {
    "collapsed": true
   },
   "outputs": [],
   "source": [
    "group_map = {\"E8\": 1, \"E7\": 2, \"E6\": 3, \"F4\": 4, \"G2\": 5, \"SO7\": 6, \"S3\": 7, \"S2\": 8 }"
   ]
  },
  {
   "cell_type": "code",
   "execution_count": 74,
   "metadata": {},
   "outputs": [
    {
     "data": {
      "text/plain": [
       "{'E6': 3,\n",
       " 'E7': 2,\n",
       " 'E8': 1,\n",
       " 'F4': 4,\n",
       " 'G2': 5,\n",
       " 'S2': 9,\n",
       " 'S3': 8,\n",
       " 'SO7': 7,\n",
       " 'SO8': 6}"
      ]
     },
     "execution_count": 74,
     "metadata": {},
     "output_type": "execute_result"
    }
   ],
   "source": [
    "group_map"
   ]
  },
  {
   "cell_type": "code",
   "execution_count": null,
   "metadata": {
    "collapsed": true
   },
   "outputs": [],
   "source": []
  }
 ],
 "metadata": {
  "kernelspec": {
   "display_name": "Python 2",
   "language": "python",
   "name": "python2"
  },
  "language_info": {
   "codemirror_mode": {
    "name": "ipython",
    "version": 2
   },
   "file_extension": ".py",
   "mimetype": "text/x-python",
   "name": "python",
   "nbconvert_exporter": "python",
   "pygments_lexer": "ipython2",
   "version": "2.7.13"
  }
 },
 "nbformat": 4,
 "nbformat_minor": 2
}
